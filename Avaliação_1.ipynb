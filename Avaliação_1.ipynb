{
  "nbformat": 4,
  "nbformat_minor": 0,
  "metadata": {
    "colab": {
      "name": "Avaliação_1.ipynb",
      "provenance": [],
      "include_colab_link": true
    },
    "kernelspec": {
      "name": "python3",
      "display_name": "Python 3"
    },
    "language_info": {
      "name": "python"
    }
  },
  "cells": [
    {
      "cell_type": "markdown",
      "metadata": {
        "id": "view-in-github",
        "colab_type": "text"
      },
      "source": [
        "<a href=\"https://colab.research.google.com/github/Le4o/topicos-avancados-ic/blob/main/Avalia%C3%A7%C3%A3o_1.ipynb\" target=\"_parent\"><img src=\"https://colab.research.google.com/assets/colab-badge.svg\" alt=\"Open In Colab\"/></a>"
      ]
    },
    {
      "cell_type": "markdown",
      "metadata": {
        "id": "ph2GsBsm71kL"
      },
      "source": [
        "# Avaliação 1\n",
        "#### Exercício da matéria de Tópicos Avançados em Inteligência Computacional\n",
        "\n",
        "Grupo:\n",
        "- João Victor de Sledz Bulhões\n",
        "- Leonardo de Andrade Santana\n",
        "- Lis da Silva Azevedo"
      ]
    },
    {
      "cell_type": "markdown",
      "metadata": {
        "id": "aCjtVa-V8-Qq"
      },
      "source": [
        "### Definição do Exercício\n",
        "Utilizaremos o banco de dados do Human Activity Recognition with Smartphones, que foi construído a partir das gravações dos participantes do estudo realizando atividades da vida diária enquanto carregavam um smartphone com sensores inerciais embutidos. Para cada registro no conjunto de dados, é fornecido:\n",
        "\n",
        "- Aceleração triaxial do acelerômetro (aceleração total) e a aceleração corporal estimada.\n",
        "\n",
        "- Velocidade angular triaxial do giroscópio.\n",
        "\n",
        "- Um vetor de 561 atributos com variáveis de domínio de tempo e frequência.\n",
        "\n",
        "- O rótulo da atividade.\n",
        "\n",
        "### Objetivo:\n",
        "* Construir um modelo robusto para classificação das atividades diárias, utilizando o banco de dados fornecido, em uma das seis ações disponíveis:\n",
        "> 1. caminhar;\n",
        "> 2. subir escadas;\n",
        "> 3. descer escadas;\n",
        "> 4. sentar;\n",
        "> 5. ficar em pé;\n",
        "> 6. deitar.\n",
        "\n",
        "* Desenvolver 4 modelos, utilizando:\n",
        "> 1. Multi-Layer Perceptron (MLP)\n",
        "> 2. Convolutional Neural Network (CNN)\n",
        "> 3. Recurrent Neural Network (RNN)\n",
        "> 4. Arquitetura hibrida com a combinação das redes anteriore\n",
        "\n",
        "* Considere a divisão entre treinamento, validação e teste de 50%, 25% e 25%, respectivamente.\n",
        "\n",
        "* Utilizar como métricas: **precision, recall, specificity,\n",
        "F1-Score e accuracy**, evidenciando que o modelo não sofreu de **over/underfitting**.\n",
        "\n",
        "### Observação: \n",
        "*   *Apresentação de métricas, gráficos, são essenciais para entendimento dos modelos e justificativas.*\n",
        "*   *Compare ao final em uma tabela e apresente que técnica obteve os melhores\n",
        "resultados, discutindo-os à luz de seu conhecimento sobre o assunto, discutindo\n",
        "se eram resultados esperados, se estão adequados, e os porquês.*\n",
        "\n",
        "### Opcionais:\n",
        "\n",
        "*   A utilização de redes neurais baseadas em transformers é opcional e adicionará **1,0 ponto extra** ao projeto.\n",
        "*   A utilização de pré-processamento das séries com Wavelets OU transformadas de Fourier adicionará **1,0 ponto extra** ao projeto.\n",
        "\n",
        "\n",
        "### Link:\n",
        "\n",
        "* [Mais informações sobre os recursos estão disponíveis no site](https://archive.ics.uci.edu/ml/datasets/Human+Activity+Recognition+Using+Smartphones) \n"
      ]
    },
    {
      "cell_type": "code",
      "metadata": {
        "colab": {
          "base_uri": "https://localhost:8080/"
        },
        "id": "1UF0cRGhDgiY",
        "outputId": "d94de16f-0405-4462-902a-1c2b62b1e7f5"
      },
      "source": [
        "from google.colab import drive\n",
        "drive.mount('/content/drive/')\n",
        "%cd /content/drive/My Drive/Datasets"
      ],
      "execution_count": 97,
      "outputs": [
        {
          "output_type": "stream",
          "name": "stdout",
          "text": [
            "Drive already mounted at /content/drive/; to attempt to forcibly remount, call drive.mount(\"/content/drive/\", force_remount=True).\n",
            "/content/drive/My Drive/Datasets\n"
          ]
        }
      ]
    },
    {
      "cell_type": "markdown",
      "metadata": {
        "id": "j9Y0uE6G8Cq7"
      },
      "source": [
        ""
      ]
    },
    {
      "cell_type": "code",
      "metadata": {
        "id": "oPcy7yBBJkXe",
        "colab": {
          "base_uri": "https://localhost:8080/"
        },
        "outputId": "71115c13-23d7-426a-b6ec-faab4a338942"
      },
      "source": [
        "!pip install tensorflow_addons keras_metrics\n",
        "import numpy as np \n",
        "import pandas as pd \n",
        "import tensorflow as tf\n",
        "import tensorflow_addons as tfa\n",
        "import keras_metrics\n",
        "import matplotlib.pyplot as plt\n",
        "from tensorflow import keras\n",
        "from tensorflow.keras.models import Sequential\n",
        "from tensorflow.keras import layers\n",
        "from keras.layers.convolutional import Conv1D\n",
        "from tensorflow.keras.layers import Dense, Dropout, MaxPooling1D, Flatten\n",
        "from tensorflow.keras.utils import to_categorical\n",
        "from tensorflow.keras.metrics import Precision, Recall\n",
        "from tensorflow_addons.metrics import F1Score\n",
        "from sklearn.preprocessing import LabelEncoder, MinMaxScaler\n",
        "from sklearn.metrics import accuracy_score, precision_score, recall_score, f1_score\n",
        "tf.get_logger().setLevel('ERROR')"
      ],
      "execution_count": 98,
      "outputs": [
        {
          "output_type": "stream",
          "name": "stdout",
          "text": [
            "Requirement already satisfied: tensorflow_addons in /usr/local/lib/python3.7/dist-packages (0.15.0)\n",
            "Requirement already satisfied: keras_metrics in /usr/local/lib/python3.7/dist-packages (1.1.0)\n",
            "Requirement already satisfied: typeguard>=2.7 in /usr/local/lib/python3.7/dist-packages (from tensorflow_addons) (2.7.1)\n",
            "Requirement already satisfied: Keras>=2.1.5 in /usr/local/lib/python3.7/dist-packages (from keras_metrics) (2.7.0)\n"
          ]
        }
      ]
    },
    {
      "cell_type": "markdown",
      "metadata": {
        "id": "1cc1HvZ173f4"
      },
      "source": [
        "## Carregando os dados\n",
        "\n",
        "O dataset fornecido é segmentado em **70% treino e 30% teste**, porém a atividade pede para segmentar em: **50% treino, 25% validação e 25% teste.** Então nos primeiramente juntamos os dados.\n"
      ]
    },
    {
      "cell_type": "code",
      "metadata": {
        "colab": {
          "base_uri": "https://localhost:8080/"
        },
        "id": "7yALQSUMD5W4",
        "outputId": "96359606-3b79-45a9-9503-4cc52fd24e89"
      },
      "source": [
        "# Carregando os dados diretamente dos csvs do Human Activity Recognition with Smartphones\n",
        "train_data = pd.read_csv('./uci_har_csvs/train.csv')\n",
        "test_data = pd.read_csv('./uci_har_csvs/test.csv')\n",
        "\n",
        "print(f'Shape of train data is: {train_data.shape}\\nShape of test data is: {test_data.shape}')\n",
        "\n",
        "data = train_data.append(test_data)\n",
        "data.shape\n",
        "\n",
        "print(f'Shape of combined data is {data.shape}')"
      ],
      "execution_count": 99,
      "outputs": [
        {
          "output_type": "stream",
          "name": "stdout",
          "text": [
            "Shape of train data is: (7352, 563)\n",
            "Shape of test data is: (2947, 563)\n",
            "Shape of combined data is (10299, 563)\n"
          ]
        }
      ]
    },
    {
      "cell_type": "markdown",
      "metadata": {
        "id": "QGe5x0Dw8IMt"
      },
      "source": [
        "## Analise inicial dos dados\n",
        "\n",
        "O dataset possui 6 classes, sendo elas:\n",
        "\n",
        "\n",
        "1.   Walking downstairs\n",
        "2.   Walking Upstairs\n",
        "3.   Walking\n",
        "4.   Sitting\n",
        "5.   Stading \n",
        "6.   Laying\n",
        "\n"
      ]
    },
    {
      "cell_type": "code",
      "metadata": {
        "id": "idSZzsaY20Yn",
        "colab": {
          "base_uri": "https://localhost:8080/",
          "height": 391
        },
        "outputId": "94d0ff9f-d65e-41fb-a450-f518fadbfca1"
      },
      "source": [
        "class_count = len(data['Activity'].unique())\n",
        "data['Activity'].value_counts().sort_values().plot(kind = 'bar', color = 'pink')"
      ],
      "execution_count": 100,
      "outputs": [
        {
          "output_type": "execute_result",
          "data": {
            "text/plain": [
              "<matplotlib.axes._subplots.AxesSubplot at 0x7efd4a8d5750>"
            ]
          },
          "metadata": {},
          "execution_count": 100
        },
        {
          "output_type": "display_data",
          "data": {
            "image/png": "[encoded data removed]",
            "text/plain": [
              "<Figure size 432x288 with 1 Axes>"
            ]
          },
          "metadata": {
            "needs_background": "light"
          }
        }
      ]
    },
    {
      "cell_type": "markdown",
      "metadata": {
        "id": "p6laf9fa7L6w"
      },
      "source": [
        "## Segmentação do Dataset\n",
        "\n",
        "50% treino, 25% validação e 25% teste\n"
      ]
    },
    {
      "cell_type": "code",
      "metadata": {
        "id": "bRW0Ytg_2hap",
        "colab": {
          "base_uri": "https://localhost:8080/",
          "height": 342
        },
        "outputId": "8966fccc-5cd9-429f-acb6-390041dfe71f"
      },
      "source": [
        "train, validate, test = \\\n",
        "              np.split(data.sample(frac=1, random_state=42), \n",
        "                       [int(.5*len(data)), int(.75*len(data))])\n",
        "              \n",
        "print(f'Shape of train data is {train.shape}')\n",
        "print(f'Shape of validation data is {validate.shape}')\n",
        "print(f'Shape of test data is {test.shape}')\n",
        "validate.head()"
      ],
      "execution_count": 101,
      "outputs": [
        {
          "output_type": "stream",
          "name": "stdout",
          "text": [
            "Shape of train data is (5149, 563)\n",
            "Shape of validation data is (2575, 563)\n",
            "Shape of test data is (2575, 563)\n"
          ]
        },
        {
          "output_type": "execute_result",
          "data": {
            "text/html": [
              "<div>\n",
              "<style scoped>\n",
              "    .dataframe tbody tr th:only-of-type {\n",
              "        vertical-align: middle;\n",
              "    }\n",
              "\n",
              "    .dataframe tbody tr th {\n",
              "        vertical-align: top;\n",
              "    }\n",
              "\n",
              "    .dataframe thead th {\n",
              "        text-align: right;\n",
              "    }\n",
              "</style>\n",
              "<table border=\"1\" class=\"dataframe\">\n",
              "  <thead>\n",
              "    <tr style=\"text-align: right;\">\n",
              "      <th></th>\n",
              "      <th>tBodyAcc-mean()-X</th>\n",
              "      <th>tBodyAcc-mean()-Y</th>\n",
              "      <th>tBodyAcc-mean()-Z</th>\n",
              "      <th>tBodyAcc-std()-X</th>\n",
              "      <th>tBodyAcc-std()-Y</th>\n",
              "      <th>tBodyAcc-std()-Z</th>\n",
              "      <th>tBodyAcc-mad()-X</th>\n",
              "      <th>tBodyAcc-mad()-Y</th>\n",
              "      <th>tBodyAcc-mad()-Z</th>\n",
              "      <th>tBodyAcc-max()-X</th>\n",
              "      <th>tBodyAcc-max()-Y</th>\n",
              "      <th>tBodyAcc-max()-Z</th>\n",
              "      <th>tBodyAcc-min()-X</th>\n",
              "      <th>tBodyAcc-min()-Y</th>\n",
              "      <th>tBodyAcc-min()-Z</th>\n",
              "      <th>tBodyAcc-sma()</th>\n",
              "      <th>tBodyAcc-energy()-X</th>\n",
              "      <th>tBodyAcc-energy()-Y</th>\n",
              "      <th>tBodyAcc-energy()-Z</th>\n",
              "      <th>tBodyAcc-iqr()-X</th>\n",
              "      <th>tBodyAcc-iqr()-Y</th>\n",
              "      <th>tBodyAcc-iqr()-Z</th>\n",
              "      <th>tBodyAcc-entropy()-X</th>\n",
              "      <th>tBodyAcc-entropy()-Y</th>\n",
              "      <th>tBodyAcc-entropy()-Z</th>\n",
              "      <th>tBodyAcc-arCoeff()-X,1</th>\n",
              "      <th>tBodyAcc-arCoeff()-X,2</th>\n",
              "      <th>tBodyAcc-arCoeff()-X,3</th>\n",
              "      <th>tBodyAcc-arCoeff()-X,4</th>\n",
              "      <th>tBodyAcc-arCoeff()-Y,1</th>\n",
              "      <th>tBodyAcc-arCoeff()-Y,2</th>\n",
              "      <th>tBodyAcc-arCoeff()-Y,3</th>\n",
              "      <th>tBodyAcc-arCoeff()-Y,4</th>\n",
              "      <th>tBodyAcc-arCoeff()-Z,1</th>\n",
              "      <th>tBodyAcc-arCoeff()-Z,2</th>\n",
              "      <th>tBodyAcc-arCoeff()-Z,3</th>\n",
              "      <th>tBodyAcc-arCoeff()-Z,4</th>\n",
              "      <th>tBodyAcc-correlation()-X,Y</th>\n",
              "      <th>tBodyAcc-correlation()-X,Z</th>\n",
              "      <th>tBodyAcc-correlation()-Y,Z</th>\n",
              "      <th>...</th>\n",
              "      <th>fBodyBodyAccJerkMag-entropy()</th>\n",
              "      <th>fBodyBodyAccJerkMag-maxInds</th>\n",
              "      <th>fBodyBodyAccJerkMag-meanFreq()</th>\n",
              "      <th>fBodyBodyAccJerkMag-skewness()</th>\n",
              "      <th>fBodyBodyAccJerkMag-kurtosis()</th>\n",
              "      <th>fBodyBodyGyroMag-mean()</th>\n",
              "      <th>fBodyBodyGyroMag-std()</th>\n",
              "      <th>fBodyBodyGyroMag-mad()</th>\n",
              "      <th>fBodyBodyGyroMag-max()</th>\n",
              "      <th>fBodyBodyGyroMag-min()</th>\n",
              "      <th>fBodyBodyGyroMag-sma()</th>\n",
              "      <th>fBodyBodyGyroMag-energy()</th>\n",
              "      <th>fBodyBodyGyroMag-iqr()</th>\n",
              "      <th>fBodyBodyGyroMag-entropy()</th>\n",
              "      <th>fBodyBodyGyroMag-maxInds</th>\n",
              "      <th>fBodyBodyGyroMag-meanFreq()</th>\n",
              "      <th>fBodyBodyGyroMag-skewness()</th>\n",
              "      <th>fBodyBodyGyroMag-kurtosis()</th>\n",
              "      <th>fBodyBodyGyroJerkMag-mean()</th>\n",
              "      <th>fBodyBodyGyroJerkMag-std()</th>\n",
              "      <th>fBodyBodyGyroJerkMag-mad()</th>\n",
              "      <th>fBodyBodyGyroJerkMag-max()</th>\n",
              "      <th>fBodyBodyGyroJerkMag-min()</th>\n",
              "      <th>fBodyBodyGyroJerkMag-sma()</th>\n",
              "      <th>fBodyBodyGyroJerkMag-energy()</th>\n",
              "      <th>fBodyBodyGyroJerkMag-iqr()</th>\n",
              "      <th>fBodyBodyGyroJerkMag-entropy()</th>\n",
              "      <th>fBodyBodyGyroJerkMag-maxInds</th>\n",
              "      <th>fBodyBodyGyroJerkMag-meanFreq()</th>\n",
              "      <th>fBodyBodyGyroJerkMag-skewness()</th>\n",
              "      <th>fBodyBodyGyroJerkMag-kurtosis()</th>\n",
              "      <th>angle(tBodyAccMean,gravity)</th>\n",
              "      <th>angle(tBodyAccJerkMean),gravityMean)</th>\n",
              "      <th>angle(tBodyGyroMean,gravityMean)</th>\n",
              "      <th>angle(tBodyGyroJerkMean,gravityMean)</th>\n",
              "      <th>angle(X,gravityMean)</th>\n",
              "      <th>angle(Y,gravityMean)</th>\n",
              "      <th>angle(Z,gravityMean)</th>\n",
              "      <th>subject</th>\n",
              "      <th>Activity</th>\n",
              "    </tr>\n",
              "  </thead>\n",
              "  <tbody>\n",
              "    <tr>\n",
              "      <th>2117</th>\n",
              "      <td>0.274369</td>\n",
              "      <td>-0.016706</td>\n",
              "      <td>-0.110229</td>\n",
              "      <td>-0.991515</td>\n",
              "      <td>-0.989040</td>\n",
              "      <td>-0.978536</td>\n",
              "      <td>-0.992510</td>\n",
              "      <td>-0.990249</td>\n",
              "      <td>-0.980843</td>\n",
              "      <td>-0.936067</td>\n",
              "      <td>-0.561457</td>\n",
              "      <td>-0.812424</td>\n",
              "      <td>0.841441</td>\n",
              "      <td>0.691739</td>\n",
              "      <td>0.824627</td>\n",
              "      <td>-0.989752</td>\n",
              "      <td>-0.999926</td>\n",
              "      <td>-0.999935</td>\n",
              "      <td>-0.999490</td>\n",
              "      <td>-0.994133</td>\n",
              "      <td>-0.991564</td>\n",
              "      <td>-0.983694</td>\n",
              "      <td>-0.570835</td>\n",
              "      <td>-0.632256</td>\n",
              "      <td>-0.525435</td>\n",
              "      <td>0.194450</td>\n",
              "      <td>-0.146492</td>\n",
              "      <td>-0.041534</td>\n",
              "      <td>0.385220</td>\n",
              "      <td>0.146668</td>\n",
              "      <td>0.008702</td>\n",
              "      <td>0.117522</td>\n",
              "      <td>0.316987</td>\n",
              "      <td>0.049494</td>\n",
              "      <td>0.002990</td>\n",
              "      <td>0.077043</td>\n",
              "      <td>-0.040535</td>\n",
              "      <td>-0.326617</td>\n",
              "      <td>-0.124434</td>\n",
              "      <td>-0.467705</td>\n",
              "      <td>...</td>\n",
              "      <td>-1.000000</td>\n",
              "      <td>-1.000000</td>\n",
              "      <td>0.189798</td>\n",
              "      <td>-0.435028</td>\n",
              "      <td>-0.826468</td>\n",
              "      <td>-0.983336</td>\n",
              "      <td>-0.983446</td>\n",
              "      <td>-0.979036</td>\n",
              "      <td>-0.988786</td>\n",
              "      <td>-0.996133</td>\n",
              "      <td>-0.983336</td>\n",
              "      <td>-0.999768</td>\n",
              "      <td>-0.973804</td>\n",
              "      <td>-0.651509</td>\n",
              "      <td>-1.0</td>\n",
              "      <td>-0.200696</td>\n",
              "      <td>-0.692462</td>\n",
              "      <td>-0.925401</td>\n",
              "      <td>-0.990613</td>\n",
              "      <td>-0.989842</td>\n",
              "      <td>-0.989335</td>\n",
              "      <td>-0.990264</td>\n",
              "      <td>-0.995010</td>\n",
              "      <td>-0.990613</td>\n",
              "      <td>-0.999922</td>\n",
              "      <td>-0.988997</td>\n",
              "      <td>-0.923452</td>\n",
              "      <td>-1.000000</td>\n",
              "      <td>-0.165418</td>\n",
              "      <td>-0.227327</td>\n",
              "      <td>-0.592258</td>\n",
              "      <td>-0.031017</td>\n",
              "      <td>-0.068529</td>\n",
              "      <td>0.222656</td>\n",
              "      <td>-0.171256</td>\n",
              "      <td>0.365294</td>\n",
              "      <td>-0.846661</td>\n",
              "      <td>-0.004809</td>\n",
              "      <td>11</td>\n",
              "      <td>LAYING</td>\n",
              "    </tr>\n",
              "    <tr>\n",
              "      <th>2937</th>\n",
              "      <td>0.260018</td>\n",
              "      <td>-0.008491</td>\n",
              "      <td>-0.117588</td>\n",
              "      <td>-0.935685</td>\n",
              "      <td>-0.670521</td>\n",
              "      <td>-0.875247</td>\n",
              "      <td>-0.959882</td>\n",
              "      <td>-0.805597</td>\n",
              "      <td>-0.907493</td>\n",
              "      <td>-0.892596</td>\n",
              "      <td>-0.146449</td>\n",
              "      <td>-0.774665</td>\n",
              "      <td>0.710398</td>\n",
              "      <td>0.541556</td>\n",
              "      <td>0.691246</td>\n",
              "      <td>-0.910007</td>\n",
              "      <td>-0.997606</td>\n",
              "      <td>-0.978016</td>\n",
              "      <td>-0.991313</td>\n",
              "      <td>-0.995422</td>\n",
              "      <td>-0.989595</td>\n",
              "      <td>-0.963853</td>\n",
              "      <td>-0.310086</td>\n",
              "      <td>-0.398456</td>\n",
              "      <td>-0.248864</td>\n",
              "      <td>-0.508756</td>\n",
              "      <td>0.476951</td>\n",
              "      <td>-0.460860</td>\n",
              "      <td>0.392226</td>\n",
              "      <td>-0.604299</td>\n",
              "      <td>0.591770</td>\n",
              "      <td>-0.713939</td>\n",
              "      <td>0.839213</td>\n",
              "      <td>-0.252033</td>\n",
              "      <td>0.355529</td>\n",
              "      <td>-1.000000</td>\n",
              "      <td>1.000000</td>\n",
              "      <td>0.296486</td>\n",
              "      <td>-0.012320</td>\n",
              "      <td>-0.867214</td>\n",
              "      <td>...</td>\n",
              "      <td>-0.476360</td>\n",
              "      <td>-1.000000</td>\n",
              "      <td>-0.455206</td>\n",
              "      <td>0.384570</td>\n",
              "      <td>0.087227</td>\n",
              "      <td>-0.512505</td>\n",
              "      <td>-0.269562</td>\n",
              "      <td>-0.408939</td>\n",
              "      <td>-0.192944</td>\n",
              "      <td>-0.049099</td>\n",
              "      <td>-0.512505</td>\n",
              "      <td>-0.740628</td>\n",
              "      <td>-0.801698</td>\n",
              "      <td>0.130729</td>\n",
              "      <td>-1.0</td>\n",
              "      <td>-0.259452</td>\n",
              "      <td>0.265055</td>\n",
              "      <td>-0.064927</td>\n",
              "      <td>-0.929913</td>\n",
              "      <td>-0.863376</td>\n",
              "      <td>-0.907363</td>\n",
              "      <td>-0.843969</td>\n",
              "      <td>-0.985603</td>\n",
              "      <td>-0.929913</td>\n",
              "      <td>-0.993913</td>\n",
              "      <td>-0.935197</td>\n",
              "      <td>-0.419270</td>\n",
              "      <td>-1.000000</td>\n",
              "      <td>-0.563006</td>\n",
              "      <td>0.783258</td>\n",
              "      <td>0.551519</td>\n",
              "      <td>0.351286</td>\n",
              "      <td>0.079468</td>\n",
              "      <td>0.329166</td>\n",
              "      <td>0.006809</td>\n",
              "      <td>-0.885412</td>\n",
              "      <td>0.113755</td>\n",
              "      <td>0.100170</td>\n",
              "      <td>16</td>\n",
              "      <td>SITTING</td>\n",
              "    </tr>\n",
              "    <tr>\n",
              "      <th>6867</th>\n",
              "      <td>0.278964</td>\n",
              "      <td>-0.016177</td>\n",
              "      <td>-0.112617</td>\n",
              "      <td>-0.986395</td>\n",
              "      <td>-0.993402</td>\n",
              "      <td>-0.996253</td>\n",
              "      <td>-0.987809</td>\n",
              "      <td>-0.994375</td>\n",
              "      <td>-0.995559</td>\n",
              "      <td>-0.935219</td>\n",
              "      <td>-0.566172</td>\n",
              "      <td>-0.826331</td>\n",
              "      <td>0.838379</td>\n",
              "      <td>0.692073</td>\n",
              "      <td>0.845662</td>\n",
              "      <td>-0.992035</td>\n",
              "      <td>-0.999849</td>\n",
              "      <td>-0.999965</td>\n",
              "      <td>-0.999920</td>\n",
              "      <td>-0.989898</td>\n",
              "      <td>-0.995405</td>\n",
              "      <td>-0.992992</td>\n",
              "      <td>-0.391655</td>\n",
              "      <td>-0.668624</td>\n",
              "      <td>-0.735404</td>\n",
              "      <td>0.074098</td>\n",
              "      <td>-0.024003</td>\n",
              "      <td>-0.086759</td>\n",
              "      <td>-0.050424</td>\n",
              "      <td>0.497133</td>\n",
              "      <td>-0.308945</td>\n",
              "      <td>0.436123</td>\n",
              "      <td>-0.284634</td>\n",
              "      <td>0.562480</td>\n",
              "      <td>-0.303941</td>\n",
              "      <td>0.243113</td>\n",
              "      <td>-0.238292</td>\n",
              "      <td>-0.560531</td>\n",
              "      <td>-0.482763</td>\n",
              "      <td>0.529234</td>\n",
              "      <td>...</td>\n",
              "      <td>-1.000000</td>\n",
              "      <td>-0.746032</td>\n",
              "      <td>0.201563</td>\n",
              "      <td>-0.661723</td>\n",
              "      <td>-0.919496</td>\n",
              "      <td>-0.963026</td>\n",
              "      <td>-0.936948</td>\n",
              "      <td>-0.955237</td>\n",
              "      <td>-0.922671</td>\n",
              "      <td>-0.973526</td>\n",
              "      <td>-0.963026</td>\n",
              "      <td>-0.998002</td>\n",
              "      <td>-0.980297</td>\n",
              "      <td>-0.508129</td>\n",
              "      <td>-1.0</td>\n",
              "      <td>-0.242515</td>\n",
              "      <td>0.564836</td>\n",
              "      <td>0.361085</td>\n",
              "      <td>-0.997792</td>\n",
              "      <td>-0.997197</td>\n",
              "      <td>-0.997178</td>\n",
              "      <td>-0.997628</td>\n",
              "      <td>-0.995845</td>\n",
              "      <td>-0.997792</td>\n",
              "      <td>-0.999990</td>\n",
              "      <td>-0.997452</td>\n",
              "      <td>-1.000000</td>\n",
              "      <td>-0.650794</td>\n",
              "      <td>0.391506</td>\n",
              "      <td>-0.412803</td>\n",
              "      <td>-0.785954</td>\n",
              "      <td>0.126507</td>\n",
              "      <td>0.229589</td>\n",
              "      <td>-0.420273</td>\n",
              "      <td>0.306465</td>\n",
              "      <td>0.496486</td>\n",
              "      <td>-0.614039</td>\n",
              "      <td>-0.381354</td>\n",
              "      <td>29</td>\n",
              "      <td>LAYING</td>\n",
              "    </tr>\n",
              "    <tr>\n",
              "      <th>983</th>\n",
              "      <td>0.183580</td>\n",
              "      <td>-0.127213</td>\n",
              "      <td>-0.053418</td>\n",
              "      <td>0.066369</td>\n",
              "      <td>0.175940</td>\n",
              "      <td>-0.392213</td>\n",
              "      <td>0.024724</td>\n",
              "      <td>0.176251</td>\n",
              "      <td>-0.373970</td>\n",
              "      <td>0.026905</td>\n",
              "      <td>-0.011366</td>\n",
              "      <td>-0.414110</td>\n",
              "      <td>-0.061307</td>\n",
              "      <td>-0.120410</td>\n",
              "      <td>0.453433</td>\n",
              "      <td>0.075900</td>\n",
              "      <td>-0.429020</td>\n",
              "      <td>-0.711465</td>\n",
              "      <td>-0.826533</td>\n",
              "      <td>-0.026840</td>\n",
              "      <td>-0.006198</td>\n",
              "      <td>-0.409776</td>\n",
              "      <td>0.363369</td>\n",
              "      <td>0.033249</td>\n",
              "      <td>0.151558</td>\n",
              "      <td>-0.422318</td>\n",
              "      <td>0.161796</td>\n",
              "      <td>0.187022</td>\n",
              "      <td>-0.033507</td>\n",
              "      <td>-0.540551</td>\n",
              "      <td>0.463843</td>\n",
              "      <td>-0.051249</td>\n",
              "      <td>-0.049775</td>\n",
              "      <td>-0.322750</td>\n",
              "      <td>0.332125</td>\n",
              "      <td>-0.213743</td>\n",
              "      <td>-0.117904</td>\n",
              "      <td>-0.191380</td>\n",
              "      <td>0.028687</td>\n",
              "      <td>0.224921</td>\n",
              "      <td>...</td>\n",
              "      <td>0.359925</td>\n",
              "      <td>-0.873016</td>\n",
              "      <td>0.141046</td>\n",
              "      <td>-0.459858</td>\n",
              "      <td>-0.790742</td>\n",
              "      <td>-0.382941</td>\n",
              "      <td>-0.352315</td>\n",
              "      <td>-0.261177</td>\n",
              "      <td>-0.500621</td>\n",
              "      <td>-0.901947</td>\n",
              "      <td>-0.382941</td>\n",
              "      <td>-0.747985</td>\n",
              "      <td>-0.391830</td>\n",
              "      <td>0.614840</td>\n",
              "      <td>-1.0</td>\n",
              "      <td>-0.187344</td>\n",
              "      <td>-0.476318</td>\n",
              "      <td>-0.802189</td>\n",
              "      <td>-0.601748</td>\n",
              "      <td>-0.691376</td>\n",
              "      <td>-0.648107</td>\n",
              "      <td>-0.723129</td>\n",
              "      <td>-0.549007</td>\n",
              "      <td>-0.601748</td>\n",
              "      <td>-0.929556</td>\n",
              "      <td>-0.586202</td>\n",
              "      <td>0.320269</td>\n",
              "      <td>-0.873016</td>\n",
              "      <td>0.230617</td>\n",
              "      <td>-0.285643</td>\n",
              "      <td>-0.649094</td>\n",
              "      <td>0.079392</td>\n",
              "      <td>-0.892303</td>\n",
              "      <td>0.939023</td>\n",
              "      <td>-0.067309</td>\n",
              "      <td>-0.779321</td>\n",
              "      <td>0.248037</td>\n",
              "      <td>0.046806</td>\n",
              "      <td>5</td>\n",
              "      <td>WALKING_UPSTAIRS</td>\n",
              "    </tr>\n",
              "    <tr>\n",
              "      <th>61</th>\n",
              "      <td>0.280262</td>\n",
              "      <td>-0.018698</td>\n",
              "      <td>-0.109685</td>\n",
              "      <td>-0.996123</td>\n",
              "      <td>-0.998074</td>\n",
              "      <td>-0.991967</td>\n",
              "      <td>-0.996509</td>\n",
              "      <td>-0.997516</td>\n",
              "      <td>-0.992607</td>\n",
              "      <td>-0.939714</td>\n",
              "      <td>-0.577026</td>\n",
              "      <td>-0.823482</td>\n",
              "      <td>0.851158</td>\n",
              "      <td>0.693643</td>\n",
              "      <td>0.840339</td>\n",
              "      <td>-0.997394</td>\n",
              "      <td>-0.999975</td>\n",
              "      <td>-0.999988</td>\n",
              "      <td>-0.999860</td>\n",
              "      <td>-0.997109</td>\n",
              "      <td>-0.996239</td>\n",
              "      <td>-0.991663</td>\n",
              "      <td>-0.598011</td>\n",
              "      <td>-0.859599</td>\n",
              "      <td>-0.646639</td>\n",
              "      <td>0.385923</td>\n",
              "      <td>-0.241664</td>\n",
              "      <td>0.101185</td>\n",
              "      <td>0.190957</td>\n",
              "      <td>0.456281</td>\n",
              "      <td>-0.245810</td>\n",
              "      <td>0.311339</td>\n",
              "      <td>0.076550</td>\n",
              "      <td>0.424887</td>\n",
              "      <td>-0.179671</td>\n",
              "      <td>0.156384</td>\n",
              "      <td>-0.052179</td>\n",
              "      <td>-0.163751</td>\n",
              "      <td>0.216597</td>\n",
              "      <td>0.164204</td>\n",
              "      <td>...</td>\n",
              "      <td>-1.000000</td>\n",
              "      <td>-0.936508</td>\n",
              "      <td>0.684056</td>\n",
              "      <td>-0.747146</td>\n",
              "      <td>-0.949970</td>\n",
              "      <td>-0.996580</td>\n",
              "      <td>-0.997279</td>\n",
              "      <td>-0.997024</td>\n",
              "      <td>-0.997008</td>\n",
              "      <td>-0.997412</td>\n",
              "      <td>-0.996580</td>\n",
              "      <td>-0.999983</td>\n",
              "      <td>-0.996494</td>\n",
              "      <td>-0.956057</td>\n",
              "      <td>-1.0</td>\n",
              "      <td>0.418893</td>\n",
              "      <td>-0.588401</td>\n",
              "      <td>-0.821342</td>\n",
              "      <td>-0.998563</td>\n",
              "      <td>-0.998383</td>\n",
              "      <td>-0.998003</td>\n",
              "      <td>-0.999262</td>\n",
              "      <td>-0.996855</td>\n",
              "      <td>-0.998563</td>\n",
              "      <td>-0.999995</td>\n",
              "      <td>-0.998056</td>\n",
              "      <td>-1.000000</td>\n",
              "      <td>-0.428571</td>\n",
              "      <td>0.534796</td>\n",
              "      <td>-0.750003</td>\n",
              "      <td>-0.961720</td>\n",
              "      <td>0.740652</td>\n",
              "      <td>-0.003130</td>\n",
              "      <td>-0.288663</td>\n",
              "      <td>0.011929</td>\n",
              "      <td>0.768231</td>\n",
              "      <td>-0.467455</td>\n",
              "      <td>-0.519331</td>\n",
              "      <td>2</td>\n",
              "      <td>LAYING</td>\n",
              "    </tr>\n",
              "  </tbody>\n",
              "</table>\n",
              "<p>5 rows × 563 columns</p>\n",
              "</div>"
            ],
            "text/plain": [
              "      tBodyAcc-mean()-X  tBodyAcc-mean()-Y  ...  subject          Activity\n",
              "2117           0.274369          -0.016706  ...       11            LAYING\n",
              "2937           0.260018          -0.008491  ...       16           SITTING\n",
              "6867           0.278964          -0.016177  ...       29            LAYING\n",
              "983            0.183580          -0.127213  ...        5  WALKING_UPSTAIRS\n",
              "61             0.280262          -0.018698  ...        2            LAYING\n",
              "\n",
              "[5 rows x 563 columns]"
            ]
          },
          "metadata": {},
          "execution_count": 101
        }
      ]
    },
    {
      "cell_type": "markdown",
      "metadata": {
        "id": "Lq8WKe0x7SZc"
      },
      "source": [
        "## Preparando os Dados para os Modelos\n",
        "\n",
        "*   **x** = Todos os conjuntos de dados tirando as duas ultimas colunas.\n",
        "*   **y** = Ultima coluna, coluna que define a atividade.\n",
        "\n"
      ]
    },
    {
      "cell_type": "code",
      "metadata": {
        "id": "fTcaNixfDRD7",
        "colab": {
          "base_uri": "https://localhost:8080/"
        },
        "outputId": "7121a536-fde4-42fb-b61d-bd788bf5b05d"
      },
      "source": [
        "# Separando os os dados do target\n",
        "x_train, y_train = train.iloc[:, :-2], train.iloc[:, -1:]\n",
        "x_validate, y_validate = validate.iloc[:, :-2], validate.iloc[:, -1:]\n",
        "x_test, y_test = test.iloc[:, :-2], test.iloc[:, -1:]\n",
        "print(f'Train: {x_train.shape}, {y_train.shape}\\nValidation: {x_validate.shape}, {y_validate.shape}\\nTraining: {x_test.shape}, {y_test.shape}\\n')"
      ],
      "execution_count": 102,
      "outputs": [
        {
          "output_type": "stream",
          "name": "stdout",
          "text": [
            "Train: (5149, 561), (5149, 1)\n",
            "Validation: (2575, 561), (2575, 1)\n",
            "Training: (2575, 561), (2575, 1)\n",
            "\n"
          ]
        }
      ]
    },
    {
      "cell_type": "markdown",
      "metadata": {
        "id": "TPRbqoCVMZfd"
      },
      "source": [
        "Os modelos aceitam apenas números, então foi necessário alterar as strings que definem as classes para números."
      ]
    },
    {
      "cell_type": "code",
      "metadata": {
        "id": "w_78axvFL4V_",
        "colab": {
          "base_uri": "https://localhost:8080/"
        },
        "outputId": "eb0be3b6-b9f9-4e57-998e-7b016104b1ba"
      },
      "source": [
        "# Trasformando as strings do target em números\n",
        "le = LabelEncoder()\n",
        "y_train = le.fit_transform(y_train)\n",
        "y_validate = le.fit_transform(y_validate)\n",
        "y_test = le.fit_transform(y_test)\n",
        "\n",
        "# --------------Não sei oq é isso\n",
        "scaling_data = MinMaxScaler()\n",
        "x_train = scaling_data.fit_transform(x_train)\n",
        "x_validate = scaling_data.fit_transform(x_validate)\n",
        "x_test = scaling_data.transform(x_test)"
      ],
      "execution_count": 103,
      "outputs": [
        {
          "output_type": "stream",
          "name": "stderr",
          "text": [
            "/usr/local/lib/python3.7/dist-packages/sklearn/preprocessing/_label.py:115: DataConversionWarning: A column-vector y was passed when a 1d array was expected. Please change the shape of y to (n_samples, ), for example using ravel().\n",
            "  y = column_or_1d(y, warn=True)\n"
          ]
        }
      ]
    },
    {
      "cell_type": "markdown",
      "metadata": {
        "id": "1OEl4Se9_kPs"
      },
      "source": [
        "Separando casos de teste do tipo LAYING"
      ]
    },
    {
      "cell_type": "code",
      "metadata": {
        "colab": {
          "base_uri": "https://localhost:8080/"
        },
        "id": "Km4Cf8Uj_i-k",
        "outputId": "654ca791-3542-41ad-e361-2e8cd176f677"
      },
      "source": [
        "test_laying = test[test.Activity == 'LAYING']\n",
        "x_test_laying, y_test_laying = test_laying.iloc[:, :-2], test_laying.iloc[:, -1:]\n",
        "y_test_laying = le.fit_transform(y_test_laying)\n",
        "x_test_laying = scaling_data.fit_transform(x_test_laying)"
      ],
      "execution_count": 104,
      "outputs": [
        {
          "output_type": "stream",
          "name": "stderr",
          "text": [
            "/usr/local/lib/python3.7/dist-packages/sklearn/preprocessing/_label.py:115: DataConversionWarning: A column-vector y was passed when a 1d array was expected. Please change the shape of y to (n_samples, ), for example using ravel().\n",
            "  y = column_or_1d(y, warn=True)\n"
          ]
        }
      ]
    },
    {
      "cell_type": "code",
      "metadata": {
        "id": "3_DEKr8FNwWd"
      },
      "source": [
        "def print_metrics(test_results):\n",
        "    print(f'Loss: {test_results[0]}\\nAccuracy: {test_results[1]}\\nPrecision: {test_results[2]}\\nRecall: {test_results[3]}\\nF1 Score: {test_results[4]}\\nSpecificity: {test_results[5]}')"
      ],
      "execution_count": 105,
      "outputs": []
    },
    {
      "cell_type": "code",
      "metadata": {
        "id": "lWkQ_OXVWUd5"
      },
      "source": [
        "def plot_loss(history, epochs):\n",
        "    loss = history.history['loss']\n",
        "    val_loss = history.history['val_loss']\n",
        "    epochs = range(epochs)\n",
        "    plt.figure()\n",
        "    plt.plot(epochs, loss, 'bo', label='Training loss')\n",
        "    plt.plot(epochs, val_loss, 'b', label='Validation loss')\n",
        "    plt.title('Training and validation loss')\n",
        "    plt.legend()\n",
        "    plt.show()"
      ],
      "execution_count": 106,
      "outputs": []
    },
    {
      "cell_type": "code",
      "metadata": {
        "id": "iAeJLgTTry44"
      },
      "source": [
        "def plot_bar_graph(model_name, values, label, ord):\n",
        "    plt.subplot(ord[0], ord[1], ord[2])\n",
        "    plt.bar(model_name, values, color ='blue', width = 0.1)\n",
        "    plt.xlabel(\"Models\")\n",
        "    plt.ylabel(label)\n",
        "    plt.title(\"Comparing {} by models\".format(label))"
      ],
      "execution_count": 107,
      "outputs": []
    },
    {
      "cell_type": "markdown",
      "metadata": {
        "id": "6waF_f25De4J"
      },
      "source": [
        "# Multi-Layer Perceptron (MLP)\n",
        "\n",
        "Perceptron é utilizado para classificação binária, possuindo apenas 1 neurônio, sendo assim, não podendo se aplicar a dados não lineares. \n",
        "O MLP foi desenvolvido para suprir com essa limitação.Ele possui camadas de entrada e saída e uma ou mais camadas ocultas com muitos neurônios juntos. E enquanto no Perceptron o neurônio deve ter uma função de ativação que impõe um limite, como ReLU ou sigmoid, os neurônios em um MLP podem usar qualquer função de ativação arbitrária.\n",
        "\n",
        "Funções de ativação: \n",
        "*   **ReLU**: Função não linear que a não ativa todos os neurônios ao mesmo tempo. Se a entrada for negativa, ela será convertida em zero e o neurônio não será ativado. Isso significa que, ao mesmo tempo, apenas alguns neurônios são ativados, tornando a rede esparsa e eficiente e fácil para a computação.\n",
        "*   **Softmax**: Alternativa para função sigmóide para lidar com problemas de classificação, já que a mesma é capaz de lidar com mais de 2 classes, diferente da sigmóide.\n",
        "\n",
        "\n"
      ]
    },
    {
      "cell_type": "code",
      "metadata": {
        "id": "gmF9XuyDG6dz"
      },
      "source": [
        "# Criando o model\n",
        "model_mlp = Sequential()\n",
        "model_mlp.add(Dense(64, activation='relu', input_dim=x_train.shape[1])) # Layer 1\n",
        "model_mlp.add(Dropout(0.25))\n",
        "model_mlp.add(Dense(64, activation='relu')) # Layer 2\n",
        "model_mlp.add(Dropout(0.25))\n",
        "model_mlp.add(Dense(6, activation='softmax')) # Layer 3\n",
        "\n",
        "# Dense = camada que recebe como entrada todos os neurônios da camada anterior. \n",
        "# Dropout = faz eliminacoes aleatorias de neuronios. Usado para diminuir over/underfitting"
      ],
      "execution_count": 108,
      "outputs": []
    },
    {
      "cell_type": "markdown",
      "metadata": {
        "id": "RosQCW8jXvQ-"
      },
      "source": [
        "\n",
        "\n",
        "*   **Compilação, Treino e validação**: O processo de treino foi composto por 20 epocas e 50% do dataset e a validação por 25% do dataset. \n",
        ">* Optimizer: [**Adam**](https://machinelearningmastery.com/adam-optimization-algorithm-for-deep-learning/) é um algoritmo de otimização que pode ser usado em vez do procedimento clássico de *Stochastic Gradient Descent* (mantém uma única taxa de aprendizado para todas as atualizações de peso e a taxa de aprendizado não muda durante o treinamento) para atualizar os pesos da rede iterativos com base nos dados de treinamento.\n",
        ">* Loss: [sparse_categorical_crossentropy](https://vitalflux.com/keras-categorical-cross-entropy-loss-function/) Usado para modelos de classificação multi-classes quando a output label  sao valores inteiros (0, 1, 2,..).\n"
      ]
    },
    {
      "cell_type": "code",
      "metadata": {
        "colab": {
          "base_uri": "https://localhost:8080/"
        },
        "id": "QKw4bSSOXu1h",
        "outputId": "85dab53a-71d1-4ea7-f575-18e20290311f"
      },
      "source": [
        "# Compilando o model e treinando\n",
        "model_mlp.compile(optimizer='adam', loss='sparse_categorical_crossentropy', metrics=['accuracy', \n",
        "                                                                                     keras_metrics.sparse_categorical_precision(), \n",
        "                                                                                     keras_metrics.sparse_categorical_recall(), \n",
        "                                                                                     keras_metrics.sparse_categorical_f1_score(), \n",
        "                                                                                     keras_metrics.sparse_categorical_true_negative()]) # optimizer 'adam'\n",
        "history_mlp = model_mlp.fit(x_train, y_train, batch_size=64, epochs=20, validation_data=(x_validate, y_validate)) # teinando e validando\n",
        "\n",
        "# batch_size = número de exemplos de treinamento utilizados em uma iteração"
      ],
      "execution_count": 109,
      "outputs": [
        {
          "output_type": "stream",
          "name": "stdout",
          "text": [
            "Epoch 1/20\n"
          ]
        },
        {
          "output_type": "stream",
          "name": "stderr",
          "text": [
            "/usr/local/lib/python3.7/dist-packages/keras_metrics/metrics.py:26: UserWarning: `layer.updates` will be removed in a future version. This property should not be used in TensorFlow 2.0, as `updates` are applied automatically.\n",
            "  return object.__getattribute__(self, name)\n"
          ]
        },
        {
          "output_type": "stream",
          "name": "stdout",
          "text": [
            "81/81 [==============================] - 2s 9ms/step - loss: 1.1004 - accuracy: 0.5333 - precision: 0.6928 - recall: 0.2273 - f1_score: 0.3244 - true_negative: 2065.7900 - val_loss: 0.6028 - val_accuracy: 0.8237 - val_precision: 0.8750 - val_recall: 0.5451 - val_f1_score: 0.6709 - val_true_negative: 5157.5854\n",
            "Epoch 2/20\n",
            "81/81 [==============================] - 0s 4ms/step - loss: 0.5792 - accuracy: 0.7671 - precision: 0.9071 - recall: 0.6879 - f1_score: 0.7820 - true_negative: 8235.7285 - val_loss: 0.3718 - val_accuracy: 0.8548 - val_precision: 0.9240 - val_recall: 0.7664 - val_f1_score: 0.8378 - val_true_negative: 11338.4395\n",
            "Epoch 3/20\n",
            "81/81 [==============================] - 0s 4ms/step - loss: 0.4094 - accuracy: 0.8361 - precision: 0.9332 - recall: 0.8134 - f1_score: 0.8691 - true_negative: 14424.5801 - val_loss: 0.2963 - val_accuracy: 0.8835 - val_precision: 0.9410 - val_recall: 0.8445 - val_f1_score: 0.8901 - val_true_negative: 17543.7324\n",
            "Epoch 4/20\n",
            "81/81 [==============================] - 0s 4ms/step - loss: 0.3181 - accuracy: 0.8757 - precision: 0.9455 - recall: 0.8655 - f1_score: 0.9037 - true_negative: 20632.6289 - val_loss: 0.2273 - val_accuracy: 0.9095 - val_precision: 0.9493 - val_recall: 0.8818 - val_f1_score: 0.9143 - val_true_negative: 23755.2930\n",
            "Epoch 5/20\n",
            "81/81 [==============================] - 0s 4ms/step - loss: 0.2812 - accuracy: 0.8914 - precision: 0.9529 - recall: 0.8940 - f1_score: 0.9225 - true_negative: 26862.0117 - val_loss: 0.2238 - val_accuracy: 0.9080 - val_precision: 0.9567 - val_recall: 0.9041 - val_f1_score: 0.9297 - val_true_negative: 29986.0977\n",
            "Epoch 6/20\n",
            "81/81 [==============================] - 0s 4ms/step - loss: 0.2298 - accuracy: 0.9136 - precision: 0.9593 - recall: 0.9129 - f1_score: 0.9355 - true_negative: 33084.1250 - val_loss: 0.2144 - val_accuracy: 0.9146 - val_precision: 0.9617 - val_recall: 0.9200 - val_f1_score: 0.9404 - val_true_negative: 36218.3906\n",
            "Epoch 7/20\n",
            "81/81 [==============================] - 0s 4ms/step - loss: 0.2206 - accuracy: 0.9142 - precision: 0.9636 - recall: 0.9258 - f1_score: 0.9443 - true_negative: 39324.9141 - val_loss: 0.1519 - val_accuracy: 0.9410 - val_precision: 0.9657 - val_recall: 0.9308 - val_f1_score: 0.9479 - val_true_negative: 42457.1719\n",
            "Epoch 8/20\n",
            "81/81 [==============================] - 0s 4ms/step - loss: 0.1934 - accuracy: 0.9260 - precision: 0.9674 - recall: 0.9351 - f1_score: 0.9510 - true_negative: 45553.2109 - val_loss: 0.1492 - val_accuracy: 0.9429 - val_precision: 0.9687 - val_recall: 0.9390 - val_f1_score: 0.9536 - val_true_negative: 48695.0977\n",
            "Epoch 9/20\n",
            "81/81 [==============================] - 0s 4ms/step - loss: 0.1707 - accuracy: 0.9386 - precision: 0.9699 - recall: 0.9425 - f1_score: 0.9560 - true_negative: 51784.1367 - val_loss: 0.1377 - val_accuracy: 0.9464 - val_precision: 0.9714 - val_recall: 0.9456 - val_f1_score: 0.9583 - val_true_negative: 54939.4375\n",
            "Epoch 10/20\n",
            "81/81 [==============================] - 0s 4ms/step - loss: 0.1537 - accuracy: 0.9450 - precision: 0.9726 - recall: 0.9484 - f1_score: 0.9603 - true_negative: 58049.3320 - val_loss: 0.1487 - val_accuracy: 0.9437 - val_precision: 0.9737 - val_recall: 0.9509 - val_f1_score: 0.9621 - val_true_negative: 61185.5859\n",
            "Epoch 11/20\n",
            "81/81 [==============================] - 0s 5ms/step - loss: 0.1411 - accuracy: 0.9487 - precision: 0.9744 - recall: 0.9532 - f1_score: 0.9637 - true_negative: 64289.1094 - val_loss: 0.1206 - val_accuracy: 0.9538 - val_precision: 0.9753 - val_recall: 0.9553 - val_f1_score: 0.9652 - val_true_negative: 67428.1484\n",
            "Epoch 12/20\n",
            "81/81 [==============================] - 0s 5ms/step - loss: 0.1363 - accuracy: 0.9487 - precision: 0.9760 - recall: 0.9572 - f1_score: 0.9665 - true_negative: 70523.7656 - val_loss: 0.1599 - val_accuracy: 0.9367 - val_precision: 0.9768 - val_recall: 0.9588 - val_f1_score: 0.9677 - val_true_negative: 73673.4844\n",
            "Epoch 13/20\n",
            "81/81 [==============================] - 0s 5ms/step - loss: 0.1272 - accuracy: 0.9520 - precision: 0.9776 - recall: 0.9604 - f1_score: 0.9689 - true_negative: 76771.3359 - val_loss: 0.1045 - val_accuracy: 0.9561 - val_precision: 0.9784 - val_recall: 0.9619 - val_f1_score: 0.9701 - val_true_negative: 79924.4844\n",
            "Epoch 14/20\n",
            "81/81 [==============================] - 0s 4ms/step - loss: 0.1125 - accuracy: 0.9602 - precision: 0.9791 - recall: 0.9633 - f1_score: 0.9711 - true_negative: 83033.7891 - val_loss: 0.1210 - val_accuracy: 0.9546 - val_precision: 0.9798 - val_recall: 0.9646 - val_f1_score: 0.9721 - val_true_negative: 86176.1484\n",
            "Epoch 15/20\n",
            "81/81 [==============================] - 0s 4ms/step - loss: 0.1213 - accuracy: 0.9534 - precision: 0.9803 - recall: 0.9658 - f1_score: 0.9730 - true_negative: 89274.7266 - val_loss: 0.0938 - val_accuracy: 0.9635 - val_precision: 0.9808 - val_recall: 0.9669 - val_f1_score: 0.9738 - val_true_negative: 92423.5859\n",
            "Epoch 16/20\n",
            "81/81 [==============================] - 0s 4ms/step - loss: 0.1165 - accuracy: 0.9571 - precision: 0.9811 - recall: 0.9679 - f1_score: 0.9745 - true_negative: 95527.1719 - val_loss: 0.0907 - val_accuracy: 0.9643 - val_precision: 0.9816 - val_recall: 0.9688 - val_f1_score: 0.9752 - val_true_negative: 98669.4844\n",
            "Epoch 17/20\n",
            "81/81 [==============================] - 0s 4ms/step - loss: 0.1053 - accuracy: 0.9606 - precision: 0.9820 - recall: 0.9698 - f1_score: 0.9759 - true_negative: 101779.9297 - val_loss: 0.0977 - val_accuracy: 0.9635 - val_precision: 0.9824 - val_recall: 0.9707 - val_f1_score: 0.9765 - val_true_negative: 104919.4844\n",
            "Epoch 18/20\n",
            "81/81 [==============================] - 0s 4ms/step - loss: 0.0929 - accuracy: 0.9668 - precision: 0.9829 - recall: 0.9715 - f1_score: 0.9772 - true_negative: 108033.5469 - val_loss: 0.1091 - val_accuracy: 0.9596 - val_precision: 0.9833 - val_recall: 0.9723 - val_f1_score: 0.9778 - val_true_negative: 111171.4844\n",
            "Epoch 19/20\n",
            "81/81 [==============================] - 0s 4ms/step - loss: 0.0904 - accuracy: 0.9652 - precision: 0.9836 - recall: 0.9730 - f1_score: 0.9783 - true_negative: 114280.6016 - val_loss: 0.0999 - val_accuracy: 0.9608 - val_precision: 0.9840 - val_recall: 0.9737 - val_f1_score: 0.9788 - val_true_negative: 117422.4844\n",
            "Epoch 20/20\n",
            "81/81 [==============================] - 0s 4ms/step - loss: 0.0909 - accuracy: 0.9660 - precision: 0.9844 - recall: 0.9743 - f1_score: 0.9793 - true_negative: 120525.9297 - val_loss: 0.1108 - val_accuracy: 0.9584 - val_precision: 0.9847 - val_recall: 0.9749 - val_f1_score: 0.9798 - val_true_negative: 123676.4844\n"
          ]
        }
      ]
    },
    {
      "cell_type": "markdown",
      "metadata": {
        "id": "SS_simmq8A4M"
      },
      "source": [
        "Testando o modelo com dataset de teste que equivale 50% do dataset total"
      ]
    },
    {
      "cell_type": "code",
      "metadata": {
        "id": "ZCqSvo7hjXl0",
        "colab": {
          "base_uri": "https://localhost:8080/"
        },
        "outputId": "8bc98943-2e85-424d-f81b-5ef7fcdfc306"
      },
      "source": [
        "# Testa o treino com todas as classes\n",
        "all_results_mlp = model_mlp.evaluate(x_test, y_test, verbose=1)\n",
        "print_metrics(all_results_mlp)"
      ],
      "execution_count": 110,
      "outputs": [
        {
          "output_type": "stream",
          "name": "stdout",
          "text": [
            "81/81 [==============================] - 0s 2ms/step - loss: 0.1099 - accuracy: 0.9616 - precision: 0.9849 - recall: 0.9753 - f1_score: 0.9801 - true_negative: 125754.3125\n",
            "Loss: 0.10985103994607925\n",
            "Accuracy: 0.9615533947944641\n",
            "Precision: 0.9849181771278381\n",
            "Recall: 0.9753333926200867\n",
            "F1 Score: 0.9801021814346313\n",
            "Specificity: 125754.3125\n"
          ]
        }
      ]
    },
    {
      "cell_type": "code",
      "metadata": {
        "colab": {
          "base_uri": "https://localhost:8080/"
        },
        "id": "4ERqhIRbBBuq",
        "outputId": "a02e499d-1fb9-432c-bb35-c0fb4cee1452"
      },
      "source": [
        "# Testa o treino apenas com a classe LAYING\n",
        "laying_results_mlp = model_mlp.evaluate(x_test_laying, y_test_laying, verbose=1)\n",
        "print_metrics(laying_results_mlp)"
      ],
      "execution_count": 111,
      "outputs": [
        {
          "output_type": "stream",
          "name": "stdout",
          "text": [
            "15/15 [==============================] - 0s 2ms/step - loss: 0.3886 - accuracy: 0.9034 - precision: 0.9852 - recall: 0.9749 - f1_score: 0.9800 - true_negative: 126777.0000\n",
            "Loss: 0.3885659873485565\n",
            "Accuracy: 0.9033613204956055\n",
            "Precision: 0.9851570129394531\n",
            "Recall: 0.9749115705490112\n",
            "F1 Score: 0.9800072908401489\n",
            "Specificity: 126777.0\n"
          ]
        }
      ]
    },
    {
      "cell_type": "code",
      "metadata": {
        "colab": {
          "base_uri": "https://localhost:8080/",
          "height": 281
        },
        "id": "HrE8In3KVtr9",
        "outputId": "bce07ff4-a43c-44d4-d771-b3032d2bab5f"
      },
      "source": [
        "plot_loss(history_mlp, 20)"
      ],
      "execution_count": 112,
      "outputs": [
        {
          "output_type": "display_data",
          "data": {
            "image/png": "[encoded data removed]",
            "text/plain": [
              "<Figure size 432x288 with 1 Axes>"
            ]
          },
          "metadata": {
            "needs_background": "light"
          }
        }
      ]
    },
    {
      "cell_type": "markdown",
      "metadata": {
        "id": "qJRL8rJmkJaU"
      },
      "source": [
        "# Convolutional Neural Network (CNN)\n",
        "Uma **Artificial Neural Network (ANN)** é uma série de algoritmos que se esforçam para reconhecer relacionamentos subjacentes em um conjunto de dados, por meio de um processo que imita a maneira como o cérebro humano opera. As **ANN** podem se adaptar a mudanças de entrada para que a rede gere o melhor resultado possível sem a necessidade de redesenhar os critérios de saída.\n",
        "\n",
        "As **Convolutional Neural Network (CNN)** são um tipo especializado de ANN que usam convolução no lugar da multiplicação geral da matriz em pelo menos uma de suas camadas."
      ]
    },
    {
      "cell_type": "code",
      "metadata": {
        "id": "7yD15rTtkP3G",
        "colab": {
          "base_uri": "https://localhost:8080/"
        },
        "outputId": "efded551-6aa9-4936-a52c-5a5f3168db7c"
      },
      "source": [
        "n_timesteps, n_features, n_outputs = x_train.shape[0], x_train.shape[1], y_train.shape[0]\n",
        "\n",
        "# Adicionando mais uma dimensão a x, para ficarem 3, como é pedido no Conv1D\n",
        "x_train_cnn = x_train[..., None]\n",
        "x_validate_cnn = x_validate[..., None]\n",
        "\n",
        "model_cnn = Sequential()\n",
        "model_cnn.add(Conv1D(filters=64, kernel_size=2, activation='relu', input_shape=x_train_cnn.shape[1:]))\n",
        "model_cnn.add(Dropout(0.2))\n",
        "model_cnn.add(Conv1D(filters=64, kernel_size=2, activation='relu')) # filters = quantas janelas diferentes com o mesmo comprimento | kernel_size = define o tamanho da janela deslizante\n",
        "model_cnn.add(Dropout(0.2))\n",
        "model_cnn.add(MaxPooling1D(pool_size=2)) # tamanho da janela de max pooling\n",
        "model_cnn.add(Dropout(0.2))\n",
        "model_cnn.add(Flatten()) # agrupa features map em uma coluna\n",
        "model_cnn.add(Dense(10, activation='softmax'))\n",
        " \n",
        "model_cnn.compile(optimizer='adam', loss='sparse_categorical_crossentropy', metrics=['accuracy',\n",
        "                                                                                     keras_metrics.sparse_categorical_precision(), \n",
        "                                                                                     keras_metrics.sparse_categorical_recall(), \n",
        "                                                                                     keras_metrics.sparse_categorical_f1_score(), \n",
        "                                                                                     keras_metrics.sparse_categorical_true_negative()])\n",
        "history_cnn = model_cnn.fit(x_train_cnn, y_train, batch_size=64, epochs=20, validation_data=(x_validate_cnn, y_validate))"
      ],
      "execution_count": 113,
      "outputs": [
        {
          "output_type": "stream",
          "name": "stdout",
          "text": [
            "Epoch 1/20\n"
          ]
        },
        {
          "output_type": "stream",
          "name": "stderr",
          "text": [
            "/usr/local/lib/python3.7/dist-packages/keras_metrics/metrics.py:26: UserWarning: `layer.updates` will be removed in a future version. This property should not be used in TensorFlow 2.0, as `updates` are applied automatically.\n",
            "  return object.__getattribute__(self, name)\n"
          ]
        },
        {
          "output_type": "stream",
          "name": "stdout",
          "text": [
            "81/81 [==============================] - 14s 163ms/step - loss: 0.7495 - accuracy: 0.6865 - precision: 0.6690 - recall: 0.3760 - f1_score: 0.4721 - true_negative: 2075.8025 - val_loss: 0.3210 - val_accuracy: 0.8920 - val_precision: 0.9354 - val_recall: 0.7390 - val_f1_score: 0.8255 - val_true_negative: 5190.3901\n",
            "Epoch 2/20\n",
            "81/81 [==============================] - 13s 155ms/step - loss: 0.2539 - accuracy: 0.9037 - precision: 0.9571 - recall: 0.8340 - f1_score: 0.8912 - true_negative: 8270.5684 - val_loss: 0.3022 - val_accuracy: 0.8835 - val_precision: 0.9683 - val_recall: 0.8776 - val_f1_score: 0.9207 - val_true_negative: 11431.1709\n",
            "Epoch 3/20\n",
            "81/81 [==============================] - 13s 156ms/step - loss: 0.1653 - accuracy: 0.9369 - precision: 0.9737 - recall: 0.9031 - f1_score: 0.9371 - true_negative: 14533.1113 - val_loss: 0.1854 - val_accuracy: 0.9313 - val_precision: 0.9783 - val_recall: 0.9196 - val_f1_score: 0.9480 - val_true_negative: 17679.7812\n",
            "Epoch 4/20\n",
            "81/81 [==============================] - 13s 156ms/step - loss: 0.1249 - accuracy: 0.9522 - precision: 0.9811 - recall: 0.9312 - f1_score: 0.9555 - true_negative: 20796.7285 - val_loss: 0.1626 - val_accuracy: 0.9410 - val_precision: 0.9837 - val_recall: 0.9402 - val_f1_score: 0.9614 - val_true_negative: 23932.8301\n",
            "Epoch 5/20\n",
            "81/81 [==============================] - 13s 155ms/step - loss: 0.1146 - accuracy: 0.9553 - precision: 0.9855 - recall: 0.9468 - f1_score: 0.9658 - true_negative: 27059.0488 - val_loss: 0.1686 - val_accuracy: 0.9317 - val_precision: 0.9870 - val_recall: 0.9525 - val_f1_score: 0.9694 - val_true_negative: 30187.7812\n",
            "Epoch 6/20\n",
            "81/81 [==============================] - 13s 155ms/step - loss: 0.0891 - accuracy: 0.9678 - precision: 0.9882 - recall: 0.9570 - f1_score: 0.9723 - true_negative: 33283.5312 - val_loss: 0.1378 - val_accuracy: 0.9522 - val_precision: 0.9892 - val_recall: 0.9606 - val_f1_score: 0.9747 - val_true_negative: 36442.8281\n",
            "Epoch 7/20\n",
            "81/81 [==============================] - 13s 156ms/step - loss: 0.0909 - accuracy: 0.9645 - precision: 0.9900 - recall: 0.9637 - f1_score: 0.9767 - true_negative: 39549.7773 - val_loss: 0.1079 - val_accuracy: 0.9619 - val_precision: 0.9906 - val_recall: 0.9663 - val_f1_score: 0.9783 - val_true_negative: 42697.1445\n",
            "Epoch 8/20\n",
            "81/81 [==============================] - 13s 155ms/step - loss: 0.0753 - accuracy: 0.9695 - precision: 0.9910 - recall: 0.9685 - f1_score: 0.9796 - true_negative: 45811.8516 - val_loss: 0.1114 - val_accuracy: 0.9581 - val_precision: 0.9915 - val_recall: 0.9706 - val_f1_score: 0.9809 - val_true_negative: 48949.1445\n",
            "Epoch 9/20\n",
            "81/81 [==============================] - 13s 155ms/step - loss: 0.0654 - accuracy: 0.9753 - precision: 0.9917 - recall: 0.9723 - f1_score: 0.9819 - true_negative: 52074.0742 - val_loss: 0.0933 - val_accuracy: 0.9650 - val_precision: 0.9922 - val_recall: 0.9739 - val_f1_score: 0.9830 - val_true_negative: 55201.4883\n",
            "Epoch 10/20\n",
            "81/81 [==============================] - 13s 155ms/step - loss: 0.0575 - accuracy: 0.9796 - precision: 0.9925 - recall: 0.9753 - f1_score: 0.9838 - true_negative: 58303.3828 - val_loss: 0.1881 - val_accuracy: 0.9309 - val_precision: 0.9928 - val_recall: 0.9765 - val_f1_score: 0.9846 - val_true_negative: 61453.8281\n",
            "Epoch 11/20\n",
            "81/81 [==============================] - 12s 155ms/step - loss: 0.0640 - accuracy: 0.9761 - precision: 0.9931 - recall: 0.9776 - f1_score: 0.9853 - true_negative: 64579.9141 - val_loss: 0.1186 - val_accuracy: 0.9553 - val_precision: 0.9934 - val_recall: 0.9786 - val_f1_score: 0.9860 - val_true_negative: 67709.5391\n",
            "Epoch 12/20\n",
            "81/81 [==============================] - 13s 155ms/step - loss: 0.0611 - accuracy: 0.9777 - precision: 0.9937 - recall: 0.9796 - f1_score: 0.9866 - true_negative: 70819.4297 - val_loss: 0.0949 - val_accuracy: 0.9623 - val_precision: 0.9939 - val_recall: 0.9804 - val_f1_score: 0.9871 - val_true_negative: 73964.5391\n",
            "Epoch 13/20\n",
            "81/81 [==============================] - 13s 155ms/step - loss: 0.0537 - accuracy: 0.9798 - precision: 0.9941 - recall: 0.9812 - f1_score: 0.9876 - true_negative: 77089.7891 - val_loss: 0.1049 - val_accuracy: 0.9639 - val_precision: 0.9944 - val_recall: 0.9820 - val_f1_score: 0.9881 - val_true_negative: 80219.8281\n",
            "Epoch 14/20\n",
            "81/81 [==============================] - 12s 154ms/step - loss: 0.0534 - accuracy: 0.9786 - precision: 0.9946 - recall: 0.9826 - f1_score: 0.9886 - true_negative: 83335.9609 - val_loss: 0.0844 - val_accuracy: 0.9724 - val_precision: 0.9948 - val_recall: 0.9833 - val_f1_score: 0.9890 - val_true_negative: 86475.8281\n",
            "Epoch 15/20\n",
            "81/81 [==============================] - 13s 155ms/step - loss: 0.0452 - accuracy: 0.9847 - precision: 0.9950 - recall: 0.9839 - f1_score: 0.9894 - true_negative: 89580.5312 - val_loss: 0.1154 - val_accuracy: 0.9588 - val_precision: 0.9951 - val_recall: 0.9844 - val_f1_score: 0.9897 - val_true_negative: 92731.4844\n",
            "Epoch 16/20\n",
            "81/81 [==============================] - 12s 154ms/step - loss: 0.0461 - accuracy: 0.9823 - precision: 0.9952 - recall: 0.9849 - f1_score: 0.9900 - true_negative: 95836.3672 - val_loss: 0.1328 - val_accuracy: 0.9538 - val_precision: 0.9953 - val_recall: 0.9854 - val_f1_score: 0.9903 - val_true_negative: 98985.5391\n",
            "Epoch 17/20\n",
            "81/81 [==============================] - 13s 155ms/step - loss: 0.0519 - accuracy: 0.9800 - precision: 0.9955 - recall: 0.9858 - f1_score: 0.9906 - true_negative: 102092.8047 - val_loss: 0.0857 - val_accuracy: 0.9740 - val_precision: 0.9956 - val_recall: 0.9862 - val_f1_score: 0.9909 - val_true_negative: 105240.5391\n",
            "Epoch 18/20\n",
            "81/81 [==============================] - 12s 154ms/step - loss: 0.0556 - accuracy: 0.9796 - precision: 0.9957 - recall: 0.9866 - f1_score: 0.9911 - true_negative: 108352.3203 - val_loss: 0.0952 - val_accuracy: 0.9701 - val_precision: 0.9958 - val_recall: 0.9870 - val_f1_score: 0.9914 - val_true_negative: 111495.5391\n",
            "Epoch 19/20\n",
            "81/81 [==============================] - 13s 156ms/step - loss: 0.0398 - accuracy: 0.9849 - precision: 0.9959 - recall: 0.9874 - f1_score: 0.9916 - true_negative: 114609.2734 - val_loss: 0.1096 - val_accuracy: 0.9647 - val_precision: 0.9960 - val_recall: 0.9877 - val_f1_score: 0.9918 - val_true_negative: 117750.4844\n",
            "Epoch 20/20\n",
            "81/81 [==============================] - 13s 156ms/step - loss: 0.0430 - accuracy: 0.9843 - precision: 0.9960 - recall: 0.9880 - f1_score: 0.9920 - true_negative: 120862.5938 - val_loss: 0.1133 - val_accuracy: 0.9596 - val_precision: 0.9961 - val_recall: 0.9883 - val_f1_score: 0.9922 - val_true_negative: 124004.5391\n"
          ]
        }
      ]
    },
    {
      "cell_type": "code",
      "metadata": {
        "id": "tpZqaAIrt1pc",
        "colab": {
          "base_uri": "https://localhost:8080/"
        },
        "outputId": "52aece5d-e0fe-42a9-e92a-d709a6bcf86f"
      },
      "source": [
        "# Testando o model após treinamento\n",
        "x_test_cnn = x_test[..., None]\n",
        "all_results_cnn = model_cnn.evaluate(x_test, y_test, verbose=1)\n",
        "print_metrics(all_results_cnn)"
      ],
      "execution_count": 114,
      "outputs": [
        {
          "output_type": "stream",
          "name": "stderr",
          "text": [
            "/usr/local/lib/python3.7/dist-packages/keras_metrics/metrics.py:26: UserWarning: `layer.updates` will be removed in a future version. This property should not be used in TensorFlow 2.0, as `updates` are applied automatically.\n",
            "  return object.__getattribute__(self, name)\n"
          ]
        },
        {
          "output_type": "stream",
          "name": "stdout",
          "text": [
            "81/81 [==============================] - 2s 15ms/step - loss: 0.0968 - accuracy: 0.9662 - precision: 0.9962 - recall: 0.9885 - f1_score: 0.9923 - true_negative: 126083.3125\n",
            "Loss: 0.09682712703943253\n",
            "Accuracy: 0.966213583946228\n",
            "Precision: 0.9961521625518799\n",
            "Recall: 0.9885116219520569\n",
            "F1 Score: 0.9923171997070312\n",
            "Specificity: 126083.3125\n"
          ]
        }
      ]
    },
    {
      "cell_type": "code",
      "metadata": {
        "id": "Exw1CpM3pfcg",
        "colab": {
          "base_uri": "https://localhost:8080/"
        },
        "outputId": "1fe0974a-84e5-4e64-a379-107ca6c44119"
      },
      "source": [
        "# Testa o treino apenas com a classe LAYING\n",
        "laying_results_cnn = model_cnn.evaluate(x_test_laying, y_test_laying, verbose=1)\n",
        "print_metrics(laying_results_cnn)"
      ],
      "execution_count": 115,
      "outputs": [
        {
          "output_type": "stream",
          "name": "stdout",
          "text": [
            "15/15 [==============================] - 0s 16ms/step - loss: 0.4577 - accuracy: 0.9391 - precision: 0.9962 - recall: 0.9883 - f1_score: 0.9922 - true_negative: 127106.0000\n",
            "Loss: 0.4577447772026062\n",
            "Accuracy: 0.9390756487846375\n",
            "Precision: 0.9962145686149597\n",
            "Recall: 0.9882500767707825\n",
            "F1 Score: 0.992216169834137\n",
            "Specificity: 127106.0\n"
          ]
        }
      ]
    },
    {
      "cell_type": "code",
      "metadata": {
        "colab": {
          "base_uri": "https://localhost:8080/",
          "height": 281
        },
        "id": "ZCpq1gA7Wj0M",
        "outputId": "04e3eddb-0749-4eaf-efba-1eda151e8416"
      },
      "source": [
        "plot_loss(history_cnn, 20)"
      ],
      "execution_count": 116,
      "outputs": [
        {
          "output_type": "display_data",
          "data": {
            "image/png": "[encoded data removed]",
            "text/plain": [
              "<Figure size 432x288 with 1 Axes>"
            ]
          },
          "metadata": {
            "needs_background": "light"
          }
        }
      ]
    },
    {
      "cell_type": "markdown",
      "metadata": {
        "id": "qcBUtkdcBNfY"
      },
      "source": [
        "# Recurrent Neural Network (RNN)\n",
        "\n",
        "**Recurrent Neural Network (RNN)** tem uma conexão recorrente no *hidden state*. Essa restrição de loop garante que as informações sequenciais sejam capturadas nos dados de entrada."
      ]
    },
    {
      "cell_type": "code",
      "metadata": {
        "colab": {
          "base_uri": "https://localhost:8080/"
        },
        "id": "fJpQMVqfPWlw",
        "outputId": "04affdf9-c1ab-41f0-e406-b3b3f1d5342a"
      },
      "source": [
        "x_train_rnn = x_train[..., None]\n",
        "x_validate_rnn = x_validate[..., None]\n",
        "\n",
        "model_rnn2 = keras.models.Sequential()\n",
        "model_rnn2.add(keras.Input(shape=x_train_rnn.shape[1:])) \n",
        "model_rnn2.add(layers.SimpleRNN(128, return_sequences=True, activation='relu')) # dimensionalidade do espaço de saída | return_sequences=True\n",
        "model_rnn2.add(Dropout(0.2))\n",
        "model_rnn2.add(Flatten())\n",
        "model_rnn2.add(layers.Dense(10))\n",
        "\n",
        "model_rnn2.summary()"
      ],
      "execution_count": 117,
      "outputs": [
        {
          "output_type": "stream",
          "name": "stdout",
          "text": [
            "Model: \"sequential_13\"\n",
            "_________________________________________________________________\n",
            " Layer (type)                Output Shape              Param #   \n",
            "=================================================================\n",
            " simple_rnn_2 (SimpleRNN)    (None, 561, 128)          16640     \n",
            "                                                                 \n",
            " dropout_23 (Dropout)        (None, 561, 128)          0         \n",
            "                                                                 \n",
            " flatten_6 (Flatten)         (None, 71808)             0         \n",
            "                                                                 \n",
            " dense_26 (Dense)            (None, 10)                718090    \n",
            "                                                                 \n",
            "=================================================================\n",
            "Total params: 734,730\n",
            "Trainable params: 734,730\n",
            "Non-trainable params: 0\n",
            "_________________________________________________________________\n"
          ]
        }
      ]
    },
    {
      "cell_type": "code",
      "metadata": {
        "id": "m13sO2U6Jn74",
        "colab": {
          "base_uri": "https://localhost:8080/"
        },
        "outputId": "49c517a8-b15b-4fd5-c778-745edd3f64dc"
      },
      "source": [
        "loss = keras.losses.SparseCategoricalCrossentropy(from_logits=True)\n",
        "optim = keras.optimizers.Adam(lr=0.001)\n",
        "metrics = [\"accuracy\", \n",
        "            keras_metrics.sparse_categorical_precision(), \n",
        "            keras_metrics.sparse_categorical_recall(), \n",
        "            keras_metrics.sparse_categorical_f1_score(), \n",
        "            keras_metrics.sparse_categorical_true_negative()]\n",
        "\n",
        "model_rnn2.compile(loss=loss, optimizer=optim, metrics=metrics)"
      ],
      "execution_count": 118,
      "outputs": [
        {
          "output_type": "stream",
          "name": "stderr",
          "text": [
            "/usr/local/lib/python3.7/dist-packages/keras/optimizer_v2/adam.py:105: UserWarning: The `lr` argument is deprecated, use `learning_rate` instead.\n",
            "  super(Adam, self).__init__(name, **kwargs)\n"
          ]
        }
      ]
    },
    {
      "cell_type": "code",
      "metadata": {
        "id": "Tav3miXhJuYX",
        "colab": {
          "base_uri": "https://localhost:8080/"
        },
        "outputId": "7be91688-478b-4e5d-d68c-d603b33cab29"
      },
      "source": [
        "history_rnn2 = model_rnn2.fit(\n",
        "    x_train_rnn, y_train, validation_data=(x_validate_rnn, y_validate), batch_size=64, epochs=10\n",
        ")"
      ],
      "execution_count": 119,
      "outputs": [
        {
          "output_type": "stream",
          "name": "stdout",
          "text": [
            "Epoch 1/10\n"
          ]
        },
        {
          "output_type": "stream",
          "name": "stderr",
          "text": [
            "/usr/local/lib/python3.7/dist-packages/keras_metrics/metrics.py:26: UserWarning: `layer.updates` will be removed in a future version. This property should not be used in TensorFlow 2.0, as `updates` are applied automatically.\n",
            "  return object.__getattribute__(self, name)\n"
          ]
        },
        {
          "output_type": "stream",
          "name": "stdout",
          "text": [
            "81/81 [==============================] - 27s 314ms/step - loss: 0.4358 - accuracy: 0.8167 - precision: 1.3982 - recall: 6.9615 - f1_score: 2.2754 - true_negative: 3629.4075 - val_loss: 0.2310 - val_accuracy: 0.9017 - val_precision: 4.2638 - val_recall: 10.1211 - val_f1_score: 5.9906 - val_true_negative: 14884.6338\n",
            "Epoch 2/10\n",
            "81/81 [==============================] - 25s 308ms/step - loss: 0.1218 - accuracy: 0.9518 - precision: 4.4623 - recall: 11.0976 - f1_score: 30.0529 - true_negative: 29375.6172 - val_loss: 0.1224 - val_accuracy: 0.9515 - val_precision: -6.7462 - val_recall: 11.8538 - val_f1_score: -52.6657 - val_true_negative: 48799.4648\n",
            "Epoch 3/10\n",
            "81/81 [==============================] - 25s 313ms/step - loss: 0.0754 - accuracy: 0.9707 - precision: -3.2843 - recall: 12.4147 - f1_score: -9.0872 - true_negative: 70965.0391 - val_loss: 0.1054 - val_accuracy: 0.9600 - val_precision: -2.5848 - val_recall: 12.9876 - val_f1_score: -6.4572 - val_true_negative: 93032.9766\n",
            "Epoch 4/10\n",
            "81/81 [==============================] - 25s 311ms/step - loss: 0.0612 - accuracy: 0.9779 - precision: -2.2507 - recall: 13.4628 - f1_score: -5.4135 - true_negative: 117035.9141 - val_loss: 0.1462 - val_accuracy: 0.9437 - val_precision: -1.9326 - val_recall: 13.7275 - val_f1_score: -4.4988 - val_true_negative: 141591.1250\n",
            "Epoch 5/10\n",
            "81/81 [==============================] - 25s 312ms/step - loss: 0.0461 - accuracy: 0.9841 - precision: -1.8058 - recall: 13.9411 - f1_score: -4.1504 - true_negative: 165779.7969 - val_loss: 0.0760 - val_accuracy: 0.9705 - val_precision: -1.5753 - val_recall: 14.1759 - val_f1_score: -3.5449 - val_true_negative: 195171.7031\n",
            "Epoch 6/10\n",
            "81/81 [==============================] - 25s 308ms/step - loss: 0.0451 - accuracy: 0.9843 - precision: -1.4814 - recall: 14.4701 - f1_score: -3.3009 - true_negative: 223850.9688 - val_loss: 0.0662 - val_accuracy: 0.9786 - val_precision: -1.4157 - val_recall: 14.6896 - val_f1_score: -3.1333 - val_true_negative: 251613.3125\n",
            "Epoch 7/10\n",
            "81/81 [==============================] - 25s 311ms/step - loss: 0.0292 - accuracy: 0.9897 - precision: -1.3399 - recall: 14.8789 - f1_score: -2.9453 - true_negative: 281752.2812 - val_loss: 0.1255 - val_accuracy: 0.9596 - val_precision: -1.2399 - val_recall: 15.0279 - val_f1_score: -2.7029 - val_true_negative: 315611.7812\n",
            "Epoch 8/10\n",
            "81/81 [==============================] - 25s 308ms/step - loss: 0.0326 - accuracy: 0.9885 - precision: -1.1979 - recall: 15.2303 - f1_score: -2.6004 - true_negative: 347395.5000 - val_loss: 0.0953 - val_accuracy: 0.9662 - val_precision: -1.1449 - val_recall: 15.3373 - val_f1_score: -2.4746 - val_true_negative: 379954.9375\n",
            "Epoch 9/10\n",
            "81/81 [==============================] - 25s 305ms/step - loss: 0.0303 - accuracy: 0.9887 - precision: -1.1109 - recall: 15.3891 - f1_score: -2.3948 - true_negative: 410628.9062 - val_loss: 0.0764 - val_accuracy: 0.9701 - val_precision: -1.0690 - val_recall: 15.4906 - val_f1_score: -2.2965 - val_true_negative: 444577.2812\n",
            "Epoch 10/10\n",
            "81/81 [==============================] - 25s 308ms/step - loss: 0.0213 - accuracy: 0.9926 - precision: -1.0564 - recall: 15.6139 - f1_score: -2.2662 - true_negative: 475517.0000 - val_loss: 0.0872 - val_accuracy: 0.9701 - val_precision: -1.0427 - val_recall: 15.7870 - val_f1_score: -2.2328 - val_true_negative: 508526.3438\n"
          ]
        }
      ]
    },
    {
      "cell_type": "code",
      "metadata": {
        "id": "EoBTjecAVhia",
        "colab": {
          "base_uri": "https://localhost:8080/"
        },
        "outputId": "6c288a78-4193-4ddb-a44e-6e5ca9fc272f"
      },
      "source": [
        "all_results_rnn = model_rnn2.evaluate(x_test, y_test, batch_size=64, verbose=2)\n",
        "print_metrics(all_results_rnn)"
      ],
      "execution_count": 120,
      "outputs": [
        {
          "output_type": "stream",
          "name": "stderr",
          "text": [
            "/usr/local/lib/python3.7/dist-packages/keras_metrics/metrics.py:26: UserWarning: `layer.updates` will be removed in a future version. This property should not be used in TensorFlow 2.0, as `updates` are applied automatically.\n",
            "  return object.__getattribute__(self, name)\n"
          ]
        },
        {
          "output_type": "stream",
          "name": "stdout",
          "text": [
            "41/41 - 4s - loss: 0.0720 - accuracy: 0.9744 - precision: -1.0211e+00 - recall: 15.8831 - f1_score: -2.1826e+00 - true_negative: 532783.3125 - 4s/epoch - 89ms/step\n",
            "Loss: 0.07202666252851486\n",
            "Accuracy: 0.9743689298629761\n",
            "Precision: -1.0211200714111328\n",
            "Recall: 15.883074760437012\n",
            "F1 Score: -2.1825625896453857\n",
            "Specificity: 532783.3125\n"
          ]
        }
      ]
    },
    {
      "cell_type": "code",
      "metadata": {
        "id": "yVUWa6D4q-4Y",
        "colab": {
          "base_uri": "https://localhost:8080/"
        },
        "outputId": "ae3f553a-a367-4b31-9631-f02a85de68fe"
      },
      "source": [
        "# Testa o treino apenas com a classe LAYING\n",
        "laying_results_rnn = model_rnn2.evaluate(x_test_laying, y_test_laying, verbose=1)\n",
        "print_metrics(laying_results_rnn)"
      ],
      "execution_count": 121,
      "outputs": [
        {
          "output_type": "stream",
          "name": "stdout",
          "text": [
            "15/15 [==============================] - 1s 52ms/step - loss: 0.8490 - accuracy: 0.8025 - precision: -1.0423 - recall: 15.8728 - f1_score: -2.2312 - true_negative: 543995.0000\n",
            "Loss: 0.8489676117897034\n",
            "Accuracy: 0.8025209903717041\n",
            "Precision: -1.0423343181610107\n",
            "Recall: 15.872782707214355\n",
            "F1 Score: -2.231231212615967\n",
            "Specificity: 543995.0\n"
          ]
        }
      ]
    },
    {
      "cell_type": "code",
      "metadata": {
        "colab": {
          "base_uri": "https://localhost:8080/",
          "height": 281
        },
        "id": "bArtfDGEZTqF",
        "outputId": "d5b9e5cc-0924-45f8-bcfc-79c102213332"
      },
      "source": [
        "plot_loss(history_rnn2, 10)"
      ],
      "execution_count": 122,
      "outputs": [
        {
          "output_type": "display_data",
          "data": {
            "image/png": "[encoded data removed]",
            "text/plain": [
              "<Figure size 432x288 with 1 Axes>"
            ]
          },
          "metadata": {
            "needs_background": "light"
          }
        }
      ]
    },
    {
      "cell_type": "markdown",
      "metadata": {
        "id": "jEtTk01aGzlo"
      },
      "source": [
        "# Modelo Híbrido\n",
        "Criando modelo híbrido"
      ]
    },
    {
      "cell_type": "code",
      "metadata": {
        "id": "Z8UCRcOOG34C",
        "colab": {
          "base_uri": "https://localhost:8080/"
        },
        "outputId": "ba7c408b-fc29-498d-a995-206379ec6ac7"
      },
      "source": [
        "x_train = x_train[..., None]\n",
        "x_validate = x_validate[..., None]\n",
        "\n",
        "model_hyb = Sequential()\n",
        "# Model RNN\n",
        "model_hyb.add(keras.Input(shape=x_train_rnn.shape[1:])) \n",
        "model_hyb.add(layers.SimpleRNN(128, return_sequences=True, activation='relu'))\n",
        "# Model CNN\n",
        "model_hyb.add(Conv1D(filters=64, kernel_size=2, activation='relu'))\n",
        "model_hyb.add(Dropout(0.2))\n",
        "model_hyb.add(Conv1D(filters=64, kernel_size=2, activation='relu'))\n",
        "model_hyb.add(Dropout(0.2))\n",
        "model_hyb.add(MaxPooling1D(pool_size=2))\n",
        "model_hyb.add(Dropout(0.2))\n",
        "model_hyb.add(Flatten())\n",
        "# Model MLP\n",
        "model_hyb.add(Dense(64, activation='relu')) # Layer 1\n",
        "model_hyb.add(Dropout(0.2))\n",
        "model_hyb.add(Dense(64, activation='relu')) # Layer 2\n",
        "model_hyb.add(Dropout(0.2))\n",
        "model_hyb.add(Dense(10, activation='softmax'))\n",
        "\n",
        "model_hyb.summary()"
      ],
      "execution_count": 123,
      "outputs": [
        {
          "output_type": "stream",
          "name": "stdout",
          "text": [
            "Model: \"sequential_14\"\n",
            "_________________________________________________________________\n",
            " Layer (type)                Output Shape              Param #   \n",
            "=================================================================\n",
            " simple_rnn_3 (SimpleRNN)    (None, 561, 128)          16640     \n",
            "                                                                 \n",
            " conv1d_11 (Conv1D)          (None, 560, 64)           16448     \n",
            "                                                                 \n",
            " dropout_24 (Dropout)        (None, 560, 64)           0         \n",
            "                                                                 \n",
            " conv1d_12 (Conv1D)          (None, 559, 64)           8256      \n",
            "                                                                 \n",
            " dropout_25 (Dropout)        (None, 559, 64)           0         \n",
            "                                                                 \n",
            " max_pooling1d_5 (MaxPooling  (None, 279, 64)          0         \n",
            " 1D)                                                             \n",
            "                                                                 \n",
            " dropout_26 (Dropout)        (None, 279, 64)           0         \n",
            "                                                                 \n",
            " flatten_7 (Flatten)         (None, 17856)             0         \n",
            "                                                                 \n",
            " dense_27 (Dense)            (None, 64)                1142848   \n",
            "                                                                 \n",
            " dropout_27 (Dropout)        (None, 64)                0         \n",
            "                                                                 \n",
            " dense_28 (Dense)            (None, 64)                4160      \n",
            "                                                                 \n",
            " dropout_28 (Dropout)        (None, 64)                0         \n",
            "                                                                 \n",
            " dense_29 (Dense)            (None, 10)                650       \n",
            "                                                                 \n",
            "=================================================================\n",
            "Total params: 1,189,002\n",
            "Trainable params: 1,189,002\n",
            "Non-trainable params: 0\n",
            "_________________________________________________________________\n"
          ]
        }
      ]
    },
    {
      "cell_type": "code",
      "metadata": {
        "id": "zoXcRTZd-PPG",
        "colab": {
          "base_uri": "https://localhost:8080/"
        },
        "outputId": "631ae219-28d1-4f5a-8014-e903f186a27c"
      },
      "source": [
        "model_hyb.compile(optimizer='adam', loss='sparse_categorical_crossentropy', metrics=['accuracy',\n",
        "                                                                                      keras_metrics.sparse_categorical_precision(), \n",
        "                                                                                      keras_metrics.sparse_categorical_recall(), \n",
        "                                                                                      keras_metrics.sparse_categorical_f1_score(), \n",
        "                                                                                      keras_metrics.sparse_categorical_true_negative()])\n",
        "history = model_hyb.fit(x_train, y_train, batch_size=64, epochs=20, validation_data=(x_validate, y_validate))"
      ],
      "execution_count": 124,
      "outputs": [
        {
          "output_type": "stream",
          "name": "stdout",
          "text": [
            "Epoch 1/20\n"
          ]
        },
        {
          "output_type": "stream",
          "name": "stderr",
          "text": [
            "/usr/local/lib/python3.7/dist-packages/keras_metrics/metrics.py:26: UserWarning: `layer.updates` will be removed in a future version. This property should not be used in TensorFlow 2.0, as `updates` are applied automatically.\n",
            "  return object.__getattribute__(self, name)\n"
          ]
        },
        {
          "output_type": "stream",
          "name": "stdout",
          "text": [
            "81/81 [==============================] - 42s 495ms/step - loss: 0.9866 - accuracy: 0.5655 - precision: 0.5607 - recall: 0.3109 - f1_score: 0.3914 - true_negative: 2003.5802 - val_loss: 0.3136 - val_accuracy: 0.8858 - val_precision: 0.8547 - val_recall: 0.6618 - val_f1_score: 0.7459 - val_true_negative: 5115.7559\n",
            "Epoch 2/20\n",
            "81/81 [==============================] - 40s 493ms/step - loss: 0.3093 - accuracy: 0.8749 - precision: 0.9123 - recall: 0.7815 - f1_score: 0.8417 - true_negative: 8215.7041 - val_loss: 0.2208 - val_accuracy: 0.9076 - val_precision: 0.9382 - val_recall: 0.8399 - val_f1_score: 0.8863 - val_true_negative: 11359.4395\n",
            "Epoch 3/20\n",
            "81/81 [==============================] - 40s 493ms/step - loss: 0.2012 - accuracy: 0.9241 - precision: 0.9493 - recall: 0.8723 - f1_score: 0.9091 - true_negative: 14458.7412 - val_loss: 0.1247 - val_accuracy: 0.9522 - val_precision: 0.9574 - val_recall: 0.8938 - val_f1_score: 0.9245 - val_true_negative: 17598.8301\n",
            "Epoch 4/20\n",
            "81/81 [==============================] - 40s 492ms/step - loss: 0.1554 - accuracy: 0.9396 - precision: 0.9635 - recall: 0.9089 - f1_score: 0.9354 - true_negative: 20695.7402 - val_loss: 0.1122 - val_accuracy: 0.9553 - val_precision: 0.9679 - val_recall: 0.9204 - val_f1_score: 0.9435 - val_true_negative: 23848.4395\n",
            "Epoch 5/20\n",
            "81/81 [==============================] - 40s 494ms/step - loss: 0.1375 - accuracy: 0.9487 - precision: 0.9712 - recall: 0.9294 - f1_score: 0.9498 - true_negative: 26957.6660 - val_loss: 0.1116 - val_accuracy: 0.9577 - val_precision: 0.9742 - val_recall: 0.9366 - val_f1_score: 0.9550 - val_true_negative: 30100.4883\n",
            "Epoch 6/20\n",
            "81/81 [==============================] - 40s 494ms/step - loss: 0.1170 - accuracy: 0.9538 - precision: 0.9764 - recall: 0.9423 - f1_score: 0.9590 - true_negative: 33206.3203 - val_loss: 0.0968 - val_accuracy: 0.9596 - val_precision: 0.9783 - val_recall: 0.9470 - val_f1_score: 0.9624 - val_true_negative: 36352.7812\n",
            "Epoch 7/20\n",
            "81/81 [==============================] - 40s 491ms/step - loss: 0.1061 - accuracy: 0.9598 - precision: 0.9796 - recall: 0.9510 - f1_score: 0.9651 - true_negative: 39461.5312 - val_loss: 0.1556 - val_accuracy: 0.9390 - val_precision: 0.9808 - val_recall: 0.9544 - val_f1_score: 0.9674 - val_true_negative: 42601.3398\n",
            "Epoch 8/20\n",
            "81/81 [==============================] - 40s 493ms/step - loss: 0.0912 - accuracy: 0.9680 - precision: 0.9816 - recall: 0.9573 - f1_score: 0.9693 - true_negative: 45703.8164 - val_loss: 0.1055 - val_accuracy: 0.9546 - val_precision: 0.9827 - val_recall: 0.9598 - val_f1_score: 0.9711 - val_true_negative: 48850.1445\n",
            "Epoch 9/20\n",
            "81/81 [==============================] - 40s 492ms/step - loss: 0.0750 - accuracy: 0.9724 - precision: 0.9834 - recall: 0.9621 - f1_score: 0.9726 - true_negative: 51969.8281 - val_loss: 0.0672 - val_accuracy: 0.9736 - val_precision: 0.9842 - val_recall: 0.9641 - val_f1_score: 0.9741 - val_true_negative: 55100.4375\n",
            "Epoch 10/20\n",
            "81/81 [==============================] - 40s 492ms/step - loss: 0.0639 - accuracy: 0.9781 - precision: 0.9847 - recall: 0.9659 - f1_score: 0.9752 - true_negative: 58212.2969 - val_loss: 0.1045 - val_accuracy: 0.9612 - val_precision: 0.9854 - val_recall: 0.9675 - val_f1_score: 0.9764 - val_true_negative: 61349.4375\n",
            "Epoch 11/20\n",
            "81/81 [==============================] - 40s 491ms/step - loss: 0.0702 - accuracy: 0.9761 - precision: 0.9859 - recall: 0.9691 - f1_score: 0.9774 - true_negative: 64463.9258 - val_loss: 0.0971 - val_accuracy: 0.9674 - val_precision: 0.9865 - val_recall: 0.9704 - val_f1_score: 0.9784 - val_true_negative: 67601.4141\n",
            "Epoch 12/20\n",
            "81/81 [==============================] - 40s 492ms/step - loss: 0.0697 - accuracy: 0.9738 - precision: 0.9870 - recall: 0.9717 - f1_score: 0.9793 - true_negative: 70709.6562 - val_loss: 0.1035 - val_accuracy: 0.9612 - val_precision: 0.9875 - val_recall: 0.9729 - val_f1_score: 0.9801 - val_true_negative: 73854.8281\n",
            "Epoch 13/20\n",
            "81/81 [==============================] - 40s 496ms/step - loss: 0.0599 - accuracy: 0.9761 - precision: 0.9879 - recall: 0.9738 - f1_score: 0.9808 - true_negative: 76976.7188 - val_loss: 0.1305 - val_accuracy: 0.9604 - val_precision: 0.9883 - val_recall: 0.9748 - val_f1_score: 0.9815 - val_true_negative: 80107.8281\n",
            "Epoch 14/20\n",
            "81/81 [==============================] - 40s 500ms/step - loss: 0.0697 - accuracy: 0.9740 - precision: 0.9888 - recall: 0.9757 - f1_score: 0.9822 - true_negative: 83230.7891 - val_loss: 0.0902 - val_accuracy: 0.9678 - val_precision: 0.9892 - val_recall: 0.9766 - val_f1_score: 0.9829 - val_true_negative: 86363.8281\n",
            "Epoch 15/20\n",
            "81/81 [==============================] - 40s 499ms/step - loss: 0.0574 - accuracy: 0.9784 - precision: 0.9896 - recall: 0.9774 - f1_score: 0.9835 - true_negative: 89477.4531 - val_loss: 0.0650 - val_accuracy: 0.9763 - val_precision: 0.9898 - val_recall: 0.9782 - val_f1_score: 0.9840 - val_true_negative: 92617.8281\n",
            "Epoch 16/20\n",
            "81/81 [==============================] - 40s 498ms/step - loss: 0.0519 - accuracy: 0.9808 - precision: 0.9901 - recall: 0.9789 - f1_score: 0.9845 - true_negative: 95736.8359 - val_loss: 0.1454 - val_accuracy: 0.9534 - val_precision: 0.9904 - val_recall: 0.9795 - val_f1_score: 0.9850 - val_true_negative: 98872.8281\n",
            "Epoch 17/20\n",
            "81/81 [==============================] - 40s 500ms/step - loss: 0.0517 - accuracy: 0.9831 - precision: 0.9907 - recall: 0.9801 - f1_score: 0.9854 - true_negative: 101983.7188 - val_loss: 0.0869 - val_accuracy: 0.9693 - val_precision: 0.9910 - val_recall: 0.9807 - val_f1_score: 0.9858 - val_true_negative: 105128.8281\n",
            "Epoch 18/20\n",
            "81/81 [==============================] - 40s 498ms/step - loss: 0.0430 - accuracy: 0.9850 - precision: 0.9912 - recall: 0.9812 - f1_score: 0.9862 - true_negative: 108232.1875 - val_loss: 0.0792 - val_accuracy: 0.9728 - val_precision: 0.9914 - val_recall: 0.9818 - val_f1_score: 0.9866 - val_true_negative: 111382.8281\n",
            "Epoch 19/20\n",
            "81/81 [==============================] - 41s 502ms/step - loss: 0.0399 - accuracy: 0.9856 - precision: 0.9917 - recall: 0.9823 - f1_score: 0.9869 - true_negative: 114492.6797 - val_loss: 0.1653 - val_accuracy: 0.9550 - val_precision: 0.9919 - val_recall: 0.9827 - val_f1_score: 0.9873 - val_true_negative: 117638.8281\n",
            "Epoch 20/20\n",
            "81/81 [==============================] - 40s 499ms/step - loss: 0.0400 - accuracy: 0.9862 - precision: 0.9921 - recall: 0.9832 - f1_score: 0.9876 - true_negative: 120745.3438 - val_loss: 0.0918 - val_accuracy: 0.9713 - val_precision: 0.9922 - val_recall: 0.9835 - val_f1_score: 0.9879 - val_true_negative: 123892.8281\n"
          ]
        }
      ]
    },
    {
      "cell_type": "code",
      "metadata": {
        "id": "gm3-0v4OB3K4",
        "colab": {
          "base_uri": "https://localhost:8080/"
        },
        "outputId": "836e2e59-093f-4e1a-d207-b597f0a6498e"
      },
      "source": [
        "# Testando o model após treinamento\n",
        "x_test_rnn2 = x_test[..., None]\n",
        "all_results_hyb = model_hyb.evaluate(x_test_rnn2, y_test, verbose=1)\n",
        "print_metrics(all_results_hyb)"
      ],
      "execution_count": 125,
      "outputs": [
        {
          "output_type": "stream",
          "name": "stdout",
          "text": [
            "81/81 [==============================] - 6s 73ms/step - loss: 0.0868 - accuracy: 0.9740 - precision: 0.9924 - recall: 0.9837 - f1_score: 0.9880 - true_negative: 125972.3125\n",
            "Loss: 0.0867949053645134\n",
            "Accuracy: 0.9739806056022644\n",
            "Precision: 0.9923648834228516\n",
            "Recall: 0.9837474226951599\n",
            "F1 Score: 0.9880369901657104\n",
            "Specificity: 125972.3125\n"
          ]
        }
      ]
    },
    {
      "cell_type": "code",
      "metadata": {
        "id": "lXUffx0Luffl",
        "colab": {
          "base_uri": "https://localhost:8080/"
        },
        "outputId": "a09706fe-a71f-40f1-8574-57f2a8aff972"
      },
      "source": [
        "# Testa o treino apenas com a classe LAYING\n",
        "laying_results_hyb = model_hyb.evaluate(x_test_laying, y_test_laying, verbose=1)\n",
        "print_metrics(laying_results_hyb)"
      ],
      "execution_count": 126,
      "outputs": [
        {
          "output_type": "stream",
          "name": "stderr",
          "text": [
            "/usr/local/lib/python3.7/dist-packages/keras_metrics/metrics.py:26: UserWarning: `layer.updates` will be removed in a future version. This property should not be used in TensorFlow 2.0, as `updates` are applied automatically.\n",
            "  return object.__getattribute__(self, name)\n"
          ]
        },
        {
          "output_type": "stream",
          "name": "stdout",
          "text": [
            "15/15 [==============================] - 2s 72ms/step - loss: 0.4876 - accuracy: 0.9328 - precision: 0.9925 - recall: 0.9835 - f1_score: 0.9880 - true_negative: 126995.0000\n",
            "Loss: 0.48757678270339966\n",
            "Accuracy: 0.9327731132507324\n",
            "Precision: 0.9924878478050232\n",
            "Recall: 0.9834827780723572\n",
            "F1 Score: 0.9879647493362427\n",
            "Specificity: 126995.0\n"
          ]
        }
      ]
    },
    {
      "cell_type": "code",
      "metadata": {
        "colab": {
          "base_uri": "https://localhost:8080/",
          "height": 281
        },
        "id": "NiEgMwDooJrI",
        "outputId": "7adf2122-6e5a-4d18-dbb4-d987a9b3dda4"
      },
      "source": [
        "plot_loss(history, 20)"
      ],
      "execution_count": 127,
      "outputs": [
        {
          "output_type": "display_data",
          "data": {
            "image/png": "[encoded data removed]",
            "text/plain": [
              "<Figure size 432x288 with 1 Axes>"
            ]
          },
          "metadata": {
            "needs_background": "light"
          }
        }
      ]
    },
    {
      "cell_type": "markdown",
      "metadata": {
        "id": "JEEhDXHjyF4Y"
      },
      "source": [
        "# Dados"
      ]
    },
    {
      "cell_type": "code",
      "metadata": {
        "id": "RWXNZxmgyJEh"
      },
      "source": [
        "loss = {\n",
        "  'MLP': laying_results_mlp[0], \n",
        "  'CNN': laying_results_cnn[0], \n",
        "  'RNN': laying_results_rnn[0], \n",
        "  'Hybrid': laying_results_hyb[0]\n",
        "}\n",
        "accuracy = {\n",
        "    'MLP': laying_results_mlp[1], \n",
        "    'CNN': laying_results_cnn[1], \n",
        "    'RNN': laying_results_rnn[1], \n",
        "    'Hybrid': laying_results_hyb[1]\n",
        "}\n",
        "\n",
        "precision = {\n",
        "    'MLP': laying_results_mlp[2], \n",
        "    'CNN': laying_results_cnn[2], \n",
        "    'RNN': laying_results_rnn[2], \n",
        "    'Hybrid': laying_results_hyb[2]\n",
        "}\n",
        "\n",
        "recall = {\n",
        "    'MLP': laying_results_mlp[3], \n",
        "    'CNN': laying_results_cnn[3], \n",
        "    'RNN': laying_results_rnn[3], \n",
        "    'Hybrid': laying_results_hyb[3]\n",
        "}\n",
        "\n",
        "f1_score = {\n",
        "    'MLP': laying_results_mlp[4], \n",
        "    'CNN': laying_results_cnn[4], \n",
        "    'RNN': laying_results_rnn[4], \n",
        "    'Hybrid': laying_results_hyb[4]\n",
        "}\n",
        "\n",
        "specificity = {\n",
        "    'MLP': laying_results_mlp[5], \n",
        "    'CNN': laying_results_cnn[5], \n",
        "    'RNN': laying_results_rnn[5], \n",
        "    'Hybrid': laying_results_hyb[5]\n",
        "}"
      ],
      "execution_count": 128,
      "outputs": []
    },
    {
      "cell_type": "markdown",
      "metadata": {
        "id": "Hng_Xo0BhVxq"
      },
      "source": [
        "# Conclusão\n",
        "\n",
        "Para analisar e comparar os resultados obtidos, plotamos os graficos que compara os modelos pelas metricas:\n",
        "\n",
        "\n",
        "* Loss: \n",
        "* Accuracy: \n",
        "* Precision: \n",
        "* Recall: \n",
        "* F1 Score: \n",
        "* Specificity: \n",
        "\n"
      ]
    },
    {
      "cell_type": "code",
      "metadata": {
        "colab": {
          "base_uri": "https://localhost:8080/",
          "height": 939
        },
        "id": "HPKLENLRoqVd",
        "outputId": "2af45b70-4447-47ac-ec57-1d98aa4f298c"
      },
      "source": [
        "plt.figure(figsize=(25, 25))\n",
        "plot_bar_graph(list(loss.keys()), list(loss.values()), \"Loss\", [3, 3, 1])\n",
        "plot_bar_graph(list(accuracy.keys()), list(accuracy.values()), \"Accuracy\",  [3, 3, 2])\n",
        "plot_bar_graph(list(precision.keys()), list(precision.values()), \"Precision\",  [3, 3, 3])\n",
        "plt.show()\n",
        "plt.figure(figsize=(25, 25))\n",
        "plot_bar_graph(list(recall.keys()), list(recall.values()), \"Recall\",  [3, 3, 1])\n",
        "plot_bar_graph(list(f1_score.keys()), list(f1_score.values()), \"F1 Score\",  [3, 3, 2])\n",
        "plot_bar_graph(list(specificity.keys()), list(specificity.values()), \"Specificity\",  [3, 3, 3])\n",
        "plt.show()"
      ],
      "execution_count": 129,
      "outputs": [
        {
          "output_type": "display_data",
          "data": {
            "image/png": "[encoded data removed]",
            "text/plain": [
              "<Figure size 1800x1800 with 3 Axes>"
            ]
          },
          "metadata": {
            "needs_background": "light"
          }
        },
        {
          "output_type": "display_data",
          "data": {
            "image/png": "[encoded data removed]",
            "text/plain": [
              "<Figure size 1800x1800 with 3 Axes>"
            ]
          },
          "metadata": {
            "needs_background": "light"
          }
        }
      ]
    },
    {
      "cell_type": "markdown",
      "metadata": {
        "id": "JuqYJ7RM5fDn"
      },
      "source": [
        "Com a analise dos graficos foi possivel identificar que o modelo **hybrid** obteve o melhor desempelho comparado com os outros modelos, mesmo comparada com a MLP, tecnica especifica para tratar de dados tabular, porem essa tecnica tem series de deficies, como:\n",
        "\n",
        "*   Recurrent connections:\n",
        "*   Parametersharing:\n",
        "*   Spatial relationship:\n",
        "\n",
        "Tecnicas que sao encontradas nos outros modelos, o que faz o hybrid o melhor modelo, ja que o deficie do MLP é suprido pelo RNN e CNN. "
      ]
    },
    {
      "cell_type": "markdown",
      "metadata": {
        "id": "fFpt-LlZ5cct"
      },
      "source": [
        "![image.png](https://cdn.analyticsvidhya.com/wp-content/uploads/2020/02/table.png)"
      ]
    }
  ]
}