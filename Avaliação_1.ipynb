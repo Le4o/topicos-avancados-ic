{
  "nbformat": 4,
  "nbformat_minor": 0,
  "metadata": {
    "colab": {
      "name": "Avaliação_1.ipynb",
      "provenance": [],
      "include_colab_link": true
    },
    "kernelspec": {
      "name": "python3",
      "display_name": "Python 3"
    },
    "language_info": {
      "name": "python"
    }
  },
  "cells": [
    {
      "cell_type": "markdown",
      "metadata": {
        "id": "view-in-github",
        "colab_type": "text"
      },
      "source": [
        "<a href=\"https://colab.research.google.com/github/Le4o/topicos-avancados-ic/blob/main/Avalia%C3%A7%C3%A3o_1.ipynb\" target=\"_parent\"><img src=\"https://colab.research.google.com/assets/colab-badge.svg\" alt=\"Open In Colab\"/></a>"
      ]
    },
    {
      "cell_type": "markdown",
      "metadata": {
        "id": "ph2GsBsm71kL"
      },
      "source": [
        "# Avaliação 1\n",
        "#### Exercício da matéria de Tópicos Avançados em Inteligência Computacional\n",
        "\n",
        "Grupo:\n",
        "- João Victor de Sledz Bulhões\n",
        "- Leonardo de Andrade Santana\n",
        "- Lis da Silva Azevedo"
      ]
    },
    {
      "cell_type": "markdown",
      "metadata": {
        "id": "aCjtVa-V8-Qq"
      },
      "source": [
        "### Definição do Exercício\n",
        "Utilizaremos o banco de dados do Human Activity Recognition with Smartphones, que foi construído a partir das gravações dos participantes do estudo realizando atividades da vida diária enquanto carregavam um smartphone com sensores inerciais embutidos. Para cada registro no conjunto de dados, é fornecido:\n",
        "\n",
        "- Aceleração triaxial do acelerômetro (aceleração total) e a aceleração corporal estimada.\n",
        "\n",
        "- Velocidade angular triaxial do giroscópio.\n",
        "\n",
        "- Um vetor de 561 atributos com variáveis de domínio de tempo e frequência.\n",
        "\n",
        "- O rótulo da atividade.\n",
        "\n",
        "### Objetivo:\n",
        "* Construir um modelo robusto para classificação das atividades diárias, utilizando o banco de dados fornecido, em uma das seis ações disponíveis:\n",
        "> 1. caminhar;\n",
        "> 2. subir escadas;\n",
        "> 3. descer escadas;\n",
        "> 4. sentar;\n",
        "> 5. ficar em pé;\n",
        "> 6. deitar.\n",
        "\n",
        "* Desenvolver 4 modelos, utilizando:\n",
        "> 1. Multi-Layer Perceptron (MLP)\n",
        "> 2. Convolutional Neural Network (CNN)\n",
        "> 3. Recurrent Neural Network (RNN)\n",
        "> 4. Arquitetura hibrida com a combinação das redes anteriores\n",
        "\n",
        "* Considere a divisão entre treinamento, validação e teste de 50%, 25% e 25%, respectivamente.\n",
        "\n",
        "* Utilizar como métricas: **precision, recall, specificity,\n",
        "F1-Score e accuracy**, evidenciando que o modelo não sofreu de **over/underfitting**.\n",
        "\n",
        "### Observação: \n",
        "*   *Apresentação de métricas, gráficos, são essenciais para entendimento dos modelos e justificativas.*\n",
        "*   *Compare ao final em uma tabela e apresente que técnica obteve os melhores\n",
        "resultados, discutindo-os à luz de seu conhecimento sobre o assunto, discutindo\n",
        "se eram resultados esperados, se estão adequados, e os porquês.*\n",
        "\n",
        "### Opcionais:\n",
        "\n",
        "*   A utilização de redes neurais baseadas em transformers é opcional e adicionará **1,0 ponto extra** ao projeto.\n",
        "*   A utilização de pré-processamento das séries com Wavelets OU transformadas de Fourier adicionará **1,0 ponto extra** ao projeto.\n",
        "\n",
        "\n",
        "### Link:\n",
        "\n",
        "* [Mais informações sobre os recursos estão disponíveis no site](https://archive.ics.uci.edu/ml/datasets/Human+Activity+Recognition+Using+Smartphones) \n"
      ]
    },
    {
      "cell_type": "code",
      "metadata": {
        "colab": {
          "base_uri": "https://localhost:8080/"
        },
        "id": "1UF0cRGhDgiY",
        "outputId": "d94de16f-0405-4462-902a-1c2b62b1e7f5"
      },
      "source": [
        "from google.colab import drive\n",
        "drive.mount('/content/drive/')\n",
        "%cd /content/drive/My Drive/Datasets"
      ],
      "execution_count": null,
      "outputs": [
        {
          "output_type": "stream",
          "name": "stdout",
          "text": [
            "Drive already mounted at /content/drive/; to attempt to forcibly remount, call drive.mount(\"/content/drive/\", force_remount=True).\n",
            "/content/drive/My Drive/Datasets\n"
          ]
        }
      ]
    },
    {
      "cell_type": "markdown",
      "metadata": {
        "id": "j9Y0uE6G8Cq7"
      },
      "source": [
        ""
      ]
    },
    {
      "cell_type": "code",
      "metadata": {
        "id": "oPcy7yBBJkXe",
        "colab": {
          "base_uri": "https://localhost:8080/"
        },
        "outputId": "71115c13-23d7-426a-b6ec-faab4a338942"
      },
      "source": [
        "!pip install tensorflow_addons keras_metrics\n",
        "import numpy as np \n",
        "import pandas as pd \n",
        "import tensorflow as tf\n",
        "import tensorflow_addons as tfa\n",
        "import keras_metrics\n",
        "import matplotlib.pyplot as plt\n",
        "from tensorflow import keras\n",
        "from tensorflow.keras.models import Sequential\n",
        "from tensorflow.keras import layers\n",
        "from keras.layers.convolutional import Conv1D\n",
        "from tensorflow.keras.layers import Dense, Dropout, MaxPooling1D, Flatten\n",
        "from tensorflow.keras.utils import to_categorical\n",
        "from tensorflow.keras.metrics import Precision, Recall\n",
        "from tensorflow_addons.metrics import F1Score\n",
        "from sklearn.preprocessing import LabelEncoder, MinMaxScaler\n",
        "from sklearn.metrics import accuracy_score, precision_score, recall_score, f1_score\n",
        "tf.get_logger().setLevel('ERROR')"
      ],
      "execution_count": null,
      "outputs": [
        {
          "output_type": "stream",
          "name": "stdout",
          "text": [
            "Requirement already satisfied: tensorflow_addons in /usr/local/lib/python3.7/dist-packages (0.15.0)\n",
            "Requirement already satisfied: keras_metrics in /usr/local/lib/python3.7/dist-packages (1.1.0)\n",
            "Requirement already satisfied: typeguard>=2.7 in /usr/local/lib/python3.7/dist-packages (from tensorflow_addons) (2.7.1)\n",
            "Requirement already satisfied: Keras>=2.1.5 in /usr/local/lib/python3.7/dist-packages (from keras_metrics) (2.7.0)\n"
          ]
        }
      ]
    },
    {
      "cell_type": "markdown",
      "metadata": {
        "id": "1cc1HvZ173f4"
      },
      "source": [
        "## Carregando os dados\n",
        "\n",
        "O dataset fornecido é segmentado em **70% treino e 30% teste**, porém a atividade pede para segmentar em: **50% treino, 25% validação e 25% teste.** Então nos primeiramente juntamos os dados.\n"
      ]
    },
    {
      "cell_type": "code",
      "metadata": {
        "colab": {
          "base_uri": "https://localhost:8080/"
        },
        "id": "7yALQSUMD5W4",
        "outputId": "96359606-3b79-45a9-9503-4cc52fd24e89"
      },
      "source": [
        "# Carregando os dados diretamente dos csvs do Human Activity Recognition with Smartphones\n",
        "train_data = pd.read_csv('./uci_har_csvs/train.csv')\n",
        "test_data = pd.read_csv('./uci_har_csvs/test.csv')\n",
        "\n",
        "print(f'Shape of train data is: {train_data.shape}\\nShape of test data is: {test_data.shape}')\n",
        "\n",
        "data = train_data.append(test_data)\n",
        "data.shape\n",
        "\n",
        "print(f'Shape of combined data is {data.shape}')"
      ],
      "execution_count": null,
      "outputs": [
        {
          "output_type": "stream",
          "name": "stdout",
          "text": [
            "Shape of train data is: (7352, 563)\n",
            "Shape of test data is: (2947, 563)\n",
            "Shape of combined data is (10299, 563)\n"
          ]
        }
      ]
    },
    {
      "cell_type": "markdown",
      "metadata": {
        "id": "QGe5x0Dw8IMt"
      },
      "source": [
        "## Analise inicial dos dados\n",
        "\n",
        "O dataset possui 6 classes, sendo elas:\n",
        "\n",
        "\n",
        "1.   Walking downstairs\n",
        "2.   Walking Upstairs\n",
        "3.   Walking\n",
        "4.   Sitting\n",
        "5.   Stading \n",
        "6.   Laying\n",
        "\n"
      ]
    },
    {
      "cell_type": "code",
      "metadata": {
        "id": "idSZzsaY20Yn",
        "colab": {
          "base_uri": "https://localhost:8080/",
          "height": 391
        },
        "outputId": "94d0ff9f-d65e-41fb-a450-f518fadbfca1"
      },
      "source": [
        "class_count = len(data['Activity'].unique())\n",
        "data['Activity'].value_counts().sort_values().plot(kind = 'bar', color = 'pink')"
      ],
      "execution_count": null,
      "outputs": [
        {
          "output_type": "execute_result",
          "data": {
            "text/plain": [
              "<matplotlib.axes._subplots.AxesSubplot at 0x7efd4a8d5750>"
            ]
          },
          "metadata": {},
          "execution_count": 100
        },
        {
          "output_type": "display_data",
          "data": {
            "image/png": "[encoded data removed]",
            "text/plain": [
              "<Figure size 432x288 with 1 Axes>"
            ]
          },
          "metadata": {
            "needs_background": "light"
          }
        }
      ]
    },
    {
      "cell_type": "markdown",
      "metadata": {
        "id": "p6laf9fa7L6w"
      },
      "source": [
        "## Segmentação do Dataset\n",
        "\n",
        "50% treino, 25% validação e 25% teste\n"
      ]
    },
    {
      "cell_type": "code",
      "metadata": {
        "id": "bRW0Ytg_2hap",
        "colab": {
          "base_uri": "https://localhost:8080/",
          "height": 342
        },
        "outputId": "8966fccc-5cd9-429f-acb6-390041dfe71f"
      },
      "source": [
        "train, validate, test = \\\n",
        "              np.split(data.sample(frac=1, random_state=42), \n",
        "                       [int(.5*len(data)), int(.75*len(data))])\n",
        "              \n",
        "print(f'Shape of train data is {train.shape}')\n",
        "print(f'Shape of validation data is {validate.shape}')\n",
        "print(f'Shape of test data is {test.shape}')\n",
        "validate.head()"
      ],
      "execution_count": null,
      "outputs": [
        {
          "output_type": "stream",
          "name": "stdout",
          "text": [
            "Shape of train data is (5149, 563)\n",
            "Shape of validation data is (2575, 563)\n",
            "Shape of test data is (2575, 563)\n"
          ]
        },
        {
          "output_type": "execute_result",
          "data": {
            "text/html": [
              "<div>\n",
              "<style scoped>\n",
              "    .dataframe tbody tr th:only-of-type {\n",
              "        vertical-align: middle;\n",
              "    }\n",
              "\n",
              "    .dataframe tbody tr th {\n",
              "        vertical-align: top;\n",
              "    }\n",
              "\n",
              "    .dataframe thead th {\n",
              "        text-align: right;\n",
              "    }\n",
              "</style>\n",
              "<table border=\"1\" class=\"dataframe\">\n",
              "  <thead>\n",
              "    <tr style=\"text-align: right;\">\n",
              "      <th></th>\n",
              "      <th>tBodyAcc-mean()-X</th>\n",
              "      <th>tBodyAcc-mean()-Y</th>\n",
              "      <th>tBodyAcc-mean()-Z</th>\n",
              "      <th>tBodyAcc-std()-X</th>\n",
              "      <th>tBodyAcc-std()-Y</th>\n",
              "      <th>tBodyAcc-std()-Z</th>\n",
              "      <th>tBodyAcc-mad()-X</th>\n",
              "      <th>tBodyAcc-mad()-Y</th>\n",
              "      <th>tBodyAcc-mad()-Z</th>\n",
              "      <th>tBodyAcc-max()-X</th>\n",
              "      <th>tBodyAcc-max()-Y</th>\n",
              "      <th>tBodyAcc-max()-Z</th>\n",
              "      <th>tBodyAcc-min()-X</th>\n",
              "      <th>tBodyAcc-min()-Y</th>\n",
              "      <th>tBodyAcc-min()-Z</th>\n",
              "      <th>tBodyAcc-sma()</th>\n",
              "      <th>tBodyAcc-energy()-X</th>\n",
              "      <th>tBodyAcc-energy()-Y</th>\n",
              "      <th>tBodyAcc-energy()-Z</th>\n",
              "      <th>tBodyAcc-iqr()-X</th>\n",
              "      <th>tBodyAcc-iqr()-Y</th>\n",
              "      <th>tBodyAcc-iqr()-Z</th>\n",
              "      <th>tBodyAcc-entropy()-X</th>\n",
              "      <th>tBodyAcc-entropy()-Y</th>\n",
              "      <th>tBodyAcc-entropy()-Z</th>\n",
              "      <th>tBodyAcc-arCoeff()-X,1</th>\n",
              "      <th>tBodyAcc-arCoeff()-X,2</th>\n",
              "      <th>tBodyAcc-arCoeff()-X,3</th>\n",
              "      <th>tBodyAcc-arCoeff()-X,4</th>\n",
              "      <th>tBodyAcc-arCoeff()-Y,1</th>\n",
              "      <th>tBodyAcc-arCoeff()-Y,2</th>\n",
              "      <th>tBodyAcc-arCoeff()-Y,3</th>\n",
              "      <th>tBodyAcc-arCoeff()-Y,4</th>\n",
              "      <th>tBodyAcc-arCoeff()-Z,1</th>\n",
              "      <th>tBodyAcc-arCoeff()-Z,2</th>\n",
              "      <th>tBodyAcc-arCoeff()-Z,3</th>\n",
              "      <th>tBodyAcc-arCoeff()-Z,4</th>\n",
              "      <th>tBodyAcc-correlation()-X,Y</th>\n",
              "      <th>tBodyAcc-correlation()-X,Z</th>\n",
              "      <th>tBodyAcc-correlation()-Y,Z</th>\n",
              "      <th>...</th>\n",
              "      <th>fBodyBodyAccJerkMag-entropy()</th>\n",
              "      <th>fBodyBodyAccJerkMag-maxInds</th>\n",
              "      <th>fBodyBodyAccJerkMag-meanFreq()</th>\n",
              "      <th>fBodyBodyAccJerkMag-skewness()</th>\n",
              "      <th>fBodyBodyAccJerkMag-kurtosis()</th>\n",
              "      <th>fBodyBodyGyroMag-mean()</th>\n",
              "      <th>fBodyBodyGyroMag-std()</th>\n",
              "      <th>fBodyBodyGyroMag-mad()</th>\n",
              "      <th>fBodyBodyGyroMag-max()</th>\n",
              "      <th>fBodyBodyGyroMag-min()</th>\n",
              "      <th>fBodyBodyGyroMag-sma()</th>\n",
              "      <th>fBodyBodyGyroMag-energy()</th>\n",
              "      <th>fBodyBodyGyroMag-iqr()</th>\n",
              "      <th>fBodyBodyGyroMag-entropy()</th>\n",
              "      <th>fBodyBodyGyroMag-maxInds</th>\n",
              "      <th>fBodyBodyGyroMag-meanFreq()</th>\n",
              "      <th>fBodyBodyGyroMag-skewness()</th>\n",
              "      <th>fBodyBodyGyroMag-kurtosis()</th>\n",
              "      <th>fBodyBodyGyroJerkMag-mean()</th>\n",
              "      <th>fBodyBodyGyroJerkMag-std()</th>\n",
              "      <th>fBodyBodyGyroJerkMag-mad()</th>\n",
              "      <th>fBodyBodyGyroJerkMag-max()</th>\n",
              "      <th>fBodyBodyGyroJerkMag-min()</th>\n",
              "      <th>fBodyBodyGyroJerkMag-sma()</th>\n",
              "      <th>fBodyBodyGyroJerkMag-energy()</th>\n",
              "      <th>fBodyBodyGyroJerkMag-iqr()</th>\n",
              "      <th>fBodyBodyGyroJerkMag-entropy()</th>\n",
              "      <th>fBodyBodyGyroJerkMag-maxInds</th>\n",
              "      <th>fBodyBodyGyroJerkMag-meanFreq()</th>\n",
              "      <th>fBodyBodyGyroJerkMag-skewness()</th>\n",
              "      <th>fBodyBodyGyroJerkMag-kurtosis()</th>\n",
              "      <th>angle(tBodyAccMean,gravity)</th>\n",
              "      <th>angle(tBodyAccJerkMean),gravityMean)</th>\n",
              "      <th>angle(tBodyGyroMean,gravityMean)</th>\n",
              "      <th>angle(tBodyGyroJerkMean,gravityMean)</th>\n",
              "      <th>angle(X,gravityMean)</th>\n",
              "      <th>angle(Y,gravityMean)</th>\n",
              "      <th>angle(Z,gravityMean)</th>\n",
              "      <th>subject</th>\n",
              "      <th>Activity</th>\n",
              "    </tr>\n",
              "  </thead>\n",
              "  <tbody>\n",
              "    <tr>\n",
              "      <th>2117</th>\n",
              "      <td>0.274369</td>\n",
              "      <td>-0.016706</td>\n",
              "      <td>-0.110229</td>\n",
              "      <td>-0.991515</td>\n",
              "      <td>-0.989040</td>\n",
              "      <td>-0.978536</td>\n",
              "      <td>-0.992510</td>\n",
              "      <td>-0.990249</td>\n",
              "      <td>-0.980843</td>\n",
              "      <td>-0.936067</td>\n",
              "      <td>-0.561457</td>\n",
              "      <td>-0.812424</td>\n",
              "      <td>0.841441</td>\n",
              "      <td>0.691739</td>\n",
              "      <td>0.824627</td>\n",
              "      <td>-0.989752</td>\n",
              "      <td>-0.999926</td>\n",
              "      <td>-0.999935</td>\n",
              "      <td>-0.999490</td>\n",
              "      <td>-0.994133</td>\n",
              "      <td>-0.991564</td>\n",
              "      <td>-0.983694</td>\n",
              "      <td>-0.570835</td>\n",
              "      <td>-0.632256</td>\n",
              "      <td>-0.525435</td>\n",
              "      <td>0.194450</td>\n",
              "      <td>-0.146492</td>\n",
              "      <td>-0.041534</td>\n",
              "      <td>0.385220</td>\n",
              "      <td>0.146668</td>\n",
              "      <td>0.008702</td>\n",
              "      <td>0.117522</td>\n",
              "      <td>0.316987</td>\n",
              "      <td>0.049494</td>\n",
              "      <td>0.002990</td>\n",
              "      <td>0.077043</td>\n",
              "      <td>-0.040535</td>\n",
              "      <td>-0.326617</td>\n",
              "      <td>-0.124434</td>\n",
              "      <td>-0.467705</td>\n",
              "      <td>...</td>\n",
              "      <td>-1.000000</td>\n",
              "      <td>-1.000000</td>\n",
              "      <td>0.189798</td>\n",
              "      <td>-0.435028</td>\n",
              "      <td>-0.826468</td>\n",
              "      <td>-0.983336</td>\n",
              "      <td>-0.983446</td>\n",
              "      <td>-0.979036</td>\n",
              "      <td>-0.988786</td>\n",
              "      <td>-0.996133</td>\n",
              "      <td>-0.983336</td>\n",
              "      <td>-0.999768</td>\n",
              "      <td>-0.973804</td>\n",
              "      <td>-0.651509</td>\n",
              "      <td>-1.0</td>\n",
              "      <td>-0.200696</td>\n",
              "      <td>-0.692462</td>\n",
              "      <td>-0.925401</td>\n",
              "      <td>-0.990613</td>\n",
              "      <td>-0.989842</td>\n",
              "      <td>-0.989335</td>\n",
              "      <td>-0.990264</td>\n",
              "      <td>-0.995010</td>\n",
              "      <td>-0.990613</td>\n",
              "      <td>-0.999922</td>\n",
              "      <td>-0.988997</td>\n",
              "      <td>-0.923452</td>\n",
              "      <td>-1.000000</td>\n",
              "      <td>-0.165418</td>\n",
              "      <td>-0.227327</td>\n",
              "      <td>-0.592258</td>\n",
              "      <td>-0.031017</td>\n",
              "      <td>-0.068529</td>\n",
              "      <td>0.222656</td>\n",
              "      <td>-0.171256</td>\n",
              "      <td>0.365294</td>\n",
              "      <td>-0.846661</td>\n",
              "      <td>-0.004809</td>\n",
              "      <td>11</td>\n",
              "      <td>LAYING</td>\n",
              "    </tr>\n",
              "    <tr>\n",
              "      <th>2937</th>\n",
              "      <td>0.260018</td>\n",
              "      <td>-0.008491</td>\n",
              "      <td>-0.117588</td>\n",
              "      <td>-0.935685</td>\n",
              "      <td>-0.670521</td>\n",
              "      <td>-0.875247</td>\n",
              "      <td>-0.959882</td>\n",
              "      <td>-0.805597</td>\n",
              "      <td>-0.907493</td>\n",
              "      <td>-0.892596</td>\n",
              "      <td>-0.146449</td>\n",
              "      <td>-0.774665</td>\n",
              "      <td>0.710398</td>\n",
              "      <td>0.541556</td>\n",
              "      <td>0.691246</td>\n",
              "      <td>-0.910007</td>\n",
              "      <td>-0.997606</td>\n",
              "      <td>-0.978016</td>\n",
              "      <td>-0.991313</td>\n",
              "      <td>-0.995422</td>\n",
              "      <td>-0.989595</td>\n",
              "      <td>-0.963853</td>\n",
              "      <td>-0.310086</td>\n",
              "      <td>-0.398456</td>\n",
              "      <td>-0.248864</td>\n",
              "      <td>-0.508756</td>\n",
              "      <td>0.476951</td>\n",
              "      <td>-0.460860</td>\n",
              "      <td>0.392226</td>\n",
              "      <td>-0.604299</td>\n",
              "      <td>0.591770</td>\n",
              "      <td>-0.713939</td>\n",
              "      <td>0.839213</td>\n",
              "      <td>-0.252033</td>\n",
              "      <td>0.355529</td>\n",
              "      <td>-1.000000</td>\n",
              "      <td>1.000000</td>\n",
              "      <td>0.296486</td>\n",
              "      <td>-0.012320</td>\n",
              "      <td>-0.867214</td>\n",
              "      <td>...</td>\n",
              "      <td>-0.476360</td>\n",
              "      <td>-1.000000</td>\n",
              "      <td>-0.455206</td>\n",
              "      <td>0.384570</td>\n",
              "      <td>0.087227</td>\n",
              "      <td>-0.512505</td>\n",
              "      <td>-0.269562</td>\n",
              "      <td>-0.408939</td>\n",
              "      <td>-0.192944</td>\n",
              "      <td>-0.049099</td>\n",
              "      <td>-0.512505</td>\n",
              "      <td>-0.740628</td>\n",
              "      <td>-0.801698</td>\n",
              "      <td>0.130729</td>\n",
              "      <td>-1.0</td>\n",
              "      <td>-0.259452</td>\n",
              "      <td>0.265055</td>\n",
              "      <td>-0.064927</td>\n",
              "      <td>-0.929913</td>\n",
              "      <td>-0.863376</td>\n",
              "      <td>-0.907363</td>\n",
              "      <td>-0.843969</td>\n",
              "      <td>-0.985603</td>\n",
              "      <td>-0.929913</td>\n",
              "      <td>-0.993913</td>\n",
              "      <td>-0.935197</td>\n",
              "      <td>-0.419270</td>\n",
              "      <td>-1.000000</td>\n",
              "      <td>-0.563006</td>\n",
              "      <td>0.783258</td>\n",
              "      <td>0.551519</td>\n",
              "      <td>0.351286</td>\n",
              "      <td>0.079468</td>\n",
              "      <td>0.329166</td>\n",
              "      <td>0.006809</td>\n",
              "      <td>-0.885412</td>\n",
              "      <td>0.113755</td>\n",
              "      <td>0.100170</td>\n",
              "      <td>16</td>\n",
              "      <td>SITTING</td>\n",
              "    </tr>\n",
              "    <tr>\n",
              "      <th>6867</th>\n",
              "      <td>0.278964</td>\n",
              "      <td>-0.016177</td>\n",
              "      <td>-0.112617</td>\n",
              "      <td>-0.986395</td>\n",
              "      <td>-0.993402</td>\n",
              "      <td>-0.996253</td>\n",
              "      <td>-0.987809</td>\n",
              "      <td>-0.994375</td>\n",
              "      <td>-0.995559</td>\n",
              "      <td>-0.935219</td>\n",
              "      <td>-0.566172</td>\n",
              "      <td>-0.826331</td>\n",
              "      <td>0.838379</td>\n",
              "      <td>0.692073</td>\n",
              "      <td>0.845662</td>\n",
              "      <td>-0.992035</td>\n",
              "      <td>-0.999849</td>\n",
              "      <td>-0.999965</td>\n",
              "      <td>-0.999920</td>\n",
              "      <td>-0.989898</td>\n",
              "      <td>-0.995405</td>\n",
              "      <td>-0.992992</td>\n",
              "      <td>-0.391655</td>\n",
              "      <td>-0.668624</td>\n",
              "      <td>-0.735404</td>\n",
              "      <td>0.074098</td>\n",
              "      <td>-0.024003</td>\n",
              "      <td>-0.086759</td>\n",
              "      <td>-0.050424</td>\n",
              "      <td>0.497133</td>\n",
              "      <td>-0.308945</td>\n",
              "      <td>0.436123</td>\n",
              "      <td>-0.284634</td>\n",
              "      <td>0.562480</td>\n",
              "      <td>-0.303941</td>\n",
              "      <td>0.243113</td>\n",
              "      <td>-0.238292</td>\n",
              "      <td>-0.560531</td>\n",
              "      <td>-0.482763</td>\n",
              "      <td>0.529234</td>\n",
              "      <td>...</td>\n",
              "      <td>-1.000000</td>\n",
              "      <td>-0.746032</td>\n",
              "      <td>0.201563</td>\n",
              "      <td>-0.661723</td>\n",
              "      <td>-0.919496</td>\n",
              "      <td>-0.963026</td>\n",
              "      <td>-0.936948</td>\n",
              "      <td>-0.955237</td>\n",
              "      <td>-0.922671</td>\n",
              "      <td>-0.973526</td>\n",
              "      <td>-0.963026</td>\n",
              "      <td>-0.998002</td>\n",
              "      <td>-0.980297</td>\n",
              "      <td>-0.508129</td>\n",
              "      <td>-1.0</td>\n",
              "      <td>-0.242515</td>\n",
              "      <td>0.564836</td>\n",
              "      <td>0.361085</td>\n",
              "      <td>-0.997792</td>\n",
              "      <td>-0.997197</td>\n",
              "      <td>-0.997178</td>\n",
              "      <td>-0.997628</td>\n",
              "      <td>-0.995845</td>\n",
              "      <td>-0.997792</td>\n",
              "      <td>-0.999990</td>\n",
              "      <td>-0.997452</td>\n",
              "      <td>-1.000000</td>\n",
              "      <td>-0.650794</td>\n",
              "      <td>0.391506</td>\n",
              "      <td>-0.412803</td>\n",
              "      <td>-0.785954</td>\n",
              "      <td>0.126507</td>\n",
              "      <td>0.229589</td>\n",
              "      <td>-0.420273</td>\n",
              "      <td>0.306465</td>\n",
              "      <td>0.496486</td>\n",
              "      <td>-0.614039</td>\n",
              "      <td>-0.381354</td>\n",
              "      <td>29</td>\n",
              "      <td>LAYING</td>\n",
              "    </tr>\n",
              "    <tr>\n",
              "      <th>983</th>\n",
              "      <td>0.183580</td>\n",
              "      <td>-0.127213</td>\n",
              "      <td>-0.053418</td>\n",
              "      <td>0.066369</td>\n",
              "      <td>0.175940</td>\n",
              "      <td>-0.392213</td>\n",
              "      <td>0.024724</td>\n",
              "      <td>0.176251</td>\n",
              "      <td>-0.373970</td>\n",
              "      <td>0.026905</td>\n",
              "      <td>-0.011366</td>\n",
              "      <td>-0.414110</td>\n",
              "      <td>-0.061307</td>\n",
              "      <td>-0.120410</td>\n",
              "      <td>0.453433</td>\n",
              "      <td>0.075900</td>\n",
              "      <td>-0.429020</td>\n",
              "      <td>-0.711465</td>\n",
              "      <td>-0.826533</td>\n",
              "      <td>-0.026840</td>\n",
              "      <td>-0.006198</td>\n",
              "      <td>-0.409776</td>\n",
              "      <td>0.363369</td>\n",
              "      <td>0.033249</td>\n",
              "      <td>0.151558</td>\n",
              "      <td>-0.422318</td>\n",
              "      <td>0.161796</td>\n",
              "      <td>0.187022</td>\n",
              "      <td>-0.033507</td>\n",
              "      <td>-0.540551</td>\n",
              "      <td>0.463843</td>\n",
              "      <td>-0.051249</td>\n",
              "      <td>-0.049775</td>\n",
              "      <td>-0.322750</td>\n",
              "      <td>0.332125</td>\n",
              "      <td>-0.213743</td>\n",
              "      <td>-0.117904</td>\n",
              "      <td>-0.191380</td>\n",
              "      <td>0.028687</td>\n",
              "      <td>0.224921</td>\n",
              "      <td>...</td>\n",
              "      <td>0.359925</td>\n",
              "      <td>-0.873016</td>\n",
              "      <td>0.141046</td>\n",
              "      <td>-0.459858</td>\n",
              "      <td>-0.790742</td>\n",
              "      <td>-0.382941</td>\n",
              "      <td>-0.352315</td>\n",
              "      <td>-0.261177</td>\n",
              "      <td>-0.500621</td>\n",
              "      <td>-0.901947</td>\n",
              "      <td>-0.382941</td>\n",
              "      <td>-0.747985</td>\n",
              "      <td>-0.391830</td>\n",
              "      <td>0.614840</td>\n",
              "      <td>-1.0</td>\n",
              "      <td>-0.187344</td>\n",
              "      <td>-0.476318</td>\n",
              "      <td>-0.802189</td>\n",
              "      <td>-0.601748</td>\n",
              "      <td>-0.691376</td>\n",
              "      <td>-0.648107</td>\n",
              "      <td>-0.723129</td>\n",
              "      <td>-0.549007</td>\n",
              "      <td>-0.601748</td>\n",
              "      <td>-0.929556</td>\n",
              "      <td>-0.586202</td>\n",
              "      <td>0.320269</td>\n",
              "      <td>-0.873016</td>\n",
              "      <td>0.230617</td>\n",
              "      <td>-0.285643</td>\n",
              "      <td>-0.649094</td>\n",
              "      <td>0.079392</td>\n",
              "      <td>-0.892303</td>\n",
              "      <td>0.939023</td>\n",
              "      <td>-0.067309</td>\n",
              "      <td>-0.779321</td>\n",
              "      <td>0.248037</td>\n",
              "      <td>0.046806</td>\n",
              "      <td>5</td>\n",
              "      <td>WALKING_UPSTAIRS</td>\n",
              "    </tr>\n",
              "    <tr>\n",
              "      <th>61</th>\n",
              "      <td>0.280262</td>\n",
              "      <td>-0.018698</td>\n",
              "      <td>-0.109685</td>\n",
              "      <td>-0.996123</td>\n",
              "      <td>-0.998074</td>\n",
              "      <td>-0.991967</td>\n",
              "      <td>-0.996509</td>\n",
              "      <td>-0.997516</td>\n",
              "      <td>-0.992607</td>\n",
              "      <td>-0.939714</td>\n",
              "      <td>-0.577026</td>\n",
              "      <td>-0.823482</td>\n",
              "      <td>0.851158</td>\n",
              "      <td>0.693643</td>\n",
              "      <td>0.840339</td>\n",
              "      <td>-0.997394</td>\n",
              "      <td>-0.999975</td>\n",
              "      <td>-0.999988</td>\n",
              "      <td>-0.999860</td>\n",
              "      <td>-0.997109</td>\n",
              "      <td>-0.996239</td>\n",
              "      <td>-0.991663</td>\n",
              "      <td>-0.598011</td>\n",
              "      <td>-0.859599</td>\n",
              "      <td>-0.646639</td>\n",
              "      <td>0.385923</td>\n",
              "      <td>-0.241664</td>\n",
              "      <td>0.101185</td>\n",
              "      <td>0.190957</td>\n",
              "      <td>0.456281</td>\n",
              "      <td>-0.245810</td>\n",
              "      <td>0.311339</td>\n",
              "      <td>0.076550</td>\n",
              "      <td>0.424887</td>\n",
              "      <td>-0.179671</td>\n",
              "      <td>0.156384</td>\n",
              "      <td>-0.052179</td>\n",
              "      <td>-0.163751</td>\n",
              "      <td>0.216597</td>\n",
              "      <td>0.164204</td>\n",
              "      <td>...</td>\n",
              "      <td>-1.000000</td>\n",
              "      <td>-0.936508</td>\n",
              "      <td>0.684056</td>\n",
              "      <td>-0.747146</td>\n",
              "      <td>-0.949970</td>\n",
              "      <td>-0.996580</td>\n",
              "      <td>-0.997279</td>\n",
              "      <td>-0.997024</td>\n",
              "      <td>-0.997008</td>\n",
              "      <td>-0.997412</td>\n",
              "      <td>-0.996580</td>\n",
              "      <td>-0.999983</td>\n",
              "      <td>-0.996494</td>\n",
              "      <td>-0.956057</td>\n",
              "      <td>-1.0</td>\n",
              "      <td>0.418893</td>\n",
              "      <td>-0.588401</td>\n",
              "      <td>-0.821342</td>\n",
              "      <td>-0.998563</td>\n",
              "      <td>-0.998383</td>\n",
              "      <td>-0.998003</td>\n",
              "      <td>-0.999262</td>\n",
              "      <td>-0.996855</td>\n",
              "      <td>-0.998563</td>\n",
              "      <td>-0.999995</td>\n",
              "      <td>-0.998056</td>\n",
              "      <td>-1.000000</td>\n",
              "      <td>-0.428571</td>\n",
              "      <td>0.534796</td>\n",
              "      <td>-0.750003</td>\n",
              "      <td>-0.961720</td>\n",
              "      <td>0.740652</td>\n",
              "      <td>-0.003130</td>\n",
              "      <td>-0.288663</td>\n",
              "      <td>0.011929</td>\n",
              "      <td>0.768231</td>\n",
              "      <td>-0.467455</td>\n",
              "      <td>-0.519331</td>\n",
              "      <td>2</td>\n",
              "      <td>LAYING</td>\n",
              "    </tr>\n",
              "  </tbody>\n",
              "</table>\n",
              "<p>5 rows × 563 columns</p>\n",
              "</div>"
            ],
            "text/plain": [
              "      tBodyAcc-mean()-X  tBodyAcc-mean()-Y  ...  subject          Activity\n",
              "2117           0.274369          -0.016706  ...       11            LAYING\n",
              "2937           0.260018          -0.008491  ...       16           SITTING\n",
              "6867           0.278964          -0.016177  ...       29            LAYING\n",
              "983            0.183580          -0.127213  ...        5  WALKING_UPSTAIRS\n",
              "61             0.280262          -0.018698  ...        2            LAYING\n",
              "\n",
              "[5 rows x 563 columns]"
            ]
          },
          "metadata": {},
          "execution_count": 101
        }
      ]
    },
    {
      "cell_type": "markdown",
      "metadata": {
        "id": "Lq8WKe0x7SZc"
      },
      "source": [
        "## Preparando os Dados para os Modelos\n",
        "\n",
        "*   **x** = Todos os conjuntos de dados tirando as duas ultimas colunas.\n",
        "*   **y** = Ultima coluna, coluna que define a atividade.\n",
        "\n"
      ]
    },
    {
      "cell_type": "code",
      "metadata": {
        "id": "fTcaNixfDRD7",
        "colab": {
          "base_uri": "https://localhost:8080/"
        },
        "outputId": "7121a536-fde4-42fb-b61d-bd788bf5b05d"
      },
      "source": [
        "# Separando os os dados do target\n",
        "x_train, y_train = train.iloc[:, :-2], train.iloc[:, -1:]\n",
        "x_validate, y_validate = validate.iloc[:, :-2], validate.iloc[:, -1:]\n",
        "x_test, y_test = test.iloc[:, :-2], test.iloc[:, -1:]\n",
        "print(f'Train: {x_train.shape}, {y_train.shape}\\nValidation: {x_validate.shape}, {y_validate.shape}\\nTraining: {x_test.shape}, {y_test.shape}\\n')"
      ],
      "execution_count": null,
      "outputs": [
        {
          "output_type": "stream",
          "name": "stdout",
          "text": [
            "Train: (5149, 561), (5149, 1)\n",
            "Validation: (2575, 561), (2575, 1)\n",
            "Training: (2575, 561), (2575, 1)\n",
            "\n"
          ]
        }
      ]
    },
    {
      "cell_type": "markdown",
      "metadata": {
        "id": "TPRbqoCVMZfd"
      },
      "source": [
        "Os modelos aceitam apenas números, então foi necessário alterar as strings que definem as classes para números."
      ]
    },
    {
      "cell_type": "code",
      "metadata": {
        "id": "w_78axvFL4V_",
        "colab": {
          "base_uri": "https://localhost:8080/"
        },
        "outputId": "eb0be3b6-b9f9-4e57-998e-7b016104b1ba"
      },
      "source": [
        "# Trasformando as strings do target em números\n",
        "le = LabelEncoder()\n",
        "y_train = le.fit_transform(y_train)\n",
        "y_validate = le.fit_transform(y_validate)\n",
        "y_test = le.fit_transform(y_test)\n",
        "\n",
        "# --------------Não sei oq é isso\n",
        "scaling_data = MinMaxScaler()\n",
        "x_train = scaling_data.fit_transform(x_train)\n",
        "x_validate = scaling_data.fit_transform(x_validate)\n",
        "x_test = scaling_data.transform(x_test)"
      ],
      "execution_count": null,
      "outputs": [
        {
          "output_type": "stream",
          "name": "stderr",
          "text": [
            "/usr/local/lib/python3.7/dist-packages/sklearn/preprocessing/_label.py:115: DataConversionWarning: A column-vector y was passed when a 1d array was expected. Please change the shape of y to (n_samples, ), for example using ravel().\n",
            "  y = column_or_1d(y, warn=True)\n"
          ]
        }
      ]
    },
    {
      "cell_type": "markdown",
      "metadata": {
        "id": "1OEl4Se9_kPs"
      },
      "source": [
        "Separando casos de teste do tipo LAYING"
      ]
    },
    {
      "cell_type": "code",
      "metadata": {
        "colab": {
          "base_uri": "https://localhost:8080/"
        },
        "id": "Km4Cf8Uj_i-k",
        "outputId": "654ca791-3542-41ad-e361-2e8cd176f677"
      },
      "source": [
        "test_laying = test[test.Activity == 'LAYING']\n",
        "x_test_laying, y_test_laying = test_laying.iloc[:, :-2], test_laying.iloc[:, -1:]\n",
        "y_test_laying = le.fit_transform(y_test_laying)\n",
        "x_test_laying = scaling_data.fit_transform(x_test_laying)"
      ],
      "execution_count": null,
      "outputs": [
        {
          "output_type": "stream",
          "name": "stderr",
          "text": [
            "/usr/local/lib/python3.7/dist-packages/sklearn/preprocessing/_label.py:115: DataConversionWarning: A column-vector y was passed when a 1d array was expected. Please change the shape of y to (n_samples, ), for example using ravel().\n",
            "  y = column_or_1d(y, warn=True)\n"
          ]
        }
      ]
    },
    {
      "cell_type": "code",
      "metadata": {
        "id": "3_DEKr8FNwWd"
      },
      "source": [
        "def print_metrics(test_results):\n",
        "    print(f'Loss: {test_results[0]}\\nAccuracy: {test_results[1]}\\nPrecision: {test_results[2]}\\nRecall: {test_results[3]}\\nF1 Score: {test_results[4]}\\nSpecificity: {test_results[5]}')"
      ],
      "execution_count": null,
      "outputs": []
    },
    {
      "cell_type": "code",
      "metadata": {
        "id": "lWkQ_OXVWUd5"
      },
      "source": [
        "def plot_loss(history, epochs):\n",
        "    loss = history.history['loss']\n",
        "    val_loss = history.history['val_loss']\n",
        "    epochs = range(epochs)\n",
        "    plt.figure()\n",
        "    plt.plot(epochs, loss, 'bo', label='Training loss')\n",
        "    plt.plot(epochs, val_loss, 'b', label='Validation loss')\n",
        "    plt.title('Training and validation loss')\n",
        "    plt.legend()\n",
        "    plt.show()"
      ],
      "execution_count": null,
      "outputs": []
    },
    {
      "cell_type": "code",
      "metadata": {
        "id": "iAeJLgTTry44"
      },
      "source": [
        "def plot_bar_graph(model_name, values, label, ord):\n",
        "    plt.subplot(ord[0], ord[1], ord[2])\n",
        "    plt.bar(model_name, values, color ='blue', width = 0.1)\n",
        "    plt.xlabel(\"Models\")\n",
        "    plt.ylabel(label)\n",
        "    plt.title(\"Comparing {} by models\".format(label))"
      ],
      "execution_count": null,
      "outputs": []
    },
    {
      "cell_type": "markdown",
      "metadata": {
        "id": "6waF_f25De4J"
      },
      "source": [
        "# Multi-Layer Perceptron (MLP)\n",
        "\n",
        "Perceptron é utilizado para classificação binária, possuindo apenas 1 neurônio, sendo assim, não podendo se aplicar a dados não lineares. \n",
        "O MLP foi desenvolvido para suprir com essa limitação.Ele possui camadas de entrada e saída e uma ou mais camadas ocultas com muitos neurônios juntos. E enquanto no Perceptron o neurônio deve ter uma função de ativação que impõe um limite, como ReLU ou sigmoid, os neurônios em um MLP podem usar qualquer função de ativação arbitrária.\n",
        "\n",
        "Funções de ativação: \n",
        "*   **ReLU**: Função não linear que a não ativa todos os neurônios ao mesmo tempo. Se a entrada for negativa, ela será convertida em zero e o neurônio não será ativado. Isso significa que, ao mesmo tempo, apenas alguns neurônios são ativados, tornando a rede esparsa e eficiente e fácil para a computação.\n",
        "*   **Softmax**: Alternativa para função sigmóide para lidar com problemas de classificação, já que a mesma é capaz de lidar com mais de 2 classes, diferente da sigmóide.\n",
        "\n",
        "\n"
      ]
    },
    {
      "cell_type": "code",
      "metadata": {
        "id": "gmF9XuyDG6dz"
      },
      "source": [
        "# Criando o model\n",
        "model_mlp = Sequential()\n",
        "model_mlp.add(Dense(64, activation='relu', input_dim=x_train.shape[1])) # Layer 1\n",
        "model_mlp.add(Dropout(0.25))\n",
        "model_mlp.add(Dense(64, activation='relu')) # Layer 2\n",
        "model_mlp.add(Dropout(0.25))\n",
        "model_mlp.add(Dense(6, activation='softmax')) # Layer 3\n",
        "\n",
        "# Dense = camada que recebe como entrada todos os neurônios da camada anterior. \n",
        "# Dropout = faz eliminacoes aleatorias de neuronios. Usado para diminuir over/underfitting"
      ],
      "execution_count": null,
      "outputs": []
    },
    {
      "cell_type": "markdown",
      "metadata": {
        "id": "RosQCW8jXvQ-"
      },
      "source": [
        "\n",
        "\n",
        "*   **Compilação, Treino e validação**: O processo de treino foi composto por 20 epocas e 50% do dataset e a validação por 25% do dataset. \n",
        ">* Optimizer: [**Adam**](https://machinelearningmastery.com/adam-optimization-algorithm-for-deep-learning/) é um algoritmo de otimização que pode ser usado em vez do procedimento clássico de *Stochastic Gradient Descent* (mantém uma única taxa de aprendizado para todas as atualizações de peso e a taxa de aprendizado não muda durante o treinamento) para atualizar os pesos da rede iterativos com base nos dados de treinamento.\n",
        ">* Loss: [sparse_categorical_crossentropy](https://vitalflux.com/keras-categorical-cross-entropy-loss-function/) Usado para modelos de classificação multi-classes quando a output label  sao valores inteiros (0, 1, 2,..).\n"
      ]
    },
    {
      "cell_type": "code",
      "metadata": {
        "colab": {
          "base_uri": "https://localhost:8080/"
        },
        "id": "QKw4bSSOXu1h",
        "outputId": "85dab53a-71d1-4ea7-f575-18e20290311f"
      },
      "source": [
        "# Compilando o model e treinando\n",
        "model_mlp.compile(optimizer='adam', loss='sparse_categorical_crossentropy', metrics=['accuracy', \n",
        "                                                                                     keras_metrics.sparse_categorical_precision(), \n",
        "                                                                                     keras_metrics.sparse_categorical_recall(), \n",
        "                                                                                     keras_metrics.sparse_categorical_f1_score(), \n",
        "                                                                                     keras_metrics.sparse_categorical_true_negative()]) # optimizer 'adam'\n",
        "history_mlp = model_mlp.fit(x_train, y_train, batch_size=64, epochs=20, validation_data=(x_validate, y_validate)) # teinando e validando\n",
        "\n",
        "# batch_size = número de exemplos de treinamento utilizados em uma iteração"
      ],
      "execution_count": null,
      "outputs": [
        {
          "output_type": "stream",
          "name": "stdout",
          "text": [
            "Epoch 1/20\n"
          ]
        },
        {
          "output_type": "stream",
          "name": "stderr",
          "text": [
            "/usr/local/lib/python3.7/dist-packages/keras_metrics/metrics.py:26: UserWarning: `layer.updates` will be removed in a future version. This property should not be used in TensorFlow 2.0, as `updates` are applied automatically.\n",
            "  return object.__getattribute__(self, name)\n"
          ]
        },
        {
          "output_type": "stream",
          "name": "stdout",
          "text": [
            "81/81 [==============================] - 2s 9ms/step - loss: 1.1004 - accuracy: 0.5333 - precision: 0.6928 - recall: 0.2273 - f1_score: 0.3244 - true_negative: 2065.7900 - val_loss: 0.6028 - val_accuracy: 0.8237 - val_precision: 0.8750 - val_recall: 0.5451 - val_f1_score: 0.6709 - val_true_negative: 5157.5854\n",
            "Epoch 2/20\n",
            "81/81 [==============================] - 0s 4ms/step - loss: 0.5792 - accuracy: 0.7671 - precision: 0.9071 - recall: 0.6879 - f1_score: 0.7820 - true_negative: 8235.7285 - val_loss: 0.3718 - val_accuracy: 0.8548 - val_precision: 0.9240 - val_recall: 0.7664 - val_f1_score: 0.8378 - val_true_negative: 11338.4395\n",
            "Epoch 3/20\n",
            "81/81 [==============================] - 0s 4ms/step - loss: 0.4094 - accuracy: 0.8361 - precision: 0.9332 - recall: 0.8134 - f1_score: 0.8691 - true_negative: 14424.5801 - val_loss: 0.2963 - val_accuracy: 0.8835 - val_precision: 0.9410 - val_recall: 0.8445 - val_f1_score: 0.8901 - val_true_negative: 17543.7324\n",
            "Epoch 4/20\n",
            "81/81 [==============================] - 0s 4ms/step - loss: 0.3181 - accuracy: 0.8757 - precision: 0.9455 - recall: 0.8655 - f1_score: 0.9037 - true_negative: 20632.6289 - val_loss: 0.2273 - val_accuracy: 0.9095 - val_precision: 0.9493 - val_recall: 0.8818 - val_f1_score: 0.9143 - val_true_negative: 23755.2930\n",
            "Epoch 5/20\n",
            "81/81 [==============================] - 0s 4ms/step - loss: 0.2812 - accuracy: 0.8914 - precision: 0.9529 - recall: 0.8940 - f1_score: 0.9225 - true_negative: 26862.0117 - val_loss: 0.2238 - val_accuracy: 0.9080 - val_precision: 0.9567 - val_recall: 0.9041 - val_f1_score: 0.9297 - val_true_negative: 29986.0977\n",
            "Epoch 6/20\n",
            "81/81 [==============================] - 0s 4ms/step - loss: 0.2298 - accuracy: 0.9136 - precision: 0.9593 - recall: 0.9129 - f1_score: 0.9355 - true_negative: 33084.1250 - val_loss: 0.2144 - val_accuracy: 0.9146 - val_precision: 0.9617 - val_recall: 0.9200 - val_f1_score: 0.9404 - val_true_negative: 36218.3906\n",
            "Epoch 7/20\n",
            "81/81 [==============================] - 0s 4ms/step - loss: 0.2206 - accuracy: 0.9142 - precision: 0.9636 - recall: 0.9258 - f1_score: 0.9443 - true_negative: 39324.9141 - val_loss: 0.1519 - val_accuracy: 0.9410 - val_precision: 0.9657 - val_recall: 0.9308 - val_f1_score: 0.9479 - val_true_negative: 42457.1719\n",
            "Epoch 8/20\n",
            "81/81 [==============================] - 0s 4ms/step - loss: 0.1934 - accuracy: 0.9260 - precision: 0.9674 - recall: 0.9351 - f1_score: 0.9510 - true_negative: 45553.2109 - val_loss: 0.1492 - val_accuracy: 0.9429 - val_precision: 0.9687 - val_recall: 0.9390 - val_f1_score: 0.9536 - val_true_negative: 48695.0977\n",
            "Epoch 9/20\n",
            "81/81 [==============================] - 0s 4ms/step - loss: 0.1707 - accuracy: 0.9386 - precision: 0.9699 - recall: 0.9425 - f1_score: 0.9560 - true_negative: 51784.1367 - val_loss: 0.1377 - val_accuracy: 0.9464 - val_precision: 0.9714 - val_recall: 0.9456 - val_f1_score: 0.9583 - val_true_negative: 54939.4375\n",
            "Epoch 10/20\n",
            "81/81 [==============================] - 0s 4ms/step - loss: 0.1537 - accuracy: 0.9450 - precision: 0.9726 - recall: 0.9484 - f1_score: 0.9603 - true_negative: 58049.3320 - val_loss: 0.1487 - val_accuracy: 0.9437 - val_precision: 0.9737 - val_recall: 0.9509 - val_f1_score: 0.9621 - val_true_negative: 61185.5859\n",
            "Epoch 11/20\n",
            "81/81 [==============================] - 0s 5ms/step - loss: 0.1411 - accuracy: 0.9487 - precision: 0.9744 - recall: 0.9532 - f1_score: 0.9637 - true_negative: 64289.1094 - val_loss: 0.1206 - val_accuracy: 0.9538 - val_precision: 0.9753 - val_recall: 0.9553 - val_f1_score: 0.9652 - val_true_negative: 67428.1484\n",
            "Epoch 12/20\n",
            "81/81 [==============================] - 0s 5ms/step - loss: 0.1363 - accuracy: 0.9487 - precision: 0.9760 - recall: 0.9572 - f1_score: 0.9665 - true_negative: 70523.7656 - val_loss: 0.1599 - val_accuracy: 0.9367 - val_precision: 0.9768 - val_recall: 0.9588 - val_f1_score: 0.9677 - val_true_negative: 73673.4844\n",
            "Epoch 13/20\n",
            "81/81 [==============================] - 0s 5ms/step - loss: 0.1272 - accuracy: 0.9520 - precision: 0.9776 - recall: 0.9604 - f1_score: 0.9689 - true_negative: 76771.3359 - val_loss: 0.1045 - val_accuracy: 0.9561 - val_precision: 0.9784 - val_recall: 0.9619 - val_f1_score: 0.9701 - val_true_negative: 79924.4844\n",
            "Epoch 14/20\n",
            "81/81 [==============================] - 0s 4ms/step - loss: 0.1125 - accuracy: 0.9602 - precision: 0.9791 - recall: 0.9633 - f1_score: 0.9711 - true_negative: 83033.7891 - val_loss: 0.1210 - val_accuracy: 0.9546 - val_precision: 0.9798 - val_recall: 0.9646 - val_f1_score: 0.9721 - val_true_negative: 86176.1484\n",
            "Epoch 15/20\n",
            "81/81 [==============================] - 0s 4ms/step - loss: 0.1213 - accuracy: 0.9534 - precision: 0.9803 - recall: 0.9658 - f1_score: 0.9730 - true_negative: 89274.7266 - val_loss: 0.0938 - val_accuracy: 0.9635 - val_precision: 0.9808 - val_recall: 0.9669 - val_f1_score: 0.9738 - val_true_negative: 92423.5859\n",
            "Epoch 16/20\n",
            "81/81 [==============================] - 0s 4ms/step - loss: 0.1165 - accuracy: 0.9571 - precision: 0.9811 - recall: 0.9679 - f1_score: 0.9745 - true_negative: 95527.1719 - val_loss: 0.0907 - val_accuracy: 0.9643 - val_precision: 0.9816 - val_recall: 0.9688 - val_f1_score: 0.9752 - val_true_negative: 98669.4844\n",
            "Epoch 17/20\n",
            "81/81 [==============================] - 0s 4ms/step - loss: 0.1053 - accuracy: 0.9606 - precision: 0.9820 - recall: 0.9698 - f1_score: 0.9759 - true_negative: 101779.9297 - val_loss: 0.0977 - val_accuracy: 0.9635 - val_precision: 0.9824 - val_recall: 0.9707 - val_f1_score: 0.9765 - val_true_negative: 104919.4844\n",
            "Epoch 18/20\n",
            "81/81 [==============================] - 0s 4ms/step - loss: 0.0929 - accuracy: 0.9668 - precision: 0.9829 - recall: 0.9715 - f1_score: 0.9772 - true_negative: 108033.5469 - val_loss: 0.1091 - val_accuracy: 0.9596 - val_precision: 0.9833 - val_recall: 0.9723 - val_f1_score: 0.9778 - val_true_negative: 111171.4844\n",
            "Epoch 19/20\n",
            "81/81 [==============================] - 0s 4ms/step - loss: 0.0904 - accuracy: 0.9652 - precision: 0.9836 - recall: 0.9730 - f1_score: 0.9783 - true_negative: 114280.6016 - val_loss: 0.0999 - val_accuracy: 0.9608 - val_precision: 0.9840 - val_recall: 0.9737 - val_f1_score: 0.9788 - val_true_negative: 117422.4844\n",
            "Epoch 20/20\n",
            "81/81 [==============================] - 0s 4ms/step - loss: 0.0909 - accuracy: 0.9660 - precision: 0.9844 - recall: 0.9743 - f1_score: 0.9793 - true_negative: 120525.9297 - val_loss: 0.1108 - val_accuracy: 0.9584 - val_precision: 0.9847 - val_recall: 0.9749 - val_f1_score: 0.9798 - val_true_negative: 123676.4844\n"
          ]
        }
      ]
    },
    {
      "cell_type": "markdown",
      "metadata": {
        "id": "SS_simmq8A4M"
      },
      "source": [
        "Testando o modelo com dataset de teste que equivale 50% do dataset total"
      ]
    },
    {
      "cell_type": "code",
      "metadata": {
        "id": "ZCqSvo7hjXl0",
        "colab": {
          "base_uri": "https://localhost:8080/"
        },
        "outputId": "8bc98943-2e85-424d-f81b-5ef7fcdfc306"
      },
      "source": [
        "# Testa o treino com todas as classes\n",
        "all_results_mlp = model_mlp.evaluate(x_test, y_test, verbose=1)\n",
        "print_metrics(all_results_mlp)"
      ],
      "execution_count": null,
      "outputs": [
        {
          "output_type": "stream",
          "name": "stdout",
          "text": [
            "81/81 [==============================] - 0s 2ms/step - loss: 0.1099 - accuracy: 0.9616 - precision: 0.9849 - recall: 0.9753 - f1_score: 0.9801 - true_negative: 125754.3125\n",
            "Loss: 0.10985103994607925\n",
            "Accuracy: 0.9615533947944641\n",
            "Precision: 0.9849181771278381\n",
            "Recall: 0.9753333926200867\n",
            "F1 Score: 0.9801021814346313\n",
            "Specificity: 125754.3125\n"
          ]
        }
      ]
    },
    {
      "cell_type": "code",
      "metadata": {
        "colab": {
          "base_uri": "https://localhost:8080/"
        },
        "id": "4ERqhIRbBBuq",
        "outputId": "a02e499d-1fb9-432c-bb35-c0fb4cee1452"
      },
      "source": [
        "# Testa o treino apenas com a classe LAYING\n",
        "laying_results_mlp = model_mlp.evaluate(x_test_laying, y_test_laying, verbose=1)\n",
        "print_metrics(laying_results_mlp)"
      ],
      "execution_count": null,
      "outputs": [
        {
          "output_type": "stream",
          "name": "stdout",
          "text": [
            "15/15 [==============================] - 0s 2ms/step - loss: 0.3886 - accuracy: 0.9034 - precision: 0.9852 - recall: 0.9749 - f1_score: 0.9800 - true_negative: 126777.0000\n",
            "Loss: 0.3885659873485565\n",
            "Accuracy: 0.9033613204956055\n",
            "Precision: 0.9851570129394531\n",
            "Recall: 0.9749115705490112\n",
            "F1 Score: 0.9800072908401489\n",
            "Specificity: 126777.0\n"
          ]
        }
      ]
    },
    {
      "cell_type": "code",
      "metadata": {
        "colab": {
          "base_uri": "https://localhost:8080/",
          "height": 281
        },
        "id": "HrE8In3KVtr9",
        "outputId": "bce07ff4-a43c-44d4-d771-b3032d2bab5f"
      },
      "source": [
        "plot_loss(history_mlp, 20)"
      ],
      "execution_count": null,
      "outputs": [
        {
          "output_type": "display_data",
          "data": {
            "image/png": "[encoded data removed]",
            "text/plain": [
              "<Figure size 432x288 with 1 Axes>"
            ]
          },
          "metadata": {
            "needs_background": "light"
          }
        }
      ]
    },
    {
      "cell_type": "markdown",
      "metadata": {
        "id": "qJRL8rJmkJaU"
      },
      "source": [
        "# Convolutional Neural Network (CNN)\n",
        "Uma **Artificial Neural Network (ANN)** é uma série de algoritmos que se esforçam para reconhecer relacionamentos subjacentes em um conjunto de dados, por meio de um processo que imita a maneira como o cérebro humano opera. As **ANN** podem se adaptar a mudanças de entrada para que a rede gere o melhor resultado possível sem a necessidade de redesenhar os critérios de saída.\n",
        "\n",
        "As **Convolutional Neural Network (CNN)** são um tipo especializado de ANN que usam convolução no lugar da multiplicação geral da matriz em pelo menos uma de suas camadas."
      ]
    },
    {
      "cell_type": "code",
      "metadata": {
        "id": "7yD15rTtkP3G",
        "colab": {
          "base_uri": "https://localhost:8080/"
        },
        "outputId": "efded551-6aa9-4936-a52c-5a5f3168db7c"
      },
      "source": [
        "n_timesteps, n_features, n_outputs = x_train.shape[0], x_train.shape[1], y_train.shape[0]\n",
        "\n",
        "# Adicionando mais uma dimensão a x, para ficarem 3, como é pedido no Conv1D\n",
        "x_train_cnn = x_train[..., None]\n",
        "x_validate_cnn = x_validate[..., None]\n",
        "\n",
        "model_cnn = Sequential()\n",
        "model_cnn.add(Conv1D(filters=64, kernel_size=2, activation='relu', input_shape=x_train_cnn.shape[1:]))\n",
        "model_cnn.add(Dropout(0.2))\n",
        "model_cnn.add(Conv1D(filters=64, kernel_size=2, activation='relu')) # filters = quantas janelas diferentes com o mesmo comprimento | kernel_size = define o tamanho da janela deslizante\n",
        "model_cnn.add(Dropout(0.2))\n",
        "model_cnn.add(MaxPooling1D(pool_size=2)) # tamanho da janela de max pooling\n",
        "model_cnn.add(Dropout(0.2))\n",
        "model_cnn.add(Flatten()) # agrupa features map em uma coluna\n",
        "model_cnn.add(Dense(10, activation='softmax'))\n",
        " \n",
        "model_cnn.compile(optimizer='adam', loss='sparse_categorical_crossentropy', metrics=['accuracy',\n",
        "                                                                                     keras_metrics.sparse_categorical_precision(), \n",
        "                                                                                     keras_metrics.sparse_categorical_recall(), \n",
        "                                                                                     keras_metrics.sparse_categorical_f1_score(), \n",
        "                                                                                     keras_metrics.sparse_categorical_true_negative()])\n",
        "history_cnn = model_cnn.fit(x_train_cnn, y_train, batch_size=64, epochs=20, validation_data=(x_validate_cnn, y_validate))"
      ],
      "execution_count": null,
      "outputs": [
        {
          "output_type": "stream",
          "name": "stdout",
          "text": [
            "Epoch 1/20\n"
          ]
        },
        {
          "output_type": "stream",
          "name": "stderr",
          "text": [
            "/usr/local/lib/python3.7/dist-packages/keras_metrics/metrics.py:26: UserWarning: `layer.updates` will be removed in a future version. This property should not be used in TensorFlow 2.0, as `updates` are applied automatically.\n",
            "  return object.__getattribute__(self, name)\n"
          ]
        },
        {
          "output_type": "stream",
          "name": "stdout",
          "text": [
            "81/81 [==============================] - 14s 163ms/step - loss: 0.7495 - accuracy: 0.6865 - precision: 0.6690 - recall: 0.3760 - f1_score: 0.4721 - true_negative: 2075.8025 - val_loss: 0.3210 - val_accuracy: 0.8920 - val_precision: 0.9354 - val_recall: 0.7390 - val_f1_score: 0.8255 - val_true_negative: 5190.3901\n",
            "Epoch 2/20\n",
            "81/81 [==============================] - 13s 155ms/step - loss: 0.2539 - accuracy: 0.9037 - precision: 0.9571 - recall: 0.8340 - f1_score: 0.8912 - true_negative: 8270.5684 - val_loss: 0.3022 - val_accuracy: 0.8835 - val_precision: 0.9683 - val_recall: 0.8776 - val_f1_score: 0.9207 - val_true_negative: 11431.1709\n",
            "Epoch 3/20\n",
            "81/81 [==============================] - 13s 156ms/step - loss: 0.1653 - accuracy: 0.9369 - precision: 0.9737 - recall: 0.9031 - f1_score: 0.9371 - true_negative: 14533.1113 - val_loss: 0.1854 - val_accuracy: 0.9313 - val_precision: 0.9783 - val_recall: 0.9196 - val_f1_score: 0.9480 - val_true_negative: 17679.7812\n",
            "Epoch 4/20\n",
            "81/81 [==============================] - 13s 156ms/step - loss: 0.1249 - accuracy: 0.9522 - precision: 0.9811 - recall: 0.9312 - f1_score: 0.9555 - true_negative: 20796.7285 - val_loss: 0.1626 - val_accuracy: 0.9410 - val_precision: 0.9837 - val_recall: 0.9402 - val_f1_score: 0.9614 - val_true_negative: 23932.8301\n",
            "Epoch 5/20\n",
            "81/81 [==============================] - 13s 155ms/step - loss: 0.1146 - accuracy: 0.9553 - precision: 0.9855 - recall: 0.9468 - f1_score: 0.9658 - true_negative: 27059.0488 - val_loss: 0.1686 - val_accuracy: 0.9317 - val_precision: 0.9870 - val_recall: 0.9525 - val_f1_score: 0.9694 - val_true_negative: 30187.7812\n",
            "Epoch 6/20\n",
            "81/81 [==============================] - 13s 155ms/step - loss: 0.0891 - accuracy: 0.9678 - precision: 0.9882 - recall: 0.9570 - f1_score: 0.9723 - true_negative: 33283.5312 - val_loss: 0.1378 - val_accuracy: 0.9522 - val_precision: 0.9892 - val_recall: 0.9606 - val_f1_score: 0.9747 - val_true_negative: 36442.8281\n",
            "Epoch 7/20\n",
            "81/81 [==============================] - 13s 156ms/step - loss: 0.0909 - accuracy: 0.9645 - precision: 0.9900 - recall: 0.9637 - f1_score: 0.9767 - true_negative: 39549.7773 - val_loss: 0.1079 - val_accuracy: 0.9619 - val_precision: 0.9906 - val_recall: 0.9663 - val_f1_score: 0.9783 - val_true_negative: 42697.1445\n",
            "Epoch 8/20\n",
            "81/81 [==============================] - 13s 155ms/step - loss: 0.0753 - accuracy: 0.9695 - precision: 0.9910 - recall: 0.9685 - f1_score: 0.9796 - true_negative: 45811.8516 - val_loss: 0.1114 - val_accuracy: 0.9581 - val_precision: 0.9915 - val_recall: 0.9706 - val_f1_score: 0.9809 - val_true_negative: 48949.1445\n",
            "Epoch 9/20\n",
            "81/81 [==============================] - 13s 155ms/step - loss: 0.0654 - accuracy: 0.9753 - precision: 0.9917 - recall: 0.9723 - f1_score: 0.9819 - true_negative: 52074.0742 - val_loss: 0.0933 - val_accuracy: 0.9650 - val_precision: 0.9922 - val_recall: 0.9739 - val_f1_score: 0.9830 - val_true_negative: 55201.4883\n",
            "Epoch 10/20\n",
            "81/81 [==============================] - 13s 155ms/step - loss: 0.0575 - accuracy: 0.9796 - precision: 0.9925 - recall: 0.9753 - f1_score: 0.9838 - true_negative: 58303.3828 - val_loss: 0.1881 - val_accuracy: 0.9309 - val_precision: 0.9928 - val_recall: 0.9765 - val_f1_score: 0.9846 - val_true_negative: 61453.8281\n",
            "Epoch 11/20\n",
            "81/81 [==============================] - 12s 155ms/step - loss: 0.0640 - accuracy: 0.9761 - precision: 0.9931 - recall: 0.9776 - f1_score: 0.9853 - true_negative: 64579.9141 - val_loss: 0.1186 - val_accuracy: 0.9553 - val_precision: 0.9934 - val_recall: 0.9786 - val_f1_score: 0.9860 - val_true_negative: 67709.5391\n",
            "Epoch 12/20\n",
            "81/81 [==============================] - 13s 155ms/step - loss: 0.0611 - accuracy: 0.9777 - precision: 0.9937 - recall: 0.9796 - f1_score: 0.9866 - true_negative: 70819.4297 - val_loss: 0.0949 - val_accuracy: 0.9623 - val_precision: 0.9939 - val_recall: 0.9804 - val_f1_score: 0.9871 - val_true_negative: 73964.5391\n",
            "Epoch 13/20\n",
            "81/81 [==============================] - 13s 155ms/step - loss: 0.0537 - accuracy: 0.9798 - precision: 0.9941 - recall: 0.9812 - f1_score: 0.9876 - true_negative: 77089.7891 - val_loss: 0.1049 - val_accuracy: 0.9639 - val_precision: 0.9944 - val_recall: 0.9820 - val_f1_score: 0.9881 - val_true_negative: 80219.8281\n",
            "Epoch 14/20\n",
            "81/81 [==============================] - 12s 154ms/step - loss: 0.0534 - accuracy: 0.9786 - precision: 0.9946 - recall: 0.9826 - f1_score: 0.9886 - true_negative: 83335.9609 - val_loss: 0.0844 - val_accuracy: 0.9724 - val_precision: 0.9948 - val_recall: 0.9833 - val_f1_score: 0.9890 - val_true_negative: 86475.8281\n",
            "Epoch 15/20\n",
            "81/81 [==============================] - 13s 155ms/step - loss: 0.0452 - accuracy: 0.9847 - precision: 0.9950 - recall: 0.9839 - f1_score: 0.9894 - true_negative: 89580.5312 - val_loss: 0.1154 - val_accuracy: 0.9588 - val_precision: 0.9951 - val_recall: 0.9844 - val_f1_score: 0.9897 - val_true_negative: 92731.4844\n",
            "Epoch 16/20\n",
            "81/81 [==============================] - 12s 154ms/step - loss: 0.0461 - accuracy: 0.9823 - precision: 0.9952 - recall: 0.9849 - f1_score: 0.9900 - true_negative: 95836.3672 - val_loss: 0.1328 - val_accuracy: 0.9538 - val_precision: 0.9953 - val_recall: 0.9854 - val_f1_score: 0.9903 - val_true_negative: 98985.5391\n",
            "Epoch 17/20\n",
            "81/81 [==============================] - 13s 155ms/step - loss: 0.0519 - accuracy: 0.9800 - precision: 0.9955 - recall: 0.9858 - f1_score: 0.9906 - true_negative: 102092.8047 - val_loss: 0.0857 - val_accuracy: 0.9740 - val_precision: 0.9956 - val_recall: 0.9862 - val_f1_score: 0.9909 - val_true_negative: 105240.5391\n",
            "Epoch 18/20\n",
            "81/81 [==============================] - 12s 154ms/step - loss: 0.0556 - accuracy: 0.9796 - precision: 0.9957 - recall: 0.9866 - f1_score: 0.9911 - true_negative: 108352.3203 - val_loss: 0.0952 - val_accuracy: 0.9701 - val_precision: 0.9958 - val_recall: 0.9870 - val_f1_score: 0.9914 - val_true_negative: 111495.5391\n",
            "Epoch 19/20\n",
            "81/81 [==============================] - 13s 156ms/step - loss: 0.0398 - accuracy: 0.9849 - precision: 0.9959 - recall: 0.9874 - f1_score: 0.9916 - true_negative: 114609.2734 - val_loss: 0.1096 - val_accuracy: 0.9647 - val_precision: 0.9960 - val_recall: 0.9877 - val_f1_score: 0.9918 - val_true_negative: 117750.4844\n",
            "Epoch 20/20\n",
            "81/81 [==============================] - 13s 156ms/step - loss: 0.0430 - accuracy: 0.9843 - precision: 0.9960 - recall: 0.9880 - f1_score: 0.9920 - true_negative: 120862.5938 - val_loss: 0.1133 - val_accuracy: 0.9596 - val_precision: 0.9961 - val_recall: 0.9883 - val_f1_score: 0.9922 - val_true_negative: 124004.5391\n"
          ]
        }
      ]
    },
    {
      "cell_type": "code",
      "metadata": {
        "id": "tpZqaAIrt1pc",
        "colab": {
          "base_uri": "https://localhost:8080/"
        },
        "outputId": "52aece5d-e0fe-42a9-e92a-d709a6bcf86f"
      },
      "source": [
        "# Testando o model após treinamento\n",
        "x_test_cnn = x_test[..., None]\n",
        "all_results_cnn = model_cnn.evaluate(x_test, y_test, verbose=1)\n",
        "print_metrics(all_results_cnn)"
      ],
      "execution_count": null,
      "outputs": [
        {
          "output_type": "stream",
          "name": "stderr",
          "text": [
            "/usr/local/lib/python3.7/dist-packages/keras_metrics/metrics.py:26: UserWarning: `layer.updates` will be removed in a future version. This property should not be used in TensorFlow 2.0, as `updates` are applied automatically.\n",
            "  return object.__getattribute__(self, name)\n"
          ]
        },
        {
          "output_type": "stream",
          "name": "stdout",
          "text": [
            "81/81 [==============================] - 2s 15ms/step - loss: 0.0968 - accuracy: 0.9662 - precision: 0.9962 - recall: 0.9885 - f1_score: 0.9923 - true_negative: 126083.3125\n",
            "Loss: 0.09682712703943253\n",
            "Accuracy: 0.966213583946228\n",
            "Precision: 0.9961521625518799\n",
            "Recall: 0.9885116219520569\n",
            "F1 Score: 0.9923171997070312\n",
            "Specificity: 126083.3125\n"
          ]
        }
      ]
    },
    {
      "cell_type": "code",
      "metadata": {
        "id": "Exw1CpM3pfcg",
        "colab": {
          "base_uri": "https://localhost:8080/"
        },
        "outputId": "1fe0974a-84e5-4e64-a379-107ca6c44119"
      },
      "source": [
        "# Testa o treino apenas com a classe LAYING\n",
        "laying_results_cnn = model_cnn.evaluate(x_test_laying, y_test_laying, verbose=1)\n",
        "print_metrics(laying_results_cnn)"
      ],
      "execution_count": null,
      "outputs": [
        {
          "output_type": "stream",
          "name": "stdout",
          "text": [
            "15/15 [==============================] - 0s 16ms/step - loss: 0.4577 - accuracy: 0.9391 - precision: 0.9962 - recall: 0.9883 - f1_score: 0.9922 - true_negative: 127106.0000\n",
            "Loss: 0.4577447772026062\n",
            "Accuracy: 0.9390756487846375\n",
            "Precision: 0.9962145686149597\n",
            "Recall: 0.9882500767707825\n",
            "F1 Score: 0.992216169834137\n",
            "Specificity: 127106.0\n"
          ]
        }
      ]
    },
    {
      "cell_type": "code",
      "metadata": {
        "colab": {
          "base_uri": "https://localhost:8080/",
          "height": 281
        },
        "id": "ZCpq1gA7Wj0M",
        "outputId": "04e3eddb-0749-4eaf-efba-1eda151e8416"
      },
      "source": [
        "plot_loss(history_cnn, 20)"
      ],
      "execution_count": null,
      "outputs": [
        {
          "output_type": "display_data",
          "data": {
            "image/png": "[encoded data removed]",
            "text/plain": [
              "<Figure size 432x288 with 1 Axes>"
            ]
          },
          "metadata": {
            "needs_background": "light"
          }
        }
      ]
    },
    {
      "cell_type": "markdown",
      "metadata": {
        "id": "qcBUtkdcBNfY"
      },
      "source": [
        "# Recurrent Neural Network (RNN)\n",
        "\n",
        "**Recurrent Neural Network (RNN)** tem uma conexão recorrente no *hidden state*. Essa restrição de loop garante que as informações sequenciais sejam capturadas nos dados de entrada."
      ]
    },
    {
      "cell_type": "code",
      "metadata": {
        "colab": {
          "base_uri": "https://localhost:8080/"
        },
        "id": "fJpQMVqfPWlw",
        "outputId": "04affdf9-c1ab-41f0-e406-b3b3f1d5342a"
      },
      "source": [
        "x_train_rnn = x_train[..., None]\n",
        "x_validate_rnn = x_validate[..., None]\n",
        "\n",
        "model_rnn2 = keras.models.Sequential()\n",
        "model_rnn2.add(keras.Input(shape=x_train_rnn.shape[1:])) \n",
        "model_rnn2.add(layers.SimpleRNN(128, return_sequences=True, activation='relu')) # dimensionalidade do espaço de saída | return_sequences=True\n",
        "model_rnn2.add(Dropout(0.2))\n",
        "model_rnn2.add(Flatten())\n",
        "model_rnn2.add(layers.Dense(10))\n",
        "\n",
        "model_rnn2.summary()"
      ],
      "execution_count": null,
      "outputs": [
        {
          "output_type": "stream",
          "name": "stdout",
          "text": [
            "Model: \"sequential_13\"\n",
            "_________________________________________________________________\n",
            " Layer (type)                Output Shape              Param #   \n",
            "=================================================================\n",
            " simple_rnn_2 (SimpleRNN)    (None, 561, 128)          16640     \n",
            "                                                                 \n",
            " dropout_23 (Dropout)        (None, 561, 128)          0         \n",
            "                                                                 \n",
            " flatten_6 (Flatten)         (None, 71808)             0         \n",
            "                                                                 \n",
            " dense_26 (Dense)            (None, 10)                718090    \n",
            "                                                                 \n",
            "=================================================================\n",
            "Total params: 734,730\n",
            "Trainable params: 734,730\n",
            "Non-trainable params: 0\n",
            "_________________________________________________________________\n"
          ]
        }
      ]
    },
    {
      "cell_type": "code",
      "metadata": {
        "id": "m13sO2U6Jn74",
        "colab": {
          "base_uri": "https://localhost:8080/"
        },
        "outputId": "49c517a8-b15b-4fd5-c778-745edd3f64dc"
      },
      "source": [
        "loss = keras.losses.SparseCategoricalCrossentropy(from_logits=True)\n",
        "optim = keras.optimizers.Adam(lr=0.001)\n",
        "metrics = [\"accuracy\", \n",
        "            keras_metrics.sparse_categorical_precision(), \n",
        "            keras_metrics.sparse_categorical_recall(), \n",
        "            keras_metrics.sparse_categorical_f1_score(), \n",
        "            keras_metrics.sparse_categorical_true_negative()]\n",
        "\n",
        "model_rnn2.compile(loss=loss, optimizer=optim, metrics=metrics)"
      ],
      "execution_count": null,
      "outputs": [
        {
          "output_type": "stream",
          "name": "stderr",
          "text": [
            "/usr/local/lib/python3.7/dist-packages/keras/optimizer_v2/adam.py:105: UserWarning: The `lr` argument is deprecated, use `learning_rate` instead.\n",
            "  super(Adam, self).__init__(name, **kwargs)\n"
          ]
        }
      ]
    },
    {
      "cell_type": "code",
      "metadata": {
        "id": "Tav3miXhJuYX",
        "colab": {
          "base_uri": "https://localhost:8080/"
        },
        "outputId": "7be91688-478b-4e5d-d68c-d603b33cab29"
      },
      "source": [
        "history_rnn2 = model_rnn2.fit(\n",
        "    x_train_rnn, y_train, validation_data=(x_validate_rnn, y_validate), batch_size=64, epochs=10\n",
        ")"
      ],
      "execution_count": null,
      "outputs": [
        {
          "output_type": "stream",
          "name": "stdout",
          "text": [
            "Epoch 1/10\n"
          ]
        },
        {
          "output_type": "stream",
          "name": "stderr",
          "text": [
            "/usr/local/lib/python3.7/dist-packages/keras_metrics/metrics.py:26: UserWarning: `layer.updates` will be removed in a future version. This property should not be used in TensorFlow 2.0, as `updates` are applied automatically.\n",
            "  return object.__getattribute__(self, name)\n"
          ]
        },
        {
          "output_type": "stream",
          "name": "stdout",
          "text": [
            "81/81 [==============================] - 27s 314ms/step - loss: 0.4358 - accuracy: 0.8167 - precision: 1.3982 - recall: 6.9615 - f1_score: 2.2754 - true_negative: 3629.4075 - val_loss: 0.2310 - val_accuracy: 0.9017 - val_precision: 4.2638 - val_recall: 10.1211 - val_f1_score: 5.9906 - val_true_negative: 14884.6338\n",
            "Epoch 2/10\n",
            "81/81 [==============================] - 25s 308ms/step - loss: 0.1218 - accuracy: 0.9518 - precision: 4.4623 - recall: 11.0976 - f1_score: 30.0529 - true_negative: 29375.6172 - val_loss: 0.1224 - val_accuracy: 0.9515 - val_precision: -6.7462 - val_recall: 11.8538 - val_f1_score: -52.6657 - val_true_negative: 48799.4648\n",
            "Epoch 3/10\n",
            "81/81 [==============================] - 25s 313ms/step - loss: 0.0754 - accuracy: 0.9707 - precision: -3.2843 - recall: 12.4147 - f1_score: -9.0872 - true_negative: 70965.0391 - val_loss: 0.1054 - val_accuracy: 0.9600 - val_precision: -2.5848 - val_recall: 12.9876 - val_f1_score: -6.4572 - val_true_negative: 93032.9766\n",
            "Epoch 4/10\n",
            "81/81 [==============================] - 25s 311ms/step - loss: 0.0612 - accuracy: 0.9779 - precision: -2.2507 - recall: 13.4628 - f1_score: -5.4135 - true_negative: 117035.9141 - val_loss: 0.1462 - val_accuracy: 0.9437 - val_precision: -1.9326 - val_recall: 13.7275 - val_f1_score: -4.4988 - val_true_negative: 141591.1250\n",
            "Epoch 5/10\n",
            "81/81 [==============================] - 25s 312ms/step - loss: 0.0461 - accuracy: 0.9841 - precision: -1.8058 - recall: 13.9411 - f1_score: -4.1504 - true_negative: 165779.7969 - val_loss: 0.0760 - val_accuracy: 0.9705 - val_precision: -1.5753 - val_recall: 14.1759 - val_f1_score: -3.5449 - val_true_negative: 195171.7031\n",
            "Epoch 6/10\n",
            "81/81 [==============================] - 25s 308ms/step - loss: 0.0451 - accuracy: 0.9843 - precision: -1.4814 - recall: 14.4701 - f1_score: -3.3009 - true_negative: 223850.9688 - val_loss: 0.0662 - val_accuracy: 0.9786 - val_precision: -1.4157 - val_recall: 14.6896 - val_f1_score: -3.1333 - val_true_negative: 251613.3125\n",
            "Epoch 7/10\n",
            "81/81 [==============================] - 25s 311ms/step - loss: 0.0292 - accuracy: 0.9897 - precision: -1.3399 - recall: 14.8789 - f1_score: -2.9453 - true_negative: 281752.2812 - val_loss: 0.1255 - val_accuracy: 0.9596 - val_precision: -1.2399 - val_recall: 15.0279 - val_f1_score: -2.7029 - val_true_negative: 315611.7812\n",
            "Epoch 8/10\n",
            "81/81 [==============================] - 25s 308ms/step - loss: 0.0326 - accuracy: 0.9885 - precision: -1.1979 - recall: 15.2303 - f1_score: -2.6004 - true_negative: 347395.5000 - val_loss: 0.0953 - val_accuracy: 0.9662 - val_precision: -1.1449 - val_recall: 15.3373 - val_f1_score: -2.4746 - val_true_negative: 379954.9375\n",
            "Epoch 9/10\n",
            "81/81 [==============================] - 25s 305ms/step - loss: 0.0303 - accuracy: 0.9887 - precision: -1.1109 - recall: 15.3891 - f1_score: -2.3948 - true_negative: 410628.9062 - val_loss: 0.0764 - val_accuracy: 0.9701 - val_precision: -1.0690 - val_recall: 15.4906 - val_f1_score: -2.2965 - val_true_negative: 444577.2812\n",
            "Epoch 10/10\n",
            "81/81 [==============================] - 25s 308ms/step - loss: 0.0213 - accuracy: 0.9926 - precision: -1.0564 - recall: 15.6139 - f1_score: -2.2662 - true_negative: 475517.0000 - val_loss: 0.0872 - val_accuracy: 0.9701 - val_precision: -1.0427 - val_recall: 15.7870 - val_f1_score: -2.2328 - val_true_negative: 508526.3438\n"
          ]
        }
      ]
    },
    {
      "cell_type": "code",
      "metadata": {
        "id": "EoBTjecAVhia",
        "colab": {
          "base_uri": "https://localhost:8080/"
        },
        "outputId": "6c288a78-4193-4ddb-a44e-6e5ca9fc272f"
      },
      "source": [
        "all_results_rnn = model_rnn2.evaluate(x_test, y_test, batch_size=64, verbose=2)\n",
        "print_metrics(all_results_rnn)"
      ],
      "execution_count": null,
      "outputs": [
        {
          "output_type": "stream",
          "name": "stderr",
          "text": [
            "/usr/local/lib/python3.7/dist-packages/keras_metrics/metrics.py:26: UserWarning: `layer.updates` will be removed in a future version. This property should not be used in TensorFlow 2.0, as `updates` are applied automatically.\n",
            "  return object.__getattribute__(self, name)\n"
          ]
        },
        {
          "output_type": "stream",
          "name": "stdout",
          "text": [
            "41/41 - 4s - loss: 0.0720 - accuracy: 0.9744 - precision: -1.0211e+00 - recall: 15.8831 - f1_score: -2.1826e+00 - true_negative: 532783.3125 - 4s/epoch - 89ms/step\n",
            "Loss: 0.07202666252851486\n",
            "Accuracy: 0.9743689298629761\n",
            "Precision: -1.0211200714111328\n",
            "Recall: 15.883074760437012\n",
            "F1 Score: -2.1825625896453857\n",
            "Specificity: 532783.3125\n"
          ]
        }
      ]
    },
    {
      "cell_type": "code",
      "metadata": {
        "id": "yVUWa6D4q-4Y",
        "colab": {
          "base_uri": "https://localhost:8080/"
        },
        "outputId": "ae3f553a-a367-4b31-9631-f02a85de68fe"
      },
      "source": [
        "# Testa o treino apenas com a classe LAYING\n",
        "laying_results_rnn = model_rnn2.evaluate(x_test_laying, y_test_laying, verbose=1)\n",
        "print_metrics(laying_results_rnn)"
      ],
      "execution_count": null,
      "outputs": [
        {
          "output_type": "stream",
          "name": "stdout",
          "text": [
            "15/15 [==============================] - 1s 52ms/step - loss: 0.8490 - accuracy: 0.8025 - precision: -1.0423 - recall: 15.8728 - f1_score: -2.2312 - true_negative: 543995.0000\n",
            "Loss: 0.8489676117897034\n",
            "Accuracy: 0.8025209903717041\n",
            "Precision: -1.0423343181610107\n",
            "Recall: 15.872782707214355\n",
            "F1 Score: -2.231231212615967\n",
            "Specificity: 543995.0\n"
          ]
        }
      ]
    },
    {
      "cell_type": "code",
      "metadata": {
        "colab": {
          "base_uri": "https://localhost:8080/",
          "height": 281
        },
        "id": "bArtfDGEZTqF",
        "outputId": "d5b9e5cc-0924-45f8-bcfc-79c102213332"
      },
      "source": [
        "plot_loss(history_rnn2, 10)"
      ],
      "execution_count": null,
      "outputs": [
        {
          "output_type": "display_data",
          "data": {
            "image/png": "[encoded data removed]",
            "text/plain": [
              "<Figure size 432x288 with 1 Axes>"
            ]
          },
          "metadata": {
            "needs_background": "light"
          }
        }
      ]
    },
    {
      "cell_type": "markdown",
      "metadata": {
        "id": "jEtTk01aGzlo"
      },
      "source": [
        "# Modelo Híbrido\n",
        "Criando modelo híbrido"
      ]
    },
    {
      "cell_type": "code",
      "metadata": {
        "id": "Z8UCRcOOG34C",
        "colab": {
          "base_uri": "https://localhost:8080/"
        },
        "outputId": "ba7c408b-fc29-498d-a995-206379ec6ac7"
      },
      "source": [
        "x_train = x_train[..., None]\n",
        "x_validate = x_validate[..., None]\n",
        "\n",
        "model_hyb = Sequential()\n",
        "# Model RNN\n",
        "model_hyb.add(keras.Input(shape=x_train_rnn.shape[1:])) \n",
        "model_hyb.add(layers.SimpleRNN(128, return_sequences=True, activation='relu'))\n",
        "# Model CNN\n",
        "model_hyb.add(Conv1D(filters=64, kernel_size=2, activation='relu'))\n",
        "model_hyb.add(Dropout(0.2))\n",
        "model_hyb.add(Conv1D(filters=64, kernel_size=2, activation='relu'))\n",
        "model_hyb.add(Dropout(0.2))\n",
        "model_hyb.add(MaxPooling1D(pool_size=2))\n",
        "model_hyb.add(Dropout(0.2))\n",
        "model_hyb.add(Flatten())\n",
        "# Model MLP\n",
        "model_hyb.add(Dense(64, activation='relu')) # Layer 1\n",
        "model_hyb.add(Dropout(0.2))\n",
        "model_hyb.add(Dense(64, activation='relu')) # Layer 2\n",
        "model_hyb.add(Dropout(0.2))\n",
        "model_hyb.add(Dense(10, activation='softmax'))\n",
        "\n",
        "model_hyb.summary()"
      ],
      "execution_count": null,
      "outputs": [
        {
          "output_type": "stream",
          "name": "stdout",
          "text": [
            "Model: \"sequential_14\"\n",
            "_________________________________________________________________\n",
            " Layer (type)                Output Shape              Param #   \n",
            "=================================================================\n",
            " simple_rnn_3 (SimpleRNN)    (None, 561, 128)          16640     \n",
            "                                                                 \n",
            " conv1d_11 (Conv1D)          (None, 560, 64)           16448     \n",
            "                                                                 \n",
            " dropout_24 (Dropout)        (None, 560, 64)           0         \n",
            "                                                                 \n",
            " conv1d_12 (Conv1D)          (None, 559, 64)           8256      \n",
            "                                                                 \n",
            " dropout_25 (Dropout)        (None, 559, 64)           0         \n",
            "                                                                 \n",
            " max_pooling1d_5 (MaxPooling  (None, 279, 64)          0         \n",
            " 1D)                                                             \n",
            "                                                                 \n",
            " dropout_26 (Dropout)        (None, 279, 64)           0         \n",
            "                                                                 \n",
            " flatten_7 (Flatten)         (None, 17856)             0         \n",
            "                                                                 \n",
            " dense_27 (Dense)            (None, 64)                1142848   \n",
            "                                                                 \n",
            " dropout_27 (Dropout)        (None, 64)                0         \n",
            "                                                                 \n",
            " dense_28 (Dense)            (None, 64)                4160      \n",
            "                                                                 \n",
            " dropout_28 (Dropout)        (None, 64)                0         \n",
            "                                                                 \n",
            " dense_29 (Dense)            (None, 10)                650       \n",
            "                                                                 \n",
            "=================================================================\n",
            "Total params: 1,189,002\n",
            "Trainable params: 1,189,002\n",
            "Non-trainable params: 0\n",
            "_________________________________________________________________\n"
          ]
        }
      ]
    },
    {
      "cell_type": "code",
      "metadata": {
        "id": "zoXcRTZd-PPG",
        "colab": {
          "base_uri": "https://localhost:8080/"
        },
        "outputId": "631ae219-28d1-4f5a-8014-e903f186a27c"
      },
      "source": [
        "model_hyb.compile(optimizer='adam', loss='sparse_categorical_crossentropy', metrics=['accuracy',\n",
        "                                                                                      keras_metrics.sparse_categorical_precision(), \n",
        "                                                                                      keras_metrics.sparse_categorical_recall(), \n",
        "                                                                                      keras_metrics.sparse_categorical_f1_score(), \n",
        "                                                                                      keras_metrics.sparse_categorical_true_negative()])\n",
        "history = model_hyb.fit(x_train, y_train, batch_size=64, epochs=20, validation_data=(x_validate, y_validate))"
      ],
      "execution_count": null,
      "outputs": [
        {
          "output_type": "stream",
          "name": "stdout",
          "text": [
            "Epoch 1/20\n"
          ]
        },
        {
          "output_type": "stream",
          "name": "stderr",
          "text": [
            "/usr/local/lib/python3.7/dist-packages/keras_metrics/metrics.py:26: UserWarning: `layer.updates` will be removed in a future version. This property should not be used in TensorFlow 2.0, as `updates` are applied automatically.\n",
            "  return object.__getattribute__(self, name)\n"
          ]
        },
        {
          "output_type": "stream",
          "name": "stdout",
          "text": [
            "81/81 [==============================] - 42s 495ms/step - loss: 0.9866 - accuracy: 0.5655 - precision: 0.5607 - recall: 0.3109 - f1_score: 0.3914 - true_negative: 2003.5802 - val_loss: 0.3136 - val_accuracy: 0.8858 - val_precision: 0.8547 - val_recall: 0.6618 - val_f1_score: 0.7459 - val_true_negative: 5115.7559\n",
            "Epoch 2/20\n",
            "81/81 [==============================] - 40s 493ms/step - loss: 0.3093 - accuracy: 0.8749 - precision: 0.9123 - recall: 0.7815 - f1_score: 0.8417 - true_negative: 8215.7041 - val_loss: 0.2208 - val_accuracy: 0.9076 - val_precision: 0.9382 - val_recall: 0.8399 - val_f1_score: 0.8863 - val_true_negative: 11359.4395\n",
            "Epoch 3/20\n",
            "81/81 [==============================] - 40s 493ms/step - loss: 0.2012 - accuracy: 0.9241 - precision: 0.9493 - recall: 0.8723 - f1_score: 0.9091 - true_negative: 14458.7412 - val_loss: 0.1247 - val_accuracy: 0.9522 - val_precision: 0.9574 - val_recall: 0.8938 - val_f1_score: 0.9245 - val_true_negative: 17598.8301\n",
            "Epoch 4/20\n",
            "81/81 [==============================] - 40s 492ms/step - loss: 0.1554 - accuracy: 0.9396 - precision: 0.9635 - recall: 0.9089 - f1_score: 0.9354 - true_negative: 20695.7402 - val_loss: 0.1122 - val_accuracy: 0.9553 - val_precision: 0.9679 - val_recall: 0.9204 - val_f1_score: 0.9435 - val_true_negative: 23848.4395\n",
            "Epoch 5/20\n",
            "81/81 [==============================] - 40s 494ms/step - loss: 0.1375 - accuracy: 0.9487 - precision: 0.9712 - recall: 0.9294 - f1_score: 0.9498 - true_negative: 26957.6660 - val_loss: 0.1116 - val_accuracy: 0.9577 - val_precision: 0.9742 - val_recall: 0.9366 - val_f1_score: 0.9550 - val_true_negative: 30100.4883\n",
            "Epoch 6/20\n",
            "81/81 [==============================] - 40s 494ms/step - loss: 0.1170 - accuracy: 0.9538 - precision: 0.9764 - recall: 0.9423 - f1_score: 0.9590 - true_negative: 33206.3203 - val_loss: 0.0968 - val_accuracy: 0.9596 - val_precision: 0.9783 - val_recall: 0.9470 - val_f1_score: 0.9624 - val_true_negative: 36352.7812\n",
            "Epoch 7/20\n",
            "81/81 [==============================] - 40s 491ms/step - loss: 0.1061 - accuracy: 0.9598 - precision: 0.9796 - recall: 0.9510 - f1_score: 0.9651 - true_negative: 39461.5312 - val_loss: 0.1556 - val_accuracy: 0.9390 - val_precision: 0.9808 - val_recall: 0.9544 - val_f1_score: 0.9674 - val_true_negative: 42601.3398\n",
            "Epoch 8/20\n",
            "81/81 [==============================] - 40s 493ms/step - loss: 0.0912 - accuracy: 0.9680 - precision: 0.9816 - recall: 0.9573 - f1_score: 0.9693 - true_negative: 45703.8164 - val_loss: 0.1055 - val_accuracy: 0.9546 - val_precision: 0.9827 - val_recall: 0.9598 - val_f1_score: 0.9711 - val_true_negative: 48850.1445\n",
            "Epoch 9/20\n",
            "81/81 [==============================] - 40s 492ms/step - loss: 0.0750 - accuracy: 0.9724 - precision: 0.9834 - recall: 0.9621 - f1_score: 0.9726 - true_negative: 51969.8281 - val_loss: 0.0672 - val_accuracy: 0.9736 - val_precision: 0.9842 - val_recall: 0.9641 - val_f1_score: 0.9741 - val_true_negative: 55100.4375\n",
            "Epoch 10/20\n",
            "81/81 [==============================] - 40s 492ms/step - loss: 0.0639 - accuracy: 0.9781 - precision: 0.9847 - recall: 0.9659 - f1_score: 0.9752 - true_negative: 58212.2969 - val_loss: 0.1045 - val_accuracy: 0.9612 - val_precision: 0.9854 - val_recall: 0.9675 - val_f1_score: 0.9764 - val_true_negative: 61349.4375\n",
            "Epoch 11/20\n",
            "81/81 [==============================] - 40s 491ms/step - loss: 0.0702 - accuracy: 0.9761 - precision: 0.9859 - recall: 0.9691 - f1_score: 0.9774 - true_negative: 64463.9258 - val_loss: 0.0971 - val_accuracy: 0.9674 - val_precision: 0.9865 - val_recall: 0.9704 - val_f1_score: 0.9784 - val_true_negative: 67601.4141\n",
            "Epoch 12/20\n",
            "81/81 [==============================] - 40s 492ms/step - loss: 0.0697 - accuracy: 0.9738 - precision: 0.9870 - recall: 0.9717 - f1_score: 0.9793 - true_negative: 70709.6562 - val_loss: 0.1035 - val_accuracy: 0.9612 - val_precision: 0.9875 - val_recall: 0.9729 - val_f1_score: 0.9801 - val_true_negative: 73854.8281\n",
            "Epoch 13/20\n",
            "81/81 [==============================] - 40s 496ms/step - loss: 0.0599 - accuracy: 0.9761 - precision: 0.9879 - recall: 0.9738 - f1_score: 0.9808 - true_negative: 76976.7188 - val_loss: 0.1305 - val_accuracy: 0.9604 - val_precision: 0.9883 - val_recall: 0.9748 - val_f1_score: 0.9815 - val_true_negative: 80107.8281\n",
            "Epoch 14/20\n",
            "81/81 [==============================] - 40s 500ms/step - loss: 0.0697 - accuracy: 0.9740 - precision: 0.9888 - recall: 0.9757 - f1_score: 0.9822 - true_negative: 83230.7891 - val_loss: 0.0902 - val_accuracy: 0.9678 - val_precision: 0.9892 - val_recall: 0.9766 - val_f1_score: 0.9829 - val_true_negative: 86363.8281\n",
            "Epoch 15/20\n",
            "81/81 [==============================] - 40s 499ms/step - loss: 0.0574 - accuracy: 0.9784 - precision: 0.9896 - recall: 0.9774 - f1_score: 0.9835 - true_negative: 89477.4531 - val_loss: 0.0650 - val_accuracy: 0.9763 - val_precision: 0.9898 - val_recall: 0.9782 - val_f1_score: 0.9840 - val_true_negative: 92617.8281\n",
            "Epoch 16/20\n",
            "81/81 [==============================] - 40s 498ms/step - loss: 0.0519 - accuracy: 0.9808 - precision: 0.9901 - recall: 0.9789 - f1_score: 0.9845 - true_negative: 95736.8359 - val_loss: 0.1454 - val_accuracy: 0.9534 - val_precision: 0.9904 - val_recall: 0.9795 - val_f1_score: 0.9850 - val_true_negative: 98872.8281\n",
            "Epoch 17/20\n",
            "81/81 [==============================] - 40s 500ms/step - loss: 0.0517 - accuracy: 0.9831 - precision: 0.9907 - recall: 0.9801 - f1_score: 0.9854 - true_negative: 101983.7188 - val_loss: 0.0869 - val_accuracy: 0.9693 - val_precision: 0.9910 - val_recall: 0.9807 - val_f1_score: 0.9858 - val_true_negative: 105128.8281\n",
            "Epoch 18/20\n",
            "81/81 [==============================] - 40s 498ms/step - loss: 0.0430 - accuracy: 0.9850 - precision: 0.9912 - recall: 0.9812 - f1_score: 0.9862 - true_negative: 108232.1875 - val_loss: 0.0792 - val_accuracy: 0.9728 - val_precision: 0.9914 - val_recall: 0.9818 - val_f1_score: 0.9866 - val_true_negative: 111382.8281\n",
            "Epoch 19/20\n",
            "81/81 [==============================] - 41s 502ms/step - loss: 0.0399 - accuracy: 0.9856 - precision: 0.9917 - recall: 0.9823 - f1_score: 0.9869 - true_negative: 114492.6797 - val_loss: 0.1653 - val_accuracy: 0.9550 - val_precision: 0.9919 - val_recall: 0.9827 - val_f1_score: 0.9873 - val_true_negative: 117638.8281\n",
            "Epoch 20/20\n",
            "81/81 [==============================] - 40s 499ms/step - loss: 0.0400 - accuracy: 0.9862 - precision: 0.9921 - recall: 0.9832 - f1_score: 0.9876 - true_negative: 120745.3438 - val_loss: 0.0918 - val_accuracy: 0.9713 - val_precision: 0.9922 - val_recall: 0.9835 - val_f1_score: 0.9879 - val_true_negative: 123892.8281\n"
          ]
        }
      ]
    },
    {
      "cell_type": "code",
      "metadata": {
        "id": "gm3-0v4OB3K4",
        "colab": {
          "base_uri": "https://localhost:8080/"
        },
        "outputId": "836e2e59-093f-4e1a-d207-b597f0a6498e"
      },
      "source": [
        "# Testando o model após treinamento\n",
        "x_test_rnn2 = x_test[..., None]\n",
        "all_results_hyb = model_hyb.evaluate(x_test_rnn2, y_test, verbose=1)\n",
        "print_metrics(all_results_hyb)"
      ],
      "execution_count": null,
      "outputs": [
        {
          "output_type": "stream",
          "name": "stdout",
          "text": [
            "81/81 [==============================] - 6s 73ms/step - loss: 0.0868 - accuracy: 0.9740 - precision: 0.9924 - recall: 0.9837 - f1_score: 0.9880 - true_negative: 125972.3125\n",
            "Loss: 0.0867949053645134\n",
            "Accuracy: 0.9739806056022644\n",
            "Precision: 0.9923648834228516\n",
            "Recall: 0.9837474226951599\n",
            "F1 Score: 0.9880369901657104\n",
            "Specificity: 125972.3125\n"
          ]
        }
      ]
    },
    {
      "cell_type": "code",
      "metadata": {
        "id": "lXUffx0Luffl",
        "colab": {
          "base_uri": "https://localhost:8080/"
        },
        "outputId": "a09706fe-a71f-40f1-8574-57f2a8aff972"
      },
      "source": [
        "# Testa o treino apenas com a classe LAYING\n",
        "laying_results_hyb = model_hyb.evaluate(x_test_laying, y_test_laying, verbose=1)\n",
        "print_metrics(laying_results_hyb)"
      ],
      "execution_count": null,
      "outputs": [
        {
          "output_type": "stream",
          "name": "stderr",
          "text": [
            "/usr/local/lib/python3.7/dist-packages/keras_metrics/metrics.py:26: UserWarning: `layer.updates` will be removed in a future version. This property should not be used in TensorFlow 2.0, as `updates` are applied automatically.\n",
            "  return object.__getattribute__(self, name)\n"
          ]
        },
        {
          "output_type": "stream",
          "name": "stdout",
          "text": [
            "15/15 [==============================] - 2s 72ms/step - loss: 0.4876 - accuracy: 0.9328 - precision: 0.9925 - recall: 0.9835 - f1_score: 0.9880 - true_negative: 126995.0000\n",
            "Loss: 0.48757678270339966\n",
            "Accuracy: 0.9327731132507324\n",
            "Precision: 0.9924878478050232\n",
            "Recall: 0.9834827780723572\n",
            "F1 Score: 0.9879647493362427\n",
            "Specificity: 126995.0\n"
          ]
        }
      ]
    },
    {
      "cell_type": "code",
      "metadata": {
        "colab": {
          "base_uri": "https://localhost:8080/",
          "height": 281
        },
        "id": "NiEgMwDooJrI",
        "outputId": "7adf2122-6e5a-4d18-dbb4-d987a9b3dda4"
      },
      "source": [
        "plot_loss(history, 20)"
      ],
      "execution_count": null,
      "outputs": [
        {
          "output_type": "display_data",
          "data": {
            "image/png": "[encoded data removed]",
            "text/plain": [
              "<Figure size 432x288 with 1 Axes>"
            ]
          },
          "metadata": {
            "needs_background": "light"
          }
        }
      ]
    },
    {
      "cell_type": "markdown",
      "metadata": {
        "id": "JEEhDXHjyF4Y"
      },
      "source": [
        "# Dados"
      ]
    },
    {
      "cell_type": "code",
      "metadata": {
        "id": "RWXNZxmgyJEh"
      },
      "source": [
        "loss = {\n",
        "  'MLP': laying_results_mlp[0], \n",
        "  'CNN': laying_results_cnn[0], \n",
        "  'RNN': laying_results_rnn[0], \n",
        "  'Hybrid': laying_results_hyb[0]\n",
        "}\n",
        "accuracy = {\n",
        "    'MLP': laying_results_mlp[1], \n",
        "    'CNN': laying_results_cnn[1], \n",
        "    'RNN': laying_results_rnn[1], \n",
        "    'Hybrid': laying_results_hyb[1]\n",
        "}\n",
        "\n",
        "precision = {\n",
        "    'MLP': laying_results_mlp[2], \n",
        "    'CNN': laying_results_cnn[2], \n",
        "    'RNN': laying_results_rnn[2], \n",
        "    'Hybrid': laying_results_hyb[2]\n",
        "}\n",
        "\n",
        "recall = {\n",
        "    'MLP': laying_results_mlp[3], \n",
        "    'CNN': laying_results_cnn[3], \n",
        "    'RNN': laying_results_rnn[3], \n",
        "    'Hybrid': laying_results_hyb[3]\n",
        "}\n",
        "\n",
        "f1_score = {\n",
        "    'MLP': laying_results_mlp[4], \n",
        "    'CNN': laying_results_cnn[4], \n",
        "    'RNN': laying_results_rnn[4], \n",
        "    'Hybrid': laying_results_hyb[4]\n",
        "}\n",
        "\n",
        "specificity = {\n",
        "    'MLP': laying_results_mlp[5], \n",
        "    'CNN': laying_results_cnn[5], \n",
        "    'RNN': laying_results_rnn[5], \n",
        "    'Hybrid': laying_results_hyb[5]\n",
        "}"
      ],
      "execution_count": null,
      "outputs": []
    },
    {
      "cell_type": "markdown",
      "metadata": {
        "id": "Hng_Xo0BhVxq"
      },
      "source": [
        "# Conclusão\n",
        "\n",
        "Para analisar e comparar os resultados obtidos, plotamos os graficos que compara os modelos pelas metricas:\n",
        "\n",
        "\n",
        "* Accuracy: \n",
        "\n",
        "  ![image.png](data:image/png;base64,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)\n",
        "* Precision: Qual proporção de identificações positivas estava realmente correta? \n",
        "\n",
        "    ![image.png](data:image/png;base64,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)\n",
        "\n",
        "\n",
        "* Recall: What proportion of actual positives was identified correctly?\n",
        "\n",
        "  ![image.png](data:image/png;base64,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)\n",
        "* F1 Score: \n",
        "\n",
        "    ![image.png](data:image/png;base64,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)\n",
        "    \n",
        "* Specificity: \n",
        "\n",
        "    ![image.png](data:image/png;base64,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)\n",
        "\n",
        "\n",
        "  *TP = Verdadeiros positivos* \n",
        "      \n",
        "  *FP = Falsos positivos*\n",
        "\n",
        "  *FN = Falsos negativos*\n",
        "\n"
      ]
    },
    {
      "cell_type": "code",
      "metadata": {
        "colab": {
          "base_uri": "https://localhost:8080/",
          "height": 939
        },
        "id": "HPKLENLRoqVd",
        "outputId": "2af45b70-4447-47ac-ec57-1d98aa4f298c"
      },
      "source": [
        "plt.figure(figsize=(25, 25))\n",
        "plot_bar_graph(list(loss.keys()), list(loss.values()), \"Loss\", [3, 3, 1])\n",
        "plot_bar_graph(list(accuracy.keys()), list(accuracy.values()), \"Accuracy\",  [3, 3, 2])\n",
        "plot_bar_graph(list(precision.keys()), list(precision.values()), \"Precision\",  [3, 3, 3])\n",
        "plt.show()\n",
        "plt.figure(figsize=(25, 25))\n",
        "plot_bar_graph(list(recall.keys()), list(recall.values()), \"Recall\",  [3, 3, 1])\n",
        "plot_bar_graph(list(f1_score.keys()), list(f1_score.values()), \"F1 Score\",  [3, 3, 2])\n",
        "plot_bar_graph(list(specificity.keys()), list(specificity.values()), \"Specificity\",  [3, 3, 3])\n",
        "plt.show()"
      ],
      "execution_count": null,
      "outputs": [
        {
          "output_type": "display_data",
          "data": {
            "image/png": "[encoded data removed]",
            "text/plain": [
              "<Figure size 1800x1800 with 3 Axes>"
            ]
          },
          "metadata": {
            "needs_background": "light"
          }
        },
        {
          "output_type": "display_data",
          "data": {
            "image/png": "[encoded data removed]",
            "text/plain": [
              "<Figure size 1800x1800 with 3 Axes>"
            ]
          },
          "metadata": {
            "needs_background": "light"
          }
        }
      ]
    },
    {
      "cell_type": "markdown",
      "metadata": {
        "id": "JuqYJ7RM5fDn"
      },
      "source": [
        "Com a analise dos graficos foi possivel identificar que o modelo **hybrid** obteve o melhor desempelho comparado com os outros modelos, mesmo comparada com a MLP, tecnica especifica para tratar de dados tabular, porem essa tecnica tem series de deficits, como Recurrent connections, Parameter sharing e Spatial relationship.\n",
        "\n",
        "Tecnicas que são encontradas nos outros modelos, o que faz o hybrid o melhor modelo, ja que o deficie do MLP é suprido pelo RNN e CNN. "
      ]
    },
    {
      "cell_type": "markdown",
      "metadata": {
        "id": "fFpt-LlZ5cct"
      },
      "source": [
        "![image.png](https://cdn.analyticsvidhya.com/wp-content/uploads/2020/02/table.png)"
      ]
    }
  ]
}