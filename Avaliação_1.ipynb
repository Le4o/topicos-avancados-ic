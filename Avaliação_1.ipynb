{
  "nbformat": 4,
  "nbformat_minor": 0,
  "metadata": {
    "colab": {
      "name": "Avaliação_1.ipynb",
      "provenance": [],
      "include_colab_link": true
    },
    "kernelspec": {
      "name": "python3",
      "display_name": "Python 3"
    },
    "language_info": {
      "name": "python"
    }
  },
  "cells": [
    {
      "cell_type": "markdown",
      "metadata": {
        "id": "view-in-github",
        "colab_type": "text"
      },
      "source": [
        "<a href=\"https://colab.research.google.com/github/Le4o/topicos-avancados-ic/blob/main/Avalia%C3%A7%C3%A3o_1.ipynb\" target=\"_parent\"><img src=\"https://colab.research.google.com/assets/colab-badge.svg\" alt=\"Open In Colab\"/></a>"
      ]
    },
    {
      "cell_type": "markdown",
      "metadata": {
        "id": "ph2GsBsm71kL"
      },
      "source": [
        "# Avaliação 1\n",
        "#### Exercício da matéria de Tópicos Avançados em Inteligência Computacional\n",
        "\n",
        "Grupo:\n",
        "- João Victor de Sledz Bulhões\n",
        "- Leonardo de Andrade Santana\n",
        "- Lis da Silva Azevedo"
      ]
    },
    {
      "cell_type": "markdown",
      "metadata": {
        "id": "aCjtVa-V8-Qq"
      },
      "source": [
        "### Definição do Exercício\n",
        "Utilizaremos o banco de dados do Human Activity Recognition with Smartphones, que foi construído a partir das gravações dos participantes do estudo realizando atividades da vida diária enquanto carregavam um smartphone com sensores inerciais embutidos. Para cada registro no conjunto de dados, é fornecido:\n",
        "\n",
        "- Aceleração triaxial do acelerômetro (aceleração total) e a aceleração corporal estimada.\n",
        "\n",
        "- Velocidade angular triaxial do giroscópio.\n",
        "\n",
        "- Um vetor de 561 atributos com variáveis de domínio de tempo e frequência.\n",
        "\n",
        "- O rótulo da atividade.\n",
        "\n",
        "### Objetivo:\n",
        "* Construir um modelo robusto para classificação das atividades diárias, utilizando o banco de dados fornecido, em uma das seis ações disponíveis:\n",
        "> 1. caminhar;\n",
        "> 2. subir escadas;\n",
        "> 3. descer escadas;\n",
        "> 4. sentar;\n",
        "> 5. ficar em pé;\n",
        "> 6. deitar.\n",
        "\n",
        "* Desenvolver 4 modelos, utilizando:\n",
        "> 1. Multi-Layer Perceptron (MLP)\n",
        "> 2. Convolutional Neural Network (CNN)\n",
        "> 3. Recurrent Neural Network (RNN)\n",
        "> 4. Arquitetura hibrida com a combinação das redes anteriore\n",
        "\n",
        "* Considere a divisão entre treinamento, validação e teste de 50%, 25% e 25%, respectivamente.\n",
        "\n",
        "* Utilizar como métricas: **precision, recall, specificity,\n",
        "F1-Score e accuracy**, evidenciando que o modelo não sofreu de **over/underfitting**.\n",
        "\n",
        "### Observação: \n",
        "*   *Apresentação de métricas, gráficos, são essenciais para entendimento dos modelos e justificativas.*\n",
        "*   *Compare ao final em uma tabela e apresente que técnica obteve os melhores\n",
        "resultados, discutindo-os à luz de seu conhecimento sobre o assunto, discutindo\n",
        "se eram resultados esperados, se estão adequados, e os porquês.*\n",
        "\n",
        "### Opcionais:\n",
        "\n",
        "*   A utilização de redes neurais baseadas em transformers é opcional e adicionará **1,0 ponto extra** ao projeto.\n",
        "*   A utilização de pré-processamento das séries com Wavelets OU transformadas de Fourier adicionará **1,0 ponto extra** ao projeto.\n",
        "\n",
        "\n",
        "### Link:\n",
        "\n",
        "* [Mais informações sobre os recursos estão disponíveis no site](https://archive.ics.uci.edu/ml/datasets/Human+Activity+Recognition+Using+Smartphones) \n"
      ]
    },
    {
      "cell_type": "code",
      "metadata": {
        "colab": {
          "base_uri": "https://localhost:8080/"
        },
        "id": "1UF0cRGhDgiY",
        "outputId": "aad84ee3-47c6-428c-8661-7f819d198e52"
      },
      "source": [
        "from google.colab import drive\n",
        "drive.mount('/content/drive/')\n",
        "%cd /content/drive/My Drive/Datasets"
      ],
      "execution_count": 1,
      "outputs": [
        {
          "output_type": "stream",
          "name": "stdout",
          "text": [
            "Mounted at /content/drive/\n",
            "/content/drive/My Drive/Datasets\n"
          ]
        }
      ]
    },
    {
      "cell_type": "markdown",
      "metadata": {
        "id": "j9Y0uE6G8Cq7"
      },
      "source": [
        ""
      ]
    },
    {
      "cell_type": "code",
      "metadata": {
        "id": "oPcy7yBBJkXe",
        "colab": {
          "base_uri": "https://localhost:8080/"
        },
        "outputId": "305cc478-de22-42da-c85f-ae8685fbcc81"
      },
      "source": [
        "!pip install tensorflow_addons keras_metrics\n",
        "import numpy as np \n",
        "import pandas as pd \n",
        "import tensorflow as tf\n",
        "import tensorflow_addons as tfa\n",
        "import keras_metrics\n",
        "import matplotlib.pyplot as plt\n",
        "from tensorflow import keras\n",
        "from tensorflow.keras.models import Sequential\n",
        "from tensorflow.keras import layers\n",
        "from keras.layers.convolutional import Conv1D\n",
        "from tensorflow.keras.layers import Dense, Dropout, MaxPooling1D, Flatten\n",
        "from tensorflow.keras.utils import to_categorical\n",
        "from tensorflow.keras.metrics import Precision, Recall\n",
        "from tensorflow_addons.metrics import F1Score\n",
        "from sklearn.preprocessing import LabelEncoder, MinMaxScaler\n",
        "from sklearn.metrics import accuracy_score, precision_score, recall_score, f1_score\n",
        "tf.get_logger().setLevel('ERROR')"
      ],
      "execution_count": 27,
      "outputs": [
        {
          "output_type": "stream",
          "name": "stdout",
          "text": [
            "Requirement already satisfied: tensorflow_addons in /usr/local/lib/python3.7/dist-packages (0.15.0)\n",
            "Requirement already satisfied: keras_metrics in /usr/local/lib/python3.7/dist-packages (1.1.0)\n",
            "Requirement already satisfied: typeguard>=2.7 in /usr/local/lib/python3.7/dist-packages (from tensorflow_addons) (2.7.1)\n",
            "Requirement already satisfied: Keras>=2.1.5 in /usr/local/lib/python3.7/dist-packages (from keras_metrics) (2.7.0)\n"
          ]
        }
      ]
    },
    {
      "cell_type": "markdown",
      "metadata": {
        "id": "1cc1HvZ173f4"
      },
      "source": [
        "## Carregando os dados\n",
        "\n",
        "O dataset fornecido é segmentado em **70% treino e 30% teste**, porém a atividade pede para segmentar em: **50% treino, 25% validação e 25% teste.** Então nos primeiramente juntamos os dados.\n"
      ]
    },
    {
      "cell_type": "code",
      "metadata": {
        "colab": {
          "base_uri": "https://localhost:8080/"
        },
        "id": "7yALQSUMD5W4",
        "outputId": "0d5c073f-7db0-4ed2-c2a2-fba737c3c2aa"
      },
      "source": [
        "# Carregando os dados diretamente dos csvs do Human Activity Recognition with Smartphones\n",
        "train_data = pd.read_csv('./uci_har_csvs/train.csv')\n",
        "test_data = pd.read_csv('./uci_har_csvs/test.csv')\n",
        "\n",
        "print(f'Shape of train data is: {train_data.shape}\\nShape of test data is: {test_data.shape}')\n",
        "\n",
        "data = train_data.append(test_data)\n",
        "data.shape\n",
        "\n",
        "print(f'Shape of combined data is {data.shape}')"
      ],
      "execution_count": 3,
      "outputs": [
        {
          "output_type": "stream",
          "name": "stdout",
          "text": [
            "Shape of train data is: (7352, 563)\n",
            "Shape of test data is: (2947, 563)\n",
            "Shape of combined data is (10299, 563)\n"
          ]
        }
      ]
    },
    {
      "cell_type": "markdown",
      "metadata": {
        "id": "QGe5x0Dw8IMt"
      },
      "source": [
        "## Analise inicial dos dados\n",
        "\n",
        "O dataset possui 6 classes, sendo elas:\n",
        "\n",
        "\n",
        "1.   Walking downstairs\n",
        "2.   Walking Upstairs\n",
        "3.   Walking\n",
        "4.   Sitting\n",
        "5.   Stading \n",
        "6.   Laying\n",
        "\n"
      ]
    },
    {
      "cell_type": "code",
      "metadata": {
        "id": "idSZzsaY20Yn",
        "colab": {
          "base_uri": "https://localhost:8080/",
          "height": 391
        },
        "outputId": "3094e869-4402-4935-f7f1-47583591a8e9"
      },
      "source": [
        "class_count = len(data['Activity'].unique())\n",
        "data['Activity'].value_counts().sort_values().plot(kind = 'bar', color = 'pink')"
      ],
      "execution_count": 4,
      "outputs": [
        {
          "output_type": "execute_result",
          "data": {
            "text/plain": [
              "<matplotlib.axes._subplots.AxesSubplot at 0x7f1af0e92950>"
            ]
          },
          "metadata": {},
          "execution_count": 4
        },
        {
          "output_type": "display_data",
          "data": {
            "image/png": "[encoded data removed]",
            "text/plain": [
              "<Figure size 432x288 with 1 Axes>"
            ]
          },
          "metadata": {
            "needs_background": "light"
          }
        }
      ]
    },
    {
      "cell_type": "markdown",
      "metadata": {
        "id": "p6laf9fa7L6w"
      },
      "source": [
        "## Segmentação do Dataset\n",
        "\n",
        "50% treino, 25% validação e 25% teste\n"
      ]
    },
    {
      "cell_type": "code",
      "metadata": {
        "id": "bRW0Ytg_2hap",
        "colab": {
          "base_uri": "https://localhost:8080/",
          "height": 342
        },
        "outputId": "f8b6e612-c1ce-4ce1-a69e-29ff7bf835f6"
      },
      "source": [
        "train, validate, test = \\\n",
        "              np.split(data.sample(frac=1, random_state=42), \n",
        "                       [int(.5*len(data)), int(.75*len(data))])\n",
        "              \n",
        "print(f'Shape of train data is {train.shape}')\n",
        "print(f'Shape of validation data is {validate.shape}')\n",
        "print(f'Shape of test data is {test.shape}')\n",
        "validate.head()"
      ],
      "execution_count": 5,
      "outputs": [
        {
          "output_type": "stream",
          "name": "stdout",
          "text": [
            "Shape of train data is (5149, 563)\n",
            "Shape of validation data is (2575, 563)\n",
            "Shape of test data is (2575, 563)\n"
          ]
        },
        {
          "output_type": "execute_result",
          "data": {
            "text/html": [
              "<div>\n",
              "<style scoped>\n",
              "    .dataframe tbody tr th:only-of-type {\n",
              "        vertical-align: middle;\n",
              "    }\n",
              "\n",
              "    .dataframe tbody tr th {\n",
              "        vertical-align: top;\n",
              "    }\n",
              "\n",
              "    .dataframe thead th {\n",
              "        text-align: right;\n",
              "    }\n",
              "</style>\n",
              "<table border=\"1\" class=\"dataframe\">\n",
              "  <thead>\n",
              "    <tr style=\"text-align: right;\">\n",
              "      <th></th>\n",
              "      <th>tBodyAcc-mean()-X</th>\n",
              "      <th>tBodyAcc-mean()-Y</th>\n",
              "      <th>tBodyAcc-mean()-Z</th>\n",
              "      <th>tBodyAcc-std()-X</th>\n",
              "      <th>tBodyAcc-std()-Y</th>\n",
              "      <th>tBodyAcc-std()-Z</th>\n",
              "      <th>tBodyAcc-mad()-X</th>\n",
              "      <th>tBodyAcc-mad()-Y</th>\n",
              "      <th>tBodyAcc-mad()-Z</th>\n",
              "      <th>tBodyAcc-max()-X</th>\n",
              "      <th>tBodyAcc-max()-Y</th>\n",
              "      <th>tBodyAcc-max()-Z</th>\n",
              "      <th>tBodyAcc-min()-X</th>\n",
              "      <th>tBodyAcc-min()-Y</th>\n",
              "      <th>tBodyAcc-min()-Z</th>\n",
              "      <th>tBodyAcc-sma()</th>\n",
              "      <th>tBodyAcc-energy()-X</th>\n",
              "      <th>tBodyAcc-energy()-Y</th>\n",
              "      <th>tBodyAcc-energy()-Z</th>\n",
              "      <th>tBodyAcc-iqr()-X</th>\n",
              "      <th>tBodyAcc-iqr()-Y</th>\n",
              "      <th>tBodyAcc-iqr()-Z</th>\n",
              "      <th>tBodyAcc-entropy()-X</th>\n",
              "      <th>tBodyAcc-entropy()-Y</th>\n",
              "      <th>tBodyAcc-entropy()-Z</th>\n",
              "      <th>tBodyAcc-arCoeff()-X,1</th>\n",
              "      <th>tBodyAcc-arCoeff()-X,2</th>\n",
              "      <th>tBodyAcc-arCoeff()-X,3</th>\n",
              "      <th>tBodyAcc-arCoeff()-X,4</th>\n",
              "      <th>tBodyAcc-arCoeff()-Y,1</th>\n",
              "      <th>tBodyAcc-arCoeff()-Y,2</th>\n",
              "      <th>tBodyAcc-arCoeff()-Y,3</th>\n",
              "      <th>tBodyAcc-arCoeff()-Y,4</th>\n",
              "      <th>tBodyAcc-arCoeff()-Z,1</th>\n",
              "      <th>tBodyAcc-arCoeff()-Z,2</th>\n",
              "      <th>tBodyAcc-arCoeff()-Z,3</th>\n",
              "      <th>tBodyAcc-arCoeff()-Z,4</th>\n",
              "      <th>tBodyAcc-correlation()-X,Y</th>\n",
              "      <th>tBodyAcc-correlation()-X,Z</th>\n",
              "      <th>tBodyAcc-correlation()-Y,Z</th>\n",
              "      <th>...</th>\n",
              "      <th>fBodyBodyAccJerkMag-entropy()</th>\n",
              "      <th>fBodyBodyAccJerkMag-maxInds</th>\n",
              "      <th>fBodyBodyAccJerkMag-meanFreq()</th>\n",
              "      <th>fBodyBodyAccJerkMag-skewness()</th>\n",
              "      <th>fBodyBodyAccJerkMag-kurtosis()</th>\n",
              "      <th>fBodyBodyGyroMag-mean()</th>\n",
              "      <th>fBodyBodyGyroMag-std()</th>\n",
              "      <th>fBodyBodyGyroMag-mad()</th>\n",
              "      <th>fBodyBodyGyroMag-max()</th>\n",
              "      <th>fBodyBodyGyroMag-min()</th>\n",
              "      <th>fBodyBodyGyroMag-sma()</th>\n",
              "      <th>fBodyBodyGyroMag-energy()</th>\n",
              "      <th>fBodyBodyGyroMag-iqr()</th>\n",
              "      <th>fBodyBodyGyroMag-entropy()</th>\n",
              "      <th>fBodyBodyGyroMag-maxInds</th>\n",
              "      <th>fBodyBodyGyroMag-meanFreq()</th>\n",
              "      <th>fBodyBodyGyroMag-skewness()</th>\n",
              "      <th>fBodyBodyGyroMag-kurtosis()</th>\n",
              "      <th>fBodyBodyGyroJerkMag-mean()</th>\n",
              "      <th>fBodyBodyGyroJerkMag-std()</th>\n",
              "      <th>fBodyBodyGyroJerkMag-mad()</th>\n",
              "      <th>fBodyBodyGyroJerkMag-max()</th>\n",
              "      <th>fBodyBodyGyroJerkMag-min()</th>\n",
              "      <th>fBodyBodyGyroJerkMag-sma()</th>\n",
              "      <th>fBodyBodyGyroJerkMag-energy()</th>\n",
              "      <th>fBodyBodyGyroJerkMag-iqr()</th>\n",
              "      <th>fBodyBodyGyroJerkMag-entropy()</th>\n",
              "      <th>fBodyBodyGyroJerkMag-maxInds</th>\n",
              "      <th>fBodyBodyGyroJerkMag-meanFreq()</th>\n",
              "      <th>fBodyBodyGyroJerkMag-skewness()</th>\n",
              "      <th>fBodyBodyGyroJerkMag-kurtosis()</th>\n",
              "      <th>angle(tBodyAccMean,gravity)</th>\n",
              "      <th>angle(tBodyAccJerkMean),gravityMean)</th>\n",
              "      <th>angle(tBodyGyroMean,gravityMean)</th>\n",
              "      <th>angle(tBodyGyroJerkMean,gravityMean)</th>\n",
              "      <th>angle(X,gravityMean)</th>\n",
              "      <th>angle(Y,gravityMean)</th>\n",
              "      <th>angle(Z,gravityMean)</th>\n",
              "      <th>subject</th>\n",
              "      <th>Activity</th>\n",
              "    </tr>\n",
              "  </thead>\n",
              "  <tbody>\n",
              "    <tr>\n",
              "      <th>2117</th>\n",
              "      <td>0.274369</td>\n",
              "      <td>-0.016706</td>\n",
              "      <td>-0.110229</td>\n",
              "      <td>-0.991515</td>\n",
              "      <td>-0.989040</td>\n",
              "      <td>-0.978536</td>\n",
              "      <td>-0.992510</td>\n",
              "      <td>-0.990249</td>\n",
              "      <td>-0.980843</td>\n",
              "      <td>-0.936067</td>\n",
              "      <td>-0.561457</td>\n",
              "      <td>-0.812424</td>\n",
              "      <td>0.841441</td>\n",
              "      <td>0.691739</td>\n",
              "      <td>0.824627</td>\n",
              "      <td>-0.989752</td>\n",
              "      <td>-0.999926</td>\n",
              "      <td>-0.999935</td>\n",
              "      <td>-0.999490</td>\n",
              "      <td>-0.994133</td>\n",
              "      <td>-0.991564</td>\n",
              "      <td>-0.983694</td>\n",
              "      <td>-0.570835</td>\n",
              "      <td>-0.632256</td>\n",
              "      <td>-0.525435</td>\n",
              "      <td>0.194450</td>\n",
              "      <td>-0.146492</td>\n",
              "      <td>-0.041534</td>\n",
              "      <td>0.385220</td>\n",
              "      <td>0.146668</td>\n",
              "      <td>0.008702</td>\n",
              "      <td>0.117522</td>\n",
              "      <td>0.316987</td>\n",
              "      <td>0.049494</td>\n",
              "      <td>0.002990</td>\n",
              "      <td>0.077043</td>\n",
              "      <td>-0.040535</td>\n",
              "      <td>-0.326617</td>\n",
              "      <td>-0.124434</td>\n",
              "      <td>-0.467705</td>\n",
              "      <td>...</td>\n",
              "      <td>-1.000000</td>\n",
              "      <td>-1.000000</td>\n",
              "      <td>0.189798</td>\n",
              "      <td>-0.435028</td>\n",
              "      <td>-0.826468</td>\n",
              "      <td>-0.983336</td>\n",
              "      <td>-0.983446</td>\n",
              "      <td>-0.979036</td>\n",
              "      <td>-0.988786</td>\n",
              "      <td>-0.996133</td>\n",
              "      <td>-0.983336</td>\n",
              "      <td>-0.999768</td>\n",
              "      <td>-0.973804</td>\n",
              "      <td>-0.651509</td>\n",
              "      <td>-1.0</td>\n",
              "      <td>-0.200696</td>\n",
              "      <td>-0.692462</td>\n",
              "      <td>-0.925401</td>\n",
              "      <td>-0.990613</td>\n",
              "      <td>-0.989842</td>\n",
              "      <td>-0.989335</td>\n",
              "      <td>-0.990264</td>\n",
              "      <td>-0.995010</td>\n",
              "      <td>-0.990613</td>\n",
              "      <td>-0.999922</td>\n",
              "      <td>-0.988997</td>\n",
              "      <td>-0.923452</td>\n",
              "      <td>-1.000000</td>\n",
              "      <td>-0.165418</td>\n",
              "      <td>-0.227327</td>\n",
              "      <td>-0.592258</td>\n",
              "      <td>-0.031017</td>\n",
              "      <td>-0.068529</td>\n",
              "      <td>0.222656</td>\n",
              "      <td>-0.171256</td>\n",
              "      <td>0.365294</td>\n",
              "      <td>-0.846661</td>\n",
              "      <td>-0.004809</td>\n",
              "      <td>11</td>\n",
              "      <td>LAYING</td>\n",
              "    </tr>\n",
              "    <tr>\n",
              "      <th>2937</th>\n",
              "      <td>0.260018</td>\n",
              "      <td>-0.008491</td>\n",
              "      <td>-0.117588</td>\n",
              "      <td>-0.935685</td>\n",
              "      <td>-0.670521</td>\n",
              "      <td>-0.875247</td>\n",
              "      <td>-0.959882</td>\n",
              "      <td>-0.805597</td>\n",
              "      <td>-0.907493</td>\n",
              "      <td>-0.892596</td>\n",
              "      <td>-0.146449</td>\n",
              "      <td>-0.774665</td>\n",
              "      <td>0.710398</td>\n",
              "      <td>0.541556</td>\n",
              "      <td>0.691246</td>\n",
              "      <td>-0.910007</td>\n",
              "      <td>-0.997606</td>\n",
              "      <td>-0.978016</td>\n",
              "      <td>-0.991313</td>\n",
              "      <td>-0.995422</td>\n",
              "      <td>-0.989595</td>\n",
              "      <td>-0.963853</td>\n",
              "      <td>-0.310086</td>\n",
              "      <td>-0.398456</td>\n",
              "      <td>-0.248864</td>\n",
              "      <td>-0.508756</td>\n",
              "      <td>0.476951</td>\n",
              "      <td>-0.460860</td>\n",
              "      <td>0.392226</td>\n",
              "      <td>-0.604299</td>\n",
              "      <td>0.591770</td>\n",
              "      <td>-0.713939</td>\n",
              "      <td>0.839213</td>\n",
              "      <td>-0.252033</td>\n",
              "      <td>0.355529</td>\n",
              "      <td>-1.000000</td>\n",
              "      <td>1.000000</td>\n",
              "      <td>0.296486</td>\n",
              "      <td>-0.012320</td>\n",
              "      <td>-0.867214</td>\n",
              "      <td>...</td>\n",
              "      <td>-0.476360</td>\n",
              "      <td>-1.000000</td>\n",
              "      <td>-0.455206</td>\n",
              "      <td>0.384570</td>\n",
              "      <td>0.087227</td>\n",
              "      <td>-0.512505</td>\n",
              "      <td>-0.269562</td>\n",
              "      <td>-0.408939</td>\n",
              "      <td>-0.192944</td>\n",
              "      <td>-0.049099</td>\n",
              "      <td>-0.512505</td>\n",
              "      <td>-0.740628</td>\n",
              "      <td>-0.801698</td>\n",
              "      <td>0.130729</td>\n",
              "      <td>-1.0</td>\n",
              "      <td>-0.259452</td>\n",
              "      <td>0.265055</td>\n",
              "      <td>-0.064927</td>\n",
              "      <td>-0.929913</td>\n",
              "      <td>-0.863376</td>\n",
              "      <td>-0.907363</td>\n",
              "      <td>-0.843969</td>\n",
              "      <td>-0.985603</td>\n",
              "      <td>-0.929913</td>\n",
              "      <td>-0.993913</td>\n",
              "      <td>-0.935197</td>\n",
              "      <td>-0.419270</td>\n",
              "      <td>-1.000000</td>\n",
              "      <td>-0.563006</td>\n",
              "      <td>0.783258</td>\n",
              "      <td>0.551519</td>\n",
              "      <td>0.351286</td>\n",
              "      <td>0.079468</td>\n",
              "      <td>0.329166</td>\n",
              "      <td>0.006809</td>\n",
              "      <td>-0.885412</td>\n",
              "      <td>0.113755</td>\n",
              "      <td>0.100170</td>\n",
              "      <td>16</td>\n",
              "      <td>SITTING</td>\n",
              "    </tr>\n",
              "    <tr>\n",
              "      <th>6867</th>\n",
              "      <td>0.278964</td>\n",
              "      <td>-0.016177</td>\n",
              "      <td>-0.112617</td>\n",
              "      <td>-0.986395</td>\n",
              "      <td>-0.993402</td>\n",
              "      <td>-0.996253</td>\n",
              "      <td>-0.987809</td>\n",
              "      <td>-0.994375</td>\n",
              "      <td>-0.995559</td>\n",
              "      <td>-0.935219</td>\n",
              "      <td>-0.566172</td>\n",
              "      <td>-0.826331</td>\n",
              "      <td>0.838379</td>\n",
              "      <td>0.692073</td>\n",
              "      <td>0.845662</td>\n",
              "      <td>-0.992035</td>\n",
              "      <td>-0.999849</td>\n",
              "      <td>-0.999965</td>\n",
              "      <td>-0.999920</td>\n",
              "      <td>-0.989898</td>\n",
              "      <td>-0.995405</td>\n",
              "      <td>-0.992992</td>\n",
              "      <td>-0.391655</td>\n",
              "      <td>-0.668624</td>\n",
              "      <td>-0.735404</td>\n",
              "      <td>0.074098</td>\n",
              "      <td>-0.024003</td>\n",
              "      <td>-0.086759</td>\n",
              "      <td>-0.050424</td>\n",
              "      <td>0.497133</td>\n",
              "      <td>-0.308945</td>\n",
              "      <td>0.436123</td>\n",
              "      <td>-0.284634</td>\n",
              "      <td>0.562480</td>\n",
              "      <td>-0.303941</td>\n",
              "      <td>0.243113</td>\n",
              "      <td>-0.238292</td>\n",
              "      <td>-0.560531</td>\n",
              "      <td>-0.482763</td>\n",
              "      <td>0.529234</td>\n",
              "      <td>...</td>\n",
              "      <td>-1.000000</td>\n",
              "      <td>-0.746032</td>\n",
              "      <td>0.201563</td>\n",
              "      <td>-0.661723</td>\n",
              "      <td>-0.919496</td>\n",
              "      <td>-0.963026</td>\n",
              "      <td>-0.936948</td>\n",
              "      <td>-0.955237</td>\n",
              "      <td>-0.922671</td>\n",
              "      <td>-0.973526</td>\n",
              "      <td>-0.963026</td>\n",
              "      <td>-0.998002</td>\n",
              "      <td>-0.980297</td>\n",
              "      <td>-0.508129</td>\n",
              "      <td>-1.0</td>\n",
              "      <td>-0.242515</td>\n",
              "      <td>0.564836</td>\n",
              "      <td>0.361085</td>\n",
              "      <td>-0.997792</td>\n",
              "      <td>-0.997197</td>\n",
              "      <td>-0.997178</td>\n",
              "      <td>-0.997628</td>\n",
              "      <td>-0.995845</td>\n",
              "      <td>-0.997792</td>\n",
              "      <td>-0.999990</td>\n",
              "      <td>-0.997452</td>\n",
              "      <td>-1.000000</td>\n",
              "      <td>-0.650794</td>\n",
              "      <td>0.391506</td>\n",
              "      <td>-0.412803</td>\n",
              "      <td>-0.785954</td>\n",
              "      <td>0.126507</td>\n",
              "      <td>0.229589</td>\n",
              "      <td>-0.420273</td>\n",
              "      <td>0.306465</td>\n",
              "      <td>0.496486</td>\n",
              "      <td>-0.614039</td>\n",
              "      <td>-0.381354</td>\n",
              "      <td>29</td>\n",
              "      <td>LAYING</td>\n",
              "    </tr>\n",
              "    <tr>\n",
              "      <th>983</th>\n",
              "      <td>0.183580</td>\n",
              "      <td>-0.127213</td>\n",
              "      <td>-0.053418</td>\n",
              "      <td>0.066369</td>\n",
              "      <td>0.175940</td>\n",
              "      <td>-0.392213</td>\n",
              "      <td>0.024724</td>\n",
              "      <td>0.176251</td>\n",
              "      <td>-0.373970</td>\n",
              "      <td>0.026905</td>\n",
              "      <td>-0.011366</td>\n",
              "      <td>-0.414110</td>\n",
              "      <td>-0.061307</td>\n",
              "      <td>-0.120410</td>\n",
              "      <td>0.453433</td>\n",
              "      <td>0.075900</td>\n",
              "      <td>-0.429020</td>\n",
              "      <td>-0.711465</td>\n",
              "      <td>-0.826533</td>\n",
              "      <td>-0.026840</td>\n",
              "      <td>-0.006198</td>\n",
              "      <td>-0.409776</td>\n",
              "      <td>0.363369</td>\n",
              "      <td>0.033249</td>\n",
              "      <td>0.151558</td>\n",
              "      <td>-0.422318</td>\n",
              "      <td>0.161796</td>\n",
              "      <td>0.187022</td>\n",
              "      <td>-0.033507</td>\n",
              "      <td>-0.540551</td>\n",
              "      <td>0.463843</td>\n",
              "      <td>-0.051249</td>\n",
              "      <td>-0.049775</td>\n",
              "      <td>-0.322750</td>\n",
              "      <td>0.332125</td>\n",
              "      <td>-0.213743</td>\n",
              "      <td>-0.117904</td>\n",
              "      <td>-0.191380</td>\n",
              "      <td>0.028687</td>\n",
              "      <td>0.224921</td>\n",
              "      <td>...</td>\n",
              "      <td>0.359925</td>\n",
              "      <td>-0.873016</td>\n",
              "      <td>0.141046</td>\n",
              "      <td>-0.459858</td>\n",
              "      <td>-0.790742</td>\n",
              "      <td>-0.382941</td>\n",
              "      <td>-0.352315</td>\n",
              "      <td>-0.261177</td>\n",
              "      <td>-0.500621</td>\n",
              "      <td>-0.901947</td>\n",
              "      <td>-0.382941</td>\n",
              "      <td>-0.747985</td>\n",
              "      <td>-0.391830</td>\n",
              "      <td>0.614840</td>\n",
              "      <td>-1.0</td>\n",
              "      <td>-0.187344</td>\n",
              "      <td>-0.476318</td>\n",
              "      <td>-0.802189</td>\n",
              "      <td>-0.601748</td>\n",
              "      <td>-0.691376</td>\n",
              "      <td>-0.648107</td>\n",
              "      <td>-0.723129</td>\n",
              "      <td>-0.549007</td>\n",
              "      <td>-0.601748</td>\n",
              "      <td>-0.929556</td>\n",
              "      <td>-0.586202</td>\n",
              "      <td>0.320269</td>\n",
              "      <td>-0.873016</td>\n",
              "      <td>0.230617</td>\n",
              "      <td>-0.285643</td>\n",
              "      <td>-0.649094</td>\n",
              "      <td>0.079392</td>\n",
              "      <td>-0.892303</td>\n",
              "      <td>0.939023</td>\n",
              "      <td>-0.067309</td>\n",
              "      <td>-0.779321</td>\n",
              "      <td>0.248037</td>\n",
              "      <td>0.046806</td>\n",
              "      <td>5</td>\n",
              "      <td>WALKING_UPSTAIRS</td>\n",
              "    </tr>\n",
              "    <tr>\n",
              "      <th>61</th>\n",
              "      <td>0.280262</td>\n",
              "      <td>-0.018698</td>\n",
              "      <td>-0.109685</td>\n",
              "      <td>-0.996123</td>\n",
              "      <td>-0.998074</td>\n",
              "      <td>-0.991967</td>\n",
              "      <td>-0.996509</td>\n",
              "      <td>-0.997516</td>\n",
              "      <td>-0.992607</td>\n",
              "      <td>-0.939714</td>\n",
              "      <td>-0.577026</td>\n",
              "      <td>-0.823482</td>\n",
              "      <td>0.851158</td>\n",
              "      <td>0.693643</td>\n",
              "      <td>0.840339</td>\n",
              "      <td>-0.997394</td>\n",
              "      <td>-0.999975</td>\n",
              "      <td>-0.999988</td>\n",
              "      <td>-0.999860</td>\n",
              "      <td>-0.997109</td>\n",
              "      <td>-0.996239</td>\n",
              "      <td>-0.991663</td>\n",
              "      <td>-0.598011</td>\n",
              "      <td>-0.859599</td>\n",
              "      <td>-0.646639</td>\n",
              "      <td>0.385923</td>\n",
              "      <td>-0.241664</td>\n",
              "      <td>0.101185</td>\n",
              "      <td>0.190957</td>\n",
              "      <td>0.456281</td>\n",
              "      <td>-0.245810</td>\n",
              "      <td>0.311339</td>\n",
              "      <td>0.076550</td>\n",
              "      <td>0.424887</td>\n",
              "      <td>-0.179671</td>\n",
              "      <td>0.156384</td>\n",
              "      <td>-0.052179</td>\n",
              "      <td>-0.163751</td>\n",
              "      <td>0.216597</td>\n",
              "      <td>0.164204</td>\n",
              "      <td>...</td>\n",
              "      <td>-1.000000</td>\n",
              "      <td>-0.936508</td>\n",
              "      <td>0.684056</td>\n",
              "      <td>-0.747146</td>\n",
              "      <td>-0.949970</td>\n",
              "      <td>-0.996580</td>\n",
              "      <td>-0.997279</td>\n",
              "      <td>-0.997024</td>\n",
              "      <td>-0.997008</td>\n",
              "      <td>-0.997412</td>\n",
              "      <td>-0.996580</td>\n",
              "      <td>-0.999983</td>\n",
              "      <td>-0.996494</td>\n",
              "      <td>-0.956057</td>\n",
              "      <td>-1.0</td>\n",
              "      <td>0.418893</td>\n",
              "      <td>-0.588401</td>\n",
              "      <td>-0.821342</td>\n",
              "      <td>-0.998563</td>\n",
              "      <td>-0.998383</td>\n",
              "      <td>-0.998003</td>\n",
              "      <td>-0.999262</td>\n",
              "      <td>-0.996855</td>\n",
              "      <td>-0.998563</td>\n",
              "      <td>-0.999995</td>\n",
              "      <td>-0.998056</td>\n",
              "      <td>-1.000000</td>\n",
              "      <td>-0.428571</td>\n",
              "      <td>0.534796</td>\n",
              "      <td>-0.750003</td>\n",
              "      <td>-0.961720</td>\n",
              "      <td>0.740652</td>\n",
              "      <td>-0.003130</td>\n",
              "      <td>-0.288663</td>\n",
              "      <td>0.011929</td>\n",
              "      <td>0.768231</td>\n",
              "      <td>-0.467455</td>\n",
              "      <td>-0.519331</td>\n",
              "      <td>2</td>\n",
              "      <td>LAYING</td>\n",
              "    </tr>\n",
              "  </tbody>\n",
              "</table>\n",
              "<p>5 rows × 563 columns</p>\n",
              "</div>"
            ],
            "text/plain": [
              "      tBodyAcc-mean()-X  tBodyAcc-mean()-Y  ...  subject          Activity\n",
              "2117           0.274369          -0.016706  ...       11            LAYING\n",
              "2937           0.260018          -0.008491  ...       16           SITTING\n",
              "6867           0.278964          -0.016177  ...       29            LAYING\n",
              "983            0.183580          -0.127213  ...        5  WALKING_UPSTAIRS\n",
              "61             0.280262          -0.018698  ...        2            LAYING\n",
              "\n",
              "[5 rows x 563 columns]"
            ]
          },
          "metadata": {},
          "execution_count": 5
        }
      ]
    },
    {
      "cell_type": "markdown",
      "metadata": {
        "id": "Lq8WKe0x7SZc"
      },
      "source": [
        "## Preparando os Dados para os Modelos\n",
        "\n",
        "*   **x** = Todos os conjuntos de dados tirando as duas ultimas colunas.\n",
        "*   **y** = Ultima coluna, coluna que define a atividade.\n",
        "\n"
      ]
    },
    {
      "cell_type": "code",
      "metadata": {
        "id": "fTcaNixfDRD7",
        "colab": {
          "base_uri": "https://localhost:8080/"
        },
        "outputId": "b2894af6-f4a5-4f08-cb78-2b729ba15235"
      },
      "source": [
        "# Separando os os dados do target\n",
        "x_train, y_train = train.iloc[:, :-2], train.iloc[:, -1:]\n",
        "x_validate, y_validate = validate.iloc[:, :-2], validate.iloc[:, -1:]\n",
        "x_test, y_test = test.iloc[:, :-2], test.iloc[:, -1:]\n",
        "print(f'Train: {x_train.shape}, {y_train.shape}\\nValidation: {x_validate.shape}, {y_validate.shape}\\nTraining: {x_test.shape}, {y_test.shape}\\n')"
      ],
      "execution_count": 77,
      "outputs": [
        {
          "output_type": "stream",
          "name": "stdout",
          "text": [
            "Train: (5149, 561), (5149, 1)\n",
            "Validation: (2575, 561), (2575, 1)\n",
            "Training: (2575, 561), (2575, 1)\n",
            "\n"
          ]
        }
      ]
    },
    {
      "cell_type": "markdown",
      "metadata": {
        "id": "TPRbqoCVMZfd"
      },
      "source": [
        "Os modelos aceitam apenas números, então foi necessário alterar as strings que definem as classes para números."
      ]
    },
    {
      "cell_type": "code",
      "metadata": {
        "id": "w_78axvFL4V_",
        "colab": {
          "base_uri": "https://localhost:8080/"
        },
        "outputId": "70a41f7a-3145-400d-8ec8-c40a4fdbf071"
      },
      "source": [
        "# Trasformando as strings do target em números\n",
        "le = LabelEncoder()\n",
        "y_train = le.fit_transform(y_train)\n",
        "y_validate = le.fit_transform(y_validate)\n",
        "y_test = le.fit_transform(y_test)\n",
        "\n",
        "# --------------Não sei oq é isso\n",
        "scaling_data = MinMaxScaler()\n",
        "x_train = scaling_data.fit_transform(x_train)\n",
        "x_validate = scaling_data.fit_transform(x_validate)\n",
        "x_test = scaling_data.transform(x_test)"
      ],
      "execution_count": 78,
      "outputs": [
        {
          "output_type": "stream",
          "name": "stderr",
          "text": [
            "/usr/local/lib/python3.7/dist-packages/sklearn/preprocessing/_label.py:115: DataConversionWarning: A column-vector y was passed when a 1d array was expected. Please change the shape of y to (n_samples, ), for example using ravel().\n",
            "  y = column_or_1d(y, warn=True)\n"
          ]
        }
      ]
    },
    {
      "cell_type": "code",
      "metadata": {
        "colab": {
          "base_uri": "https://localhost:8080/"
        },
        "id": "Km4Cf8Uj_i-k",
        "outputId": "b3fe29f0-f1bf-4c4b-bdb6-6425b8f2e8a7"
      },
      "source": [
        "# Separando casos de teste do tipo LAYING\n",
        "test_laying = test[test.Activity == 'LAYING']\n",
        "x_test_laying, y_test_laying = test_laying.iloc[:, :-2], test_laying.iloc[:, -1:]\n",
        "y_test_laying = le.fit_transform(y_test_laying)\n",
        "x_test_laying = scaling_data.fit_transform(x_test_laying)"
      ],
      "execution_count": 79,
      "outputs": [
        {
          "output_type": "stream",
          "name": "stderr",
          "text": [
            "/usr/local/lib/python3.7/dist-packages/sklearn/preprocessing/_label.py:115: DataConversionWarning: A column-vector y was passed when a 1d array was expected. Please change the shape of y to (n_samples, ), for example using ravel().\n",
            "  y = column_or_1d(y, warn=True)\n"
          ]
        }
      ]
    },
    {
      "cell_type": "code",
      "metadata": {
        "id": "3_DEKr8FNwWd"
      },
      "source": [
        "def print_metrics(test_results):\n",
        "    print(f'Loss: {test_results[0]}\\nAccuracy: {test_results[1]}\\nPrecision: {test_results[2]}\\nRecall: {test_results[3]}\\nF1 Score: {test_results[4]}\\nSpecificity: {test_results[5]}')"
      ],
      "execution_count": 9,
      "outputs": []
    },
    {
      "cell_type": "code",
      "metadata": {
        "id": "lWkQ_OXVWUd5"
      },
      "source": [
        "def plot_loss(history, epochs):\n",
        "    loss = history.history['loss']\n",
        "    val_loss = history.history['val_loss']\n",
        "    epochs = range(epochs)\n",
        "    plt.figure()\n",
        "    plt.plot(epochs, loss, 'bo', label='Training loss')\n",
        "    plt.plot(epochs, val_loss, 'b', label='Validation loss')\n",
        "    plt.title('Training and validation loss')\n",
        "    plt.legend()\n",
        "    plt.show()"
      ],
      "execution_count": 29,
      "outputs": []
    },
    {
      "cell_type": "code",
      "metadata": {
        "id": "iAeJLgTTry44"
      },
      "source": [
        "def plot_bar_graph(model_name, values, label, ord):\n",
        "    plt.subplot(ord[0], ord[1], ord[2])\n",
        "    plt.bar(model_name, values, color ='blue', width = 0.1)\n",
        "    plt.xlabel(\"Models\")\n",
        "    plt.ylabel(label)\n",
        "    plt.title(\"Comparing {} by models\".format(label))"
      ],
      "execution_count": 121,
      "outputs": []
    },
    {
      "cell_type": "markdown",
      "metadata": {
        "id": "6waF_f25De4J"
      },
      "source": [
        "# Multi-Layer Perceptron (MLP)\n",
        "\n",
        "Perceptron é utilizado para classificação binária, possuindo apenas 1 neurônio, sendo assim, não podendo se aplicar a dados não lineares. \n",
        "O MLP foi desenvolvido para suprir com essa limitação.Ele possui camadas de entrada e saída e uma ou mais camadas ocultas com muitos neurônios juntos. E enquanto no Perceptron o neurônio deve ter uma função de ativação que impõe um limite, como ReLU ou sigmoid, os neurônios em um MLP podem usar qualquer função de ativação arbitrária.\n",
        "\n",
        "Funções de ativação: \n",
        "*   **ReLU**: Função não linear que a não ativa todos os neurônios ao mesmo tempo. Se a entrada for negativa, ela será convertida em zero e o neurônio não será ativado. Isso significa que, ao mesmo tempo, apenas alguns neurônios são ativados, tornando a rede esparsa e eficiente e fácil para a computação.\n",
        "*   **Softmax**: Alternativa para função sigmóide para lidar com problemas de classificação, já que a mesma é capaz de lidar com mais de 2 classes, diferente da sigmóide.\n",
        "\n",
        "\n"
      ]
    },
    {
      "cell_type": "code",
      "metadata": {
        "id": "gmF9XuyDG6dz"
      },
      "source": [
        "# Criando o model\n",
        "model_mlp = Sequential()\n",
        "model_mlp.add(Dense(64, activation='relu', input_dim=x_train.shape[1])) # Layer 1\n",
        "model_mlp.add(Dropout(0.25))\n",
        "model_mlp.add(Dense(64, activation='relu')) # Layer 2\n",
        "model_mlp.add(Dropout(0.25))\n",
        "model_mlp.add(Dense(6, activation='softmax')) # Layer 3"
      ],
      "execution_count": 36,
      "outputs": []
    },
    {
      "cell_type": "markdown",
      "metadata": {
        "id": "RosQCW8jXvQ-"
      },
      "source": [
        "\n",
        "\n",
        "*   **Compilação, Treino e validação**: O processo de treino foi composto por 20 epocas e 50% do dataset e a validação por 25% do dataset. \n",
        ">* Optimizer: [**Adam**](https://machinelearningmastery.com/adam-optimization-algorithm-for-deep-learning/) é um algoritmo de otimização que pode ser usado em vez do procedimento clássico de *Stochastic Gradient Descent* (mantém uma única taxa de aprendizado para todas as atualizações de peso e a taxa de aprendizado não muda durante o treinamento) para atualizar os pesos da rede iterativos com base nos dados de treinamento.\n",
        ">* Loss: [sparse_categorical_crossentropy](https://vitalflux.com/keras-categorical-cross-entropy-loss-function/) Usado para modelos de classificação multi-classes quando a output label  sao valores inteiros (0, 1, 2,..).\n"
      ]
    },
    {
      "cell_type": "code",
      "metadata": {
        "colab": {
          "base_uri": "https://localhost:8080/"
        },
        "id": "QKw4bSSOXu1h",
        "outputId": "a7dbc975-088f-4fd5-85e2-0c8065530bde"
      },
      "source": [
        "# Compilando o model e treinando\n",
        "model_mlp.compile(optimizer='adam', loss='sparse_categorical_crossentropy', metrics=['accuracy', \n",
        "                                                                                     keras_metrics.sparse_categorical_precision(), \n",
        "                                                                                     keras_metrics.sparse_categorical_recall(), \n",
        "                                                                                     keras_metrics.sparse_categorical_f1_score(), \n",
        "                                                                                     keras_metrics.sparse_categorical_true_negative()]) # optimizer 'adam'\n",
        "history_mlp = model_mlp.fit(x_train, y_train, batch_size=64, epochs=20, validation_data=(x_validate, y_validate)) # teinando e validando "
      ],
      "execution_count": 37,
      "outputs": [
        {
          "output_type": "stream",
          "name": "stdout",
          "text": [
            "Epoch 1/20\n"
          ]
        },
        {
          "output_type": "stream",
          "name": "stderr",
          "text": [
            "/usr/local/lib/python3.7/dist-packages/keras_metrics/metrics.py:26: UserWarning: `layer.updates` will be removed in a future version. This property should not be used in TensorFlow 2.0, as `updates` are applied automatically.\n",
            "  return object.__getattribute__(self, name)\n"
          ]
        },
        {
          "output_type": "stream",
          "name": "stdout",
          "text": [
            "81/81 [==============================] - 2s 10ms/step - loss: 1.1174 - accuracy: 0.5372 - precision: 0.6692 - recall: 0.2031 - f1_score: 0.2959 - true_negative: 2060.1729 - val_loss: 0.5778 - val_accuracy: 0.7965 - val_precision: 0.8913 - val_recall: 0.5331 - val_f1_score: 0.6663 - val_true_negative: 5173.4390\n",
            "Epoch 2/20\n",
            "81/81 [==============================] - 0s 5ms/step - loss: 0.5607 - accuracy: 0.7669 - precision: 0.9230 - recall: 0.6827 - f1_score: 0.7844 - true_negative: 8257.8516 - val_loss: 0.3677 - val_accuracy: 0.8656 - val_precision: 0.9374 - val_recall: 0.7639 - val_f1_score: 0.8418 - val_true_negative: 11370.9268\n",
            "Epoch 3/20\n",
            "81/81 [==============================] - 0s 4ms/step - loss: 0.3865 - accuracy: 0.8444 - precision: 0.9441 - recall: 0.8110 - f1_score: 0.8724 - true_negative: 14456.1729 - val_loss: 0.2759 - val_accuracy: 0.8901 - val_precision: 0.9497 - val_recall: 0.8426 - val_f1_score: 0.8929 - val_true_negative: 17578.5605\n",
            "Epoch 4/20\n",
            "81/81 [==============================] - 0s 5ms/step - loss: 0.3164 - accuracy: 0.8714 - precision: 0.9537 - recall: 0.8652 - f1_score: 0.9073 - true_negative: 20671.1367 - val_loss: 0.2906 - val_accuracy: 0.8827 - val_precision: 0.9578 - val_recall: 0.8820 - val_f1_score: 0.9183 - val_true_negative: 23801.7324\n",
            "Epoch 5/20\n",
            "81/81 [==============================] - 0s 5ms/step - loss: 0.2819 - accuracy: 0.8844 - precision: 0.9604 - recall: 0.8947 - f1_score: 0.9264 - true_negative: 26896.6289 - val_loss: 0.2215 - val_accuracy: 0.9115 - val_precision: 0.9631 - val_recall: 0.9043 - val_f1_score: 0.9328 - val_true_negative: 30030.3906\n",
            "Epoch 6/20\n",
            "81/81 [==============================] - 0s 5ms/step - loss: 0.2308 - accuracy: 0.9107 - precision: 0.9657 - recall: 0.9127 - f1_score: 0.9384 - true_negative: 33136.6797 - val_loss: 0.1855 - val_accuracy: 0.9282 - val_precision: 0.9679 - val_recall: 0.9198 - val_f1_score: 0.9432 - val_true_negative: 36271.4648\n",
            "Epoch 7/20\n",
            "81/81 [==============================] - 0s 4ms/step - loss: 0.2034 - accuracy: 0.9204 - precision: 0.9695 - recall: 0.9259 - f1_score: 0.9472 - true_negative: 39371.1836 - val_loss: 0.1773 - val_accuracy: 0.9285 - val_precision: 0.9712 - val_recall: 0.9310 - val_f1_score: 0.9507 - val_true_negative: 42511.4648\n",
            "Epoch 8/20\n",
            "81/81 [==============================] - 0s 5ms/step - loss: 0.1913 - accuracy: 0.9289 - precision: 0.9722 - recall: 0.9356 - f1_score: 0.9535 - true_negative: 45616.9883 - val_loss: 0.1674 - val_accuracy: 0.9324 - val_precision: 0.9733 - val_recall: 0.9394 - val_f1_score: 0.9561 - val_true_negative: 48748.4648\n",
            "Epoch 9/20\n",
            "81/81 [==============================] - 0s 4ms/step - loss: 0.1635 - accuracy: 0.9415 - precision: 0.9741 - recall: 0.9428 - f1_score: 0.9582 - true_negative: 51861.1094 - val_loss: 0.1833 - val_accuracy: 0.9231 - val_precision: 0.9751 - val_recall: 0.9460 - val_f1_score: 0.9604 - val_true_negative: 54987.8281\n",
            "Epoch 10/20\n",
            "81/81 [==============================] - 0s 4ms/step - loss: 0.1643 - accuracy: 0.9377 - precision: 0.9758 - recall: 0.9487 - f1_score: 0.9620 - true_negative: 58110.1250 - val_loss: 0.1363 - val_accuracy: 0.9441 - val_precision: 0.9768 - val_recall: 0.9511 - val_f1_score: 0.9638 - val_true_negative: 61230.4375\n",
            "Epoch 11/20\n",
            "81/81 [==============================] - 0s 4ms/step - loss: 0.1487 - accuracy: 0.9429 - precision: 0.9776 - recall: 0.9534 - f1_score: 0.9653 - true_negative: 64332.8008 - val_loss: 0.1454 - val_accuracy: 0.9363 - val_precision: 0.9785 - val_recall: 0.9553 - val_f1_score: 0.9668 - val_true_negative: 67478.4375\n",
            "Epoch 12/20\n",
            "81/81 [==============================] - 0s 4ms/step - loss: 0.1441 - accuracy: 0.9460 - precision: 0.9791 - recall: 0.9571 - f1_score: 0.9680 - true_negative: 70588.1953 - val_loss: 0.1331 - val_accuracy: 0.9480 - val_precision: 0.9798 - val_recall: 0.9588 - val_f1_score: 0.9692 - val_true_negative: 73724.4375\n",
            "Epoch 13/20\n",
            "81/81 [==============================] - 0s 5ms/step - loss: 0.1335 - accuracy: 0.9483 - precision: 0.9804 - recall: 0.9604 - f1_score: 0.9703 - true_negative: 76826.4453 - val_loss: 0.1121 - val_accuracy: 0.9565 - val_precision: 0.9810 - val_recall: 0.9618 - val_f1_score: 0.9713 - val_true_negative: 79974.4844\n",
            "Epoch 14/20\n",
            "81/81 [==============================] - 0s 4ms/step - loss: 0.1261 - accuracy: 0.9538 - precision: 0.9816 - recall: 0.9632 - f1_score: 0.9723 - true_negative: 83075.1875 - val_loss: 0.1772 - val_accuracy: 0.9231 - val_precision: 0.9821 - val_recall: 0.9644 - val_f1_score: 0.9732 - val_true_negative: 86223.6562\n",
            "Epoch 15/20\n",
            "81/81 [==============================] - 0s 4ms/step - loss: 0.1126 - accuracy: 0.9559 - precision: 0.9825 - recall: 0.9655 - f1_score: 0.9739 - true_negative: 89344.3438 - val_loss: 0.1447 - val_accuracy: 0.9375 - val_precision: 0.9830 - val_recall: 0.9665 - val_f1_score: 0.9747 - val_true_negative: 92472.4375\n",
            "Epoch 16/20\n",
            "81/81 [==============================] - 0s 4ms/step - loss: 0.1074 - accuracy: 0.9606 - precision: 0.9834 - recall: 0.9674 - f1_score: 0.9753 - true_negative: 95583.1250 - val_loss: 0.1150 - val_accuracy: 0.9553 - val_precision: 0.9838 - val_recall: 0.9684 - val_f1_score: 0.9760 - val_true_negative: 98721.9297\n",
            "Epoch 17/20\n",
            "81/81 [==============================] - 0s 5ms/step - loss: 0.0977 - accuracy: 0.9631 - precision: 0.9841 - recall: 0.9694 - f1_score: 0.9767 - true_negative: 101817.4219 - val_loss: 0.1132 - val_accuracy: 0.9557 - val_precision: 0.9845 - val_recall: 0.9703 - val_f1_score: 0.9773 - val_true_negative: 104971.1250\n",
            "Epoch 18/20\n",
            "81/81 [==============================] - 0s 5ms/step - loss: 0.0982 - accuracy: 0.9662 - precision: 0.9847 - recall: 0.9711 - f1_score: 0.9779 - true_negative: 108073.3203 - val_loss: 0.1449 - val_accuracy: 0.9402 - val_precision: 0.9851 - val_recall: 0.9718 - val_f1_score: 0.9784 - val_true_negative: 111220.1719\n",
            "Epoch 19/20\n",
            "81/81 [==============================] - 0s 4ms/step - loss: 0.0936 - accuracy: 0.9652 - precision: 0.9854 - recall: 0.9724 - f1_score: 0.9789 - true_negative: 114340.1250 - val_loss: 0.1259 - val_accuracy: 0.9487 - val_precision: 0.9857 - val_recall: 0.9731 - val_f1_score: 0.9793 - val_true_negative: 117469.5859\n",
            "Epoch 20/20\n",
            "81/81 [==============================] - 0s 4ms/step - loss: 0.0869 - accuracy: 0.9685 - precision: 0.9858 - recall: 0.9738 - f1_score: 0.9797 - true_negative: 120576.6641 - val_loss: 0.1017 - val_accuracy: 0.9608 - val_precision: 0.9861 - val_recall: 0.9744 - val_f1_score: 0.9802 - val_true_negative: 123717.4844\n"
          ]
        }
      ]
    },
    {
      "cell_type": "markdown",
      "metadata": {
        "id": "SS_simmq8A4M"
      },
      "source": [
        "Testando o modelo com dataset de teste que equivale 50% do dataset total"
      ]
    },
    {
      "cell_type": "code",
      "metadata": {
        "id": "ZCqSvo7hjXl0",
        "colab": {
          "base_uri": "https://localhost:8080/"
        },
        "outputId": "7ca97786-2b5c-40f5-d783-60a7a4455193"
      },
      "source": [
        "# Testa o treino com todas as classes\n",
        "all_results_mlp = model_mlp.evaluate(x_test, y_test, verbose=1)\n",
        "print_metrics(all_results_mlp)"
      ],
      "execution_count": 38,
      "outputs": [
        {
          "output_type": "stream",
          "name": "stderr",
          "text": [
            "/usr/local/lib/python3.7/dist-packages/keras_metrics/metrics.py:26: UserWarning: `layer.updates` will be removed in a future version. This property should not be used in TensorFlow 2.0, as `updates` are applied automatically.\n",
            "  return object.__getattribute__(self, name)\n"
          ]
        },
        {
          "output_type": "stream",
          "name": "stdout",
          "text": [
            "81/81 [==============================] - 1s 2ms/step - loss: 0.0928 - accuracy: 0.9627 - precision: 0.9863 - recall: 0.9748 - f1_score: 0.9805 - true_negative: 125795.3125\n",
            "Loss: 0.09276573359966278\n",
            "Accuracy: 0.9627184271812439\n",
            "Precision: 0.986291229724884\n",
            "Recall: 0.974826455116272\n",
            "F1 Score: 0.9805253744125366\n",
            "Specificity: 125795.3125\n"
          ]
        }
      ]
    },
    {
      "cell_type": "code",
      "metadata": {
        "colab": {
          "base_uri": "https://localhost:8080/"
        },
        "id": "4ERqhIRbBBuq",
        "outputId": "da575fe4-2c8c-4852-98f9-b82b8a186253"
      },
      "source": [
        "# Testa o treino apenas com a classe LAYING\n",
        "laying_results_mlp = model_mlp.evaluate(x_test_laying, y_test_laying, verbose=1)\n",
        "print_metrics(laying_results_mlp)"
      ],
      "execution_count": 39,
      "outputs": [
        {
          "output_type": "stream",
          "name": "stdout",
          "text": [
            "15/15 [==============================] - 0s 3ms/step - loss: 0.4576 - accuracy: 0.8761 - precision: 0.9865 - recall: 0.9741 - f1_score: 0.9803 - true_negative: 126818.0000\n",
            "Loss: 0.4576440155506134\n",
            "Accuracy: 0.8760504126548767\n",
            "Precision: 0.9865047335624695\n",
            "Recall: 0.9741455912590027\n",
            "F1 Score: 0.9802860021591187\n",
            "Specificity: 126818.0\n"
          ]
        }
      ]
    },
    {
      "cell_type": "code",
      "metadata": {
        "colab": {
          "base_uri": "https://localhost:8080/",
          "height": 281
        },
        "id": "HrE8In3KVtr9",
        "outputId": "730f20cd-0e0e-4a38-9ae8-519818239d78"
      },
      "source": [
        "plot_loss(history_mlp, 20)"
      ],
      "execution_count": 40,
      "outputs": [
        {
          "output_type": "display_data",
          "data": {
            "image/png": "[encoded data removed]",
            "text/plain": [
              "<Figure size 432x288 with 1 Axes>"
            ]
          },
          "metadata": {
            "needs_background": "light"
          }
        }
      ]
    },
    {
      "cell_type": "markdown",
      "metadata": {
        "id": "qJRL8rJmkJaU"
      },
      "source": [
        "# Convolutional Neural Network (CNN)\n",
        "Uma **Artificial Neural Network (ANN)** é uma série de algoritmos que se esforçam para reconhecer relacionamentos subjacentes em um conjunto de dados, por meio de um processo que imita a maneira como o cérebro humano opera. As **ANN** podem se adaptar a mudanças de entrada para que a rede gere o melhor resultado possível sem a necessidade de redesenhar os critérios de saída.\n",
        "\n",
        "As **Convolutional Neural Network (CNN)** são um tipo especializado de ANN que usam convolução no lugar da multiplicação geral da matriz em pelo menos uma de suas camadas."
      ]
    },
    {
      "cell_type": "code",
      "metadata": {
        "id": "7yD15rTtkP3G",
        "colab": {
          "base_uri": "https://localhost:8080/"
        },
        "outputId": "f715de4f-8cf8-4d70-a120-0d7d9816ff67"
      },
      "source": [
        "n_timesteps, n_features, n_outputs = x_train.shape[0], x_train.shape[1], y_train.shape[0]\n",
        "\n",
        "# Adicionando mais uma dimensão a x, para ficarem 3, como é pedido no Conv1D\n",
        "x_train_cnn = x_train[..., None]\n",
        "x_validate_cnn = x_validate[..., None]\n",
        "\n",
        "model_cnn = Sequential()\n",
        "model_cnn.add(Conv1D(filters=64, kernel_size=2, activation='relu', input_shape=x_train_cnn.shape[1:]))\n",
        "model_cnn.add(Dropout(0.2))\n",
        "model_cnn.add(Conv1D(filters=64, kernel_size=2, activation='relu'))\n",
        "model_cnn.add(Dropout(0.2))\n",
        "model_cnn.add(MaxPooling1D(pool_size=2))\n",
        "model_cnn.add(Dropout(0.2))\n",
        "model_cnn.add(Flatten())\n",
        "model_cnn.add(Dense(10, activation='softmax'))\n",
        "\n",
        "model_cnn.compile(optimizer='adam', loss='sparse_categorical_crossentropy', metrics=['accuracy',\n",
        "                                                                                     keras_metrics.sparse_categorical_precision(), \n",
        "                                                                                     keras_metrics.sparse_categorical_recall(), \n",
        "                                                                                     keras_metrics.sparse_categorical_f1_score(), \n",
        "                                                                                     keras_metrics.sparse_categorical_true_negative()])\n",
        "history_cnn = model_cnn.fit(x_train_cnn, y_train, batch_size=64, epochs=20, validation_data=(x_validate_cnn, y_validate))"
      ],
      "execution_count": 80,
      "outputs": [
        {
          "output_type": "stream",
          "name": "stdout",
          "text": [
            "Epoch 1/20\n"
          ]
        },
        {
          "output_type": "stream",
          "name": "stderr",
          "text": [
            "/usr/local/lib/python3.7/dist-packages/keras_metrics/metrics.py:26: UserWarning: `layer.updates` will be removed in a future version. This property should not be used in TensorFlow 2.0, as `updates` are applied automatically.\n",
            "  return object.__getattribute__(self, name)\n"
          ]
        },
        {
          "output_type": "stream",
          "name": "stdout",
          "text": [
            "81/81 [==============================] - 17s 196ms/step - loss: 0.7584 - accuracy: 0.6838 - precision: 0.7793 - recall: 0.3835 - f1_score: 0.4934 - true_negative: 2101.0247 - val_loss: 0.3248 - val_accuracy: 0.8940 - val_precision: 0.9871 - val_recall: 0.7520 - val_f1_score: 0.8534 - val_true_negative: 5240.6343\n",
            "Epoch 2/20\n",
            "81/81 [==============================] - 16s 194ms/step - loss: 0.2337 - accuracy: 0.9085 - precision: 0.9878 - recall: 0.8411 - f1_score: 0.9084 - true_negative: 8347.4199 - val_loss: 0.2271 - val_accuracy: 0.9049 - val_precision: 0.9900 - val_recall: 0.8836 - val_f1_score: 0.9338 - val_true_negative: 11484.8291\n",
            "Epoch 3/20\n",
            "81/81 [==============================] - 15s 187ms/step - loss: 0.1554 - accuracy: 0.9398 - precision: 0.9919 - recall: 0.9072 - f1_score: 0.9477 - true_negative: 14605.4199 - val_loss: 0.1438 - val_accuracy: 0.9441 - val_precision: 0.9933 - val_recall: 0.9238 - val_f1_score: 0.9573 - val_true_negative: 17738.8301\n",
            "Epoch 4/20\n",
            "81/81 [==============================] - 16s 195ms/step - loss: 0.1145 - accuracy: 0.9571 - precision: 0.9941 - recall: 0.9351 - f1_score: 0.9637 - true_negative: 20850.4688 - val_loss: 0.1315 - val_accuracy: 0.9483 - val_precision: 0.9947 - val_recall: 0.9435 - val_f1_score: 0.9684 - val_true_negative: 23992.5117\n",
            "Epoch 5/20\n",
            "81/81 [==============================] - 16s 196ms/step - loss: 0.0917 - accuracy: 0.9666 - precision: 0.9951 - recall: 0.9499 - f1_score: 0.9720 - true_negative: 27109.6660 - val_loss: 0.1510 - val_accuracy: 0.9460 - val_precision: 0.9956 - val_recall: 0.9549 - val_f1_score: 0.9748 - val_true_negative: 30246.8301\n",
            "Epoch 6/20\n",
            "81/81 [==============================] - 16s 196ms/step - loss: 0.0800 - accuracy: 0.9705 - precision: 0.9960 - recall: 0.9590 - f1_score: 0.9772 - true_negative: 33373.3945 - val_loss: 0.1205 - val_accuracy: 0.9600 - val_precision: 0.9964 - val_recall: 0.9624 - val_f1_score: 0.9791 - val_true_negative: 36502.8281\n",
            "Epoch 7/20\n",
            "81/81 [==============================] - 16s 193ms/step - loss: 0.0838 - accuracy: 0.9662 - precision: 0.9965 - recall: 0.9652 - f1_score: 0.9806 - true_negative: 39615.3086 - val_loss: 0.0932 - val_accuracy: 0.9662 - val_precision: 0.9966 - val_recall: 0.9676 - val_f1_score: 0.9819 - val_true_negative: 42755.8281\n",
            "Epoch 8/20\n",
            "81/81 [==============================] - 15s 191ms/step - loss: 0.0648 - accuracy: 0.9742 - precision: 0.9968 - recall: 0.9697 - f1_score: 0.9831 - true_negative: 45885.0977 - val_loss: 0.0844 - val_accuracy: 0.9701 - val_precision: 0.9971 - val_recall: 0.9717 - val_f1_score: 0.9842 - val_true_negative: 49011.8281\n",
            "Epoch 9/20\n",
            "81/81 [==============================] - 16s 192ms/step - loss: 0.0644 - accuracy: 0.9720 - precision: 0.9972 - recall: 0.9734 - f1_score: 0.9852 - true_negative: 52134.9258 - val_loss: 0.1148 - val_accuracy: 0.9604 - val_precision: 0.9974 - val_recall: 0.9749 - val_f1_score: 0.9860 - val_true_negative: 55267.5352\n",
            "Epoch 10/20\n",
            "81/81 [==============================] - 15s 184ms/step - loss: 0.0547 - accuracy: 0.9796 - precision: 0.9975 - recall: 0.9762 - f1_score: 0.9867 - true_negative: 58377.6055 - val_loss: 0.1140 - val_accuracy: 0.9584 - val_precision: 0.9976 - val_recall: 0.9774 - val_f1_score: 0.9874 - val_true_negative: 61522.8281\n",
            "Epoch 11/20\n",
            "81/81 [==============================] - 15s 190ms/step - loss: 0.0573 - accuracy: 0.9782 - precision: 0.9977 - recall: 0.9785 - f1_score: 0.9880 - true_negative: 64630.3828 - val_loss: 0.0948 - val_accuracy: 0.9685 - val_precision: 0.9978 - val_recall: 0.9795 - val_f1_score: 0.9886 - val_true_negative: 67778.5391\n",
            "Epoch 12/20\n",
            "81/81 [==============================] - 16s 192ms/step - loss: 0.0502 - accuracy: 0.9815 - precision: 0.9979 - recall: 0.9804 - f1_score: 0.9891 - true_negative: 70892.1875 - val_loss: 0.1041 - val_accuracy: 0.9639 - val_precision: 0.9979 - val_recall: 0.9812 - val_f1_score: 0.9895 - val_true_negative: 74033.5391\n",
            "Epoch 13/20\n",
            "81/81 [==============================] - 16s 200ms/step - loss: 0.0537 - accuracy: 0.9804 - precision: 0.9980 - recall: 0.9820 - f1_score: 0.9899 - true_negative: 77147.3438 - val_loss: 0.0929 - val_accuracy: 0.9705 - val_precision: 0.9981 - val_recall: 0.9827 - val_f1_score: 0.9903 - val_true_negative: 80288.8281\n",
            "Epoch 14/20\n",
            "81/81 [==============================] - 16s 197ms/step - loss: 0.0482 - accuracy: 0.9831 - precision: 0.9981 - recall: 0.9833 - f1_score: 0.9907 - true_negative: 83411.3984 - val_loss: 0.0904 - val_accuracy: 0.9701 - val_precision: 0.9982 - val_recall: 0.9839 - val_f1_score: 0.9910 - val_true_negative: 86544.8281\n",
            "Epoch 15/20\n",
            "81/81 [==============================] - 16s 198ms/step - loss: 0.0508 - accuracy: 0.9827 - precision: 0.9983 - recall: 0.9845 - f1_score: 0.9913 - true_negative: 89676.0469 - val_loss: 0.1308 - val_accuracy: 0.9507 - val_precision: 0.9983 - val_recall: 0.9850 - val_f1_score: 0.9916 - val_true_negative: 92800.5391\n",
            "Epoch 16/20\n",
            "81/81 [==============================] - 16s 192ms/step - loss: 0.0405 - accuracy: 0.9868 - precision: 0.9983 - recall: 0.9855 - f1_score: 0.9919 - true_negative: 95909.4688 - val_loss: 0.1061 - val_accuracy: 0.9650 - val_precision: 0.9984 - val_recall: 0.9859 - val_f1_score: 0.9921 - val_true_negative: 99055.8281\n",
            "Epoch 17/20\n",
            "81/81 [==============================] - 15s 188ms/step - loss: 0.0545 - accuracy: 0.9810 - precision: 0.9984 - recall: 0.9864 - f1_score: 0.9924 - true_negative: 102168.4922 - val_loss: 0.0953 - val_accuracy: 0.9678 - val_precision: 0.9985 - val_recall: 0.9868 - val_f1_score: 0.9926 - val_true_negative: 105311.5391\n",
            "Epoch 18/20\n",
            "81/81 [==============================] - 15s 187ms/step - loss: 0.0444 - accuracy: 0.9841 - precision: 0.9985 - recall: 0.9872 - f1_score: 0.9928 - true_negative: 108430.8672 - val_loss: 0.0940 - val_accuracy: 0.9647 - val_precision: 0.9985 - val_recall: 0.9875 - val_f1_score: 0.9930 - val_true_negative: 111566.8281\n",
            "Epoch 19/20\n",
            "81/81 [==============================] - 15s 185ms/step - loss: 0.0390 - accuracy: 0.9864 - precision: 0.9986 - recall: 0.9879 - f1_score: 0.9932 - true_negative: 114689.4922 - val_loss: 0.0981 - val_accuracy: 0.9666 - val_precision: 0.9986 - val_recall: 0.9882 - val_f1_score: 0.9934 - val_true_negative: 117822.5391\n",
            "Epoch 20/20\n",
            "81/81 [==============================] - 16s 193ms/step - loss: 0.0356 - accuracy: 0.9880 - precision: 0.9986 - recall: 0.9885 - f1_score: 0.9935 - true_negative: 120939.1953 - val_loss: 0.0801 - val_accuracy: 0.9740 - val_precision: 0.9986 - val_recall: 0.9888 - val_f1_score: 0.9937 - val_true_negative: 124077.8281\n"
          ]
        }
      ]
    },
    {
      "cell_type": "code",
      "metadata": {
        "id": "tpZqaAIrt1pc",
        "colab": {
          "base_uri": "https://localhost:8080/"
        },
        "outputId": "b9c0e668-97cb-40b6-feea-a79009029f9f"
      },
      "source": [
        "# Testando o model após treinamento\n",
        "x_test_cnn = x_test[..., None]\n",
        "all_results_cnn = model_cnn.evaluate(x_test, y_test, verbose=1)\n",
        "print_metrics(all_results_cnn)"
      ],
      "execution_count": 81,
      "outputs": [
        {
          "output_type": "stream",
          "name": "stderr",
          "text": [
            "/usr/local/lib/python3.7/dist-packages/keras_metrics/metrics.py:26: UserWarning: `layer.updates` will be removed in a future version. This property should not be used in TensorFlow 2.0, as `updates` are applied automatically.\n",
            "  return object.__getattribute__(self, name)\n"
          ]
        },
        {
          "output_type": "stream",
          "name": "stdout",
          "text": [
            "81/81 [==============================] - 2s 22ms/step - loss: 0.0656 - accuracy: 0.9748 - precision: 0.9987 - recall: 0.9890 - f1_score: 0.9938 - true_negative: 126157.3125\n",
            "Loss: 0.0656018778681755\n",
            "Accuracy: 0.9747572541236877\n",
            "Precision: 0.9986695647239685\n",
            "Recall: 0.9889505505561829\n",
            "F1 Score: 0.9937862157821655\n",
            "Specificity: 126157.3125\n"
          ]
        }
      ]
    },
    {
      "cell_type": "code",
      "metadata": {
        "id": "Exw1CpM3pfcg",
        "colab": {
          "base_uri": "https://localhost:8080/"
        },
        "outputId": "6fca3b3d-f6b5-424f-8256-abf413acf96e"
      },
      "source": [
        "# Testa o treino apenas com a classe LAYING\n",
        "laying_results_cnn = model_cnn.evaluate(x_test_laying, y_test_laying, verbose=1)\n",
        "print_metrics(laying_results_cnn)"
      ],
      "execution_count": 82,
      "outputs": [
        {
          "output_type": "stream",
          "name": "stdout",
          "text": [
            "15/15 [==============================] - 0s 19ms/step - loss: 0.5002 - accuracy: 0.9160 - precision: 0.9987 - recall: 0.9885 - f1_score: 0.9935 - true_negative: 127180.0000\n",
            "Loss: 0.5001770853996277\n",
            "Accuracy: 0.9159663915634155\n",
            "Precision: 0.9986905455589294\n",
            "Recall: 0.9884522557258606\n",
            "F1 Score: 0.9935449361801147\n",
            "Specificity: 127180.0\n"
          ]
        }
      ]
    },
    {
      "cell_type": "code",
      "metadata": {
        "colab": {
          "base_uri": "https://localhost:8080/",
          "height": 281
        },
        "id": "ZCpq1gA7Wj0M",
        "outputId": "55f3e0e4-eee6-43bb-c94d-3079552e258e"
      },
      "source": [
        "plot_loss(history_cnn, 20)"
      ],
      "execution_count": 83,
      "outputs": [
        {
          "output_type": "display_data",
          "data": {
            "image/png": "[encoded data removed]",
            "text/plain": [
              "<Figure size 432x288 with 1 Axes>"
            ]
          },
          "metadata": {
            "needs_background": "light"
          }
        }
      ]
    },
    {
      "cell_type": "markdown",
      "metadata": {
        "id": "qcBUtkdcBNfY"
      },
      "source": [
        "# Recurrent Neural Network (RNN)\n",
        "\n",
        "**Recurrent Neural Network (RNN)** tem uma conexão recorrente no *hidden state*. Essa restrição de loop garante que as informações sequenciais sejam capturadas nos dados de entrada."
      ]
    },
    {
      "cell_type": "code",
      "metadata": {
        "colab": {
          "base_uri": "https://localhost:8080/"
        },
        "id": "fJpQMVqfPWlw",
        "outputId": "53aa0ca4-a081-470d-9462-de78d5c7a25e"
      },
      "source": [
        "x_train_rnn = x_train[..., None]\n",
        "x_validate_rnn = x_validate[..., None]\n",
        "\n",
        "model_rnn2 = keras.models.Sequential()\n",
        "model_rnn2.add(keras.Input(shape=x_train_rnn.shape[1:])) \n",
        "model_rnn2.add(layers.SimpleRNN(128, return_sequences=True, activation='relu'))\n",
        "model_rnn2.add(Dropout(0.2))\n",
        "model_rnn2.add(Flatten())\n",
        "model_rnn2.add(layers.Dense(10))\n",
        "\n",
        "model_rnn2.summary()"
      ],
      "execution_count": 70,
      "outputs": [
        {
          "output_type": "stream",
          "name": "stdout",
          "text": [
            "Model: \"sequential_8\"\n",
            "_________________________________________________________________\n",
            " Layer (type)                Output Shape              Param #   \n",
            "=================================================================\n",
            " simple_rnn_3 (SimpleRNN)    (None, 561, 128)          16640     \n",
            "                                                                 \n",
            " dropout_10 (Dropout)        (None, 561, 128)          0         \n",
            "                                                                 \n",
            " flatten_5 (Flatten)         (None, 71808)             0         \n",
            "                                                                 \n",
            " dense_13 (Dense)            (None, 10)                718090    \n",
            "                                                                 \n",
            "=================================================================\n",
            "Total params: 734,730\n",
            "Trainable params: 734,730\n",
            "Non-trainable params: 0\n",
            "_________________________________________________________________\n"
          ]
        }
      ]
    },
    {
      "cell_type": "code",
      "metadata": {
        "id": "m13sO2U6Jn74",
        "colab": {
          "base_uri": "https://localhost:8080/"
        },
        "outputId": "9662084a-498a-482b-b68f-6ff88f31b873"
      },
      "source": [
        "loss = keras.losses.SparseCategoricalCrossentropy(from_logits=True)\n",
        "optim = keras.optimizers.Adam(lr=0.001)\n",
        "metrics = [\"accuracy\", \n",
        "            keras_metrics.sparse_categorical_precision(), \n",
        "            keras_metrics.sparse_categorical_recall(), \n",
        "            keras_metrics.sparse_categorical_f1_score(), \n",
        "            keras_metrics.sparse_categorical_true_negative()]\n",
        "\n",
        "model_rnn2.compile(loss=loss, optimizer=optim, metrics=metrics)"
      ],
      "execution_count": 71,
      "outputs": [
        {
          "output_type": "stream",
          "name": "stderr",
          "text": [
            "/usr/local/lib/python3.7/dist-packages/keras/optimizer_v2/adam.py:105: UserWarning: The `lr` argument is deprecated, use `learning_rate` instead.\n",
            "  super(Adam, self).__init__(name, **kwargs)\n"
          ]
        }
      ]
    },
    {
      "cell_type": "code",
      "metadata": {
        "id": "Tav3miXhJuYX",
        "colab": {
          "base_uri": "https://localhost:8080/"
        },
        "outputId": "0e625164-c3ac-4492-abf7-66df973cb723"
      },
      "source": [
        "history_rnn2 = model_rnn2.fit(\n",
        "    x_train_rnn, y_train, validation_data=(x_validate_rnn, y_validate), batch_size=64, epochs=10\n",
        ")"
      ],
      "execution_count": 72,
      "outputs": [
        {
          "output_type": "stream",
          "name": "stdout",
          "text": [
            "Epoch 1/10\n"
          ]
        },
        {
          "output_type": "stream",
          "name": "stderr",
          "text": [
            "/usr/local/lib/python3.7/dist-packages/keras_metrics/metrics.py:26: UserWarning: `layer.updates` will be removed in a future version. This property should not be used in TensorFlow 2.0, as `updates` are applied automatically.\n",
            "  return object.__getattribute__(self, name)\n"
          ]
        },
        {
          "output_type": "stream",
          "name": "stdout",
          "text": [
            "81/81 [==============================] - 31s 366ms/step - loss: 0.4413 - accuracy: 0.8151 - precision: 1.7036 - recall: 5.8937 - f1_score: 2.5688 - true_negative: 3842.1604 - val_loss: 0.1874 - val_accuracy: 0.9212 - val_precision: 19.1559 - val_recall: 9.2248 - val_f1_score: 11.6018 - val_true_negative: 15940.1709\n",
            "Epoch 2/10\n",
            "81/81 [==============================] - 28s 351ms/step - loss: 0.1197 - accuracy: 0.9559 - precision: 27.6971 - recall: 10.6286 - f1_score: -28.5315 - true_negative: 30207.6055 - val_loss: 0.1051 - val_accuracy: 0.9604 - val_precision: -5.2462 - val_recall: 11.3813 - val_f1_score: -21.1233 - val_true_negative: 48471.9023\n",
            "Epoch 3/10\n",
            "81/81 [==============================] - 30s 365ms/step - loss: 0.0826 - accuracy: 0.9676 - precision: -3.6926 - recall: 11.9123 - f1_score: -10.7655 - true_negative: 67148.7656 - val_loss: 0.2268 - val_accuracy: 0.9181 - val_precision: -2.6084 - val_recall: 12.3456 - val_f1_score: -6.6278 - val_true_negative: 89229.9062\n",
            "Epoch 4/10\n",
            "81/81 [==============================] - 29s 357ms/step - loss: 0.0684 - accuracy: 0.9767 - precision: -2.3320 - recall: 12.6612 - f1_score: -5.7173 - true_negative: 109906.8672 - val_loss: 0.0808 - val_accuracy: 0.9670 - val_precision: -2.2488 - val_recall: 13.0233 - val_f1_score: -5.4378 - val_true_negative: 130258.5625\n",
            "Epoch 5/10\n",
            "81/81 [==============================] - 29s 359ms/step - loss: 0.0452 - accuracy: 0.9845 - precision: -2.1382 - recall: 13.4553 - f1_score: -5.0849 - true_negative: 153414.2812 - val_loss: 0.0763 - val_accuracy: 0.9744 - val_precision: -1.9111 - val_recall: 13.7664 - val_f1_score: -4.4405 - val_true_negative: 179570.0312\n",
            "Epoch 6/10\n",
            "81/81 [==============================] - 30s 366ms/step - loss: 0.0370 - accuracy: 0.9862 - precision: -1.7863 - recall: 13.9785 - f1_score: -4.0963 - true_negative: 204771.1562 - val_loss: 0.0710 - val_accuracy: 0.9724 - val_precision: -1.7325 - val_recall: 14.2356 - val_f1_score: -3.9452 - val_true_negative: 229164.8281\n",
            "Epoch 7/10\n",
            "81/81 [==============================] - 30s 366ms/step - loss: 0.0662 - accuracy: 0.9751 - precision: -1.6431 - recall: 14.3197 - f1_score: -3.7134 - true_negative: 254729.7031 - val_loss: 0.0808 - val_accuracy: 0.9701 - val_precision: -1.4603 - val_recall: 14.2384 - val_f1_score: -3.2546 - val_true_negative: 283885.3438\n",
            "Epoch 8/10\n",
            "81/81 [==============================] - 29s 356ms/step - loss: 0.0509 - accuracy: 0.9802 - precision: -1.3625 - recall: 14.2747 - f1_score: -3.0125 - true_negative: 312983.6250 - val_loss: 0.0964 - val_accuracy: 0.9623 - val_precision: -1.3127 - val_recall: 14.4177 - val_f1_score: -2.8883 - val_true_negative: 341585.2188\n",
            "Epoch 9/10\n",
            "81/81 [==============================] - 28s 353ms/step - loss: 0.0255 - accuracy: 0.9905 - precision: -1.2611 - recall: 14.5688 - f1_score: -2.7612 - true_negative: 372297.7188 - val_loss: 0.0833 - val_accuracy: 0.9728 - val_precision: -1.2249 - val_recall: 14.8102 - val_f1_score: -2.6708 - val_true_negative: 404602.0000\n",
            "Epoch 10/10\n",
            "81/81 [==============================] - 30s 365ms/step - loss: 0.0362 - accuracy: 0.9856 - precision: -1.1967 - recall: 15.0194 - f1_score: -2.6006 - true_negative: 436609.0000 - val_loss: 0.2062 - val_accuracy: 0.9278 - val_precision: -1.1419 - val_recall: 15.0844 - val_f1_score: -2.4709 - val_true_negative: 470502.7188\n"
          ]
        }
      ]
    },
    {
      "cell_type": "code",
      "metadata": {
        "id": "EoBTjecAVhia",
        "colab": {
          "base_uri": "https://localhost:8080/"
        },
        "outputId": "9234f901-8492-47bf-b989-21d15a724aac"
      },
      "source": [
        "all_results_rnn = model_rnn2.evaluate(x_test, y_test, batch_size=64, verbose=2)\n",
        "print_metrics(all_results_rnn)"
      ],
      "execution_count": 73,
      "outputs": [
        {
          "output_type": "stream",
          "name": "stderr",
          "text": [
            "/usr/local/lib/python3.7/dist-packages/keras_metrics/metrics.py:26: UserWarning: `layer.updates` will be removed in a future version. This property should not be used in TensorFlow 2.0, as `updates` are applied automatically.\n",
            "  return object.__getattribute__(self, name)\n"
          ]
        },
        {
          "output_type": "stream",
          "name": "stdout",
          "text": [
            "41/41 - 4s - loss: 0.1694 - accuracy: 0.9437 - precision: -1.0925e+00 - recall: 15.1018 - f1_score: -2.3553e+00 - true_negative: 495325.0312 - 4s/epoch - 109ms/step\n",
            "Loss: 0.1694183200597763\n",
            "Accuracy: 0.9436893463134766\n",
            "Precision: -1.0924532413482666\n",
            "Recall: 15.10184097290039\n",
            "F1 Score: -2.3553123474121094\n",
            "Specificity: 495325.03125\n"
          ]
        }
      ]
    },
    {
      "cell_type": "code",
      "metadata": {
        "id": "yVUWa6D4q-4Y",
        "colab": {
          "base_uri": "https://localhost:8080/"
        },
        "outputId": "b26b6596-1176-46c7-9334-841e84bbf480"
      },
      "source": [
        "# Testa o treino apenas com a classe LAYING\n",
        "laying_results_rnn = model_rnn2.evaluate(x_test_laying, y_test_laying, verbose=1)\n",
        "print_metrics(laying_results_rnn)"
      ],
      "execution_count": 74,
      "outputs": [
        {
          "output_type": "stream",
          "name": "stdout",
          "text": [
            "15/15 [==============================] - 1s 60ms/step - loss: 0.9207 - accuracy: 0.7794 - precision: -1.1003 - recall: 15.0308 - f1_score: -2.3744 - true_negative: 506858.0000\n",
            "Loss: 0.9207347631454468\n",
            "Accuracy: 0.779411792755127\n",
            "Precision: -1.1002615690231323\n",
            "Recall: 15.030759811401367\n",
            "F1 Score: -2.374375820159912\n",
            "Specificity: 506858.0\n"
          ]
        }
      ]
    },
    {
      "cell_type": "code",
      "metadata": {
        "colab": {
          "base_uri": "https://localhost:8080/",
          "height": 281
        },
        "id": "bArtfDGEZTqF",
        "outputId": "97625a74-c5d9-4550-9da1-35d7f1612b9b"
      },
      "source": [
        "plot_loss(history_rnn2, 10)"
      ],
      "execution_count": 75,
      "outputs": [
        {
          "output_type": "display_data",
          "data": {
            "image/png": "[encoded data removed]",
            "text/plain": [
              "<Figure size 432x288 with 1 Axes>"
            ]
          },
          "metadata": {
            "needs_background": "light"
          }
        }
      ]
    },
    {
      "cell_type": "markdown",
      "metadata": {
        "id": "jEtTk01aGzlo"
      },
      "source": [
        "# Modelo Híbrido\n",
        "Criando modelo híbrido"
      ]
    },
    {
      "cell_type": "code",
      "metadata": {
        "id": "Z8UCRcOOG34C",
        "colab": {
          "base_uri": "https://localhost:8080/"
        },
        "outputId": "1e7ec21b-3396-4396-f7f4-4b0e1a9e9263"
      },
      "source": [
        "x_train = x_train[..., None]\n",
        "x_validate = x_validate[..., None]\n",
        "\n",
        "model_hyb = Sequential()\n",
        "# Model RNN\n",
        "model_hyb.add(keras.Input(shape=x_train_rnn.shape[1:])) \n",
        "model_hyb.add(layers.SimpleRNN(128, return_sequences=True, activation='relu'))\n",
        "# Model CNN\n",
        "model_hyb.add(Conv1D(filters=64, kernel_size=2, activation='relu'))\n",
        "model_hyb.add(Dropout(0.2))\n",
        "model_hyb.add(Conv1D(filters=64, kernel_size=2, activation='relu'))\n",
        "model_hyb.add(Dropout(0.2))\n",
        "model_hyb.add(MaxPooling1D(pool_size=2))\n",
        "model_hyb.add(Dropout(0.2))\n",
        "model_hyb.add(Flatten())\n",
        "# Model MLP\n",
        "model_hyb.add(Dense(64, activation='relu')) # Layer 1\n",
        "model_hyb.add(Dropout(0.2))\n",
        "model_hyb.add(Dense(64, activation='relu')) # Layer 2\n",
        "model_hyb.add(Dropout(0.2))\n",
        "model_hyb.add(Dense(10, activation='softmax'))\n",
        "\n",
        "model_hyb.summary()"
      ],
      "execution_count": 84,
      "outputs": [
        {
          "output_type": "stream",
          "name": "stdout",
          "text": [
            "Model: \"sequential_11\"\n",
            "_________________________________________________________________\n",
            " Layer (type)                Output Shape              Param #   \n",
            "=================================================================\n",
            " simple_rnn_4 (SimpleRNN)    (None, 561, 128)          16640     \n",
            "                                                                 \n",
            " conv1d_11 (Conv1D)          (None, 560, 64)           16448     \n",
            "                                                                 \n",
            " dropout_17 (Dropout)        (None, 560, 64)           0         \n",
            "                                                                 \n",
            " conv1d_12 (Conv1D)          (None, 559, 64)           8256      \n",
            "                                                                 \n",
            " dropout_18 (Dropout)        (None, 559, 64)           0         \n",
            "                                                                 \n",
            " max_pooling1d_5 (MaxPooling  (None, 279, 64)          0         \n",
            " 1D)                                                             \n",
            "                                                                 \n",
            " dropout_19 (Dropout)        (None, 279, 64)           0         \n",
            "                                                                 \n",
            " flatten_8 (Flatten)         (None, 17856)             0         \n",
            "                                                                 \n",
            " dense_16 (Dense)            (None, 64)                1142848   \n",
            "                                                                 \n",
            " dropout_20 (Dropout)        (None, 64)                0         \n",
            "                                                                 \n",
            " dense_17 (Dense)            (None, 64)                4160      \n",
            "                                                                 \n",
            " dropout_21 (Dropout)        (None, 64)                0         \n",
            "                                                                 \n",
            " dense_18 (Dense)            (None, 10)                650       \n",
            "                                                                 \n",
            "=================================================================\n",
            "Total params: 1,189,002\n",
            "Trainable params: 1,189,002\n",
            "Non-trainable params: 0\n",
            "_________________________________________________________________\n"
          ]
        }
      ]
    },
    {
      "cell_type": "code",
      "metadata": {
        "id": "zoXcRTZd-PPG",
        "colab": {
          "base_uri": "https://localhost:8080/"
        },
        "outputId": "4e7aff2b-5023-4e41-e1a7-40ccc2a68b83"
      },
      "source": [
        "model_hyb.compile(optimizer='adam', loss='sparse_categorical_crossentropy', metrics=['accuracy',\n",
        "                                                                                      keras_metrics.sparse_categorical_precision(), \n",
        "                                                                                      keras_metrics.sparse_categorical_recall(), \n",
        "                                                                                      keras_metrics.sparse_categorical_f1_score(), \n",
        "                                                                                      keras_metrics.sparse_categorical_true_negative()])\n",
        "history = model_hyb.fit(x_train, y_train, batch_size=64, epochs=20, validation_data=(x_validate, y_validate))"
      ],
      "execution_count": 85,
      "outputs": [
        {
          "output_type": "stream",
          "name": "stdout",
          "text": [
            "Epoch 1/20\n"
          ]
        },
        {
          "output_type": "stream",
          "name": "stderr",
          "text": [
            "/usr/local/lib/python3.7/dist-packages/keras_metrics/metrics.py:26: UserWarning: `layer.updates` will be removed in a future version. This property should not be used in TensorFlow 2.0, as `updates` are applied automatically.\n",
            "  return object.__getattribute__(self, name)\n"
          ]
        },
        {
          "output_type": "stream",
          "name": "stdout",
          "text": [
            "81/81 [==============================] - 49s 580ms/step - loss: 0.9893 - accuracy: 0.5622 - precision: 0.6027 - recall: 0.3588 - f1_score: 0.4400 - true_negative: 2039.0247 - val_loss: 0.2999 - val_accuracy: 0.8854 - val_precision: 0.8873 - val_recall: 0.7263 - val_f1_score: 0.7986 - val_true_negative: 5140.0977\n",
            "Epoch 2/20\n",
            "81/81 [==============================] - 46s 571ms/step - loss: 0.3309 - accuracy: 0.8670 - precision: 0.9265 - recall: 0.8242 - f1_score: 0.8723 - true_negative: 8236.7900 - val_loss: 0.1661 - val_accuracy: 0.9301 - val_precision: 0.9475 - val_recall: 0.8717 - val_f1_score: 0.9080 - val_true_negative: 11378.4395\n",
            "Epoch 3/20\n",
            "81/81 [==============================] - 44s 549ms/step - loss: 0.1903 - accuracy: 0.9229 - precision: 0.9575 - recall: 0.8979 - f1_score: 0.9267 - true_negative: 14476.9873 - val_loss: 0.1450 - val_accuracy: 0.9367 - val_precision: 0.9646 - val_recall: 0.9148 - val_f1_score: 0.9391 - val_true_negative: 17624.8789\n",
            "Epoch 4/20\n",
            "81/81 [==============================] - 48s 587ms/step - loss: 0.1564 - accuracy: 0.9400 - precision: 0.9689 - recall: 0.9267 - f1_score: 0.9473 - true_negative: 20737.9375 - val_loss: 0.1212 - val_accuracy: 0.9538 - val_precision: 0.9729 - val_recall: 0.9360 - val_f1_score: 0.9541 - val_true_negative: 23873.7812\n",
            "Epoch 5/20\n",
            "81/81 [==============================] - 47s 576ms/step - loss: 0.1268 - accuracy: 0.9516 - precision: 0.9758 - recall: 0.9429 - f1_score: 0.9591 - true_negative: 26985.5059 - val_loss: 0.1305 - val_accuracy: 0.9480 - val_precision: 0.9782 - val_recall: 0.9482 - val_f1_score: 0.9630 - val_true_negative: 30126.8301\n",
            "Epoch 6/20\n",
            "81/81 [==============================] - 48s 597ms/step - loss: 0.1075 - accuracy: 0.9602 - precision: 0.9802 - recall: 0.9527 - f1_score: 0.9663 - true_negative: 33243.4570 - val_loss: 0.1013 - val_accuracy: 0.9584 - val_precision: 0.9819 - val_recall: 0.9566 - val_f1_score: 0.9691 - val_true_negative: 36381.1445\n",
            "Epoch 7/20\n",
            "81/81 [==============================] - 46s 575ms/step - loss: 0.0943 - accuracy: 0.9654 - precision: 0.9829 - recall: 0.9600 - f1_score: 0.9713 - true_negative: 39480.4062 - val_loss: 0.0760 - val_accuracy: 0.9717 - val_precision: 0.9840 - val_recall: 0.9629 - val_f1_score: 0.9733 - val_true_negative: 42631.8281\n",
            "Epoch 8/20\n",
            "81/81 [==============================] - 47s 577ms/step - loss: 0.0980 - accuracy: 0.9648 - precision: 0.9850 - recall: 0.9651 - f1_score: 0.9749 - true_negative: 45754.6562 - val_loss: 0.1077 - val_accuracy: 0.9592 - val_precision: 0.9858 - val_recall: 0.9672 - val_f1_score: 0.9764 - val_true_negative: 48884.8281\n",
            "Epoch 9/20\n",
            "81/81 [==============================] - 46s 574ms/step - loss: 0.0805 - accuracy: 0.9732 - precision: 0.9866 - recall: 0.9690 - f1_score: 0.9777 - true_negative: 52006.1250 - val_loss: 0.2678 - val_accuracy: 0.9173 - val_precision: 0.9874 - val_recall: 0.9707 - val_f1_score: 0.9789 - val_true_negative: 55139.8281\n",
            "Epoch 10/20\n",
            "81/81 [==============================] - 46s 570ms/step - loss: 0.0820 - accuracy: 0.9683 - precision: 0.9881 - recall: 0.9722 - f1_score: 0.9801 - true_negative: 58266.7148 - val_loss: 0.2262 - val_accuracy: 0.9208 - val_precision: 0.9887 - val_recall: 0.9736 - val_f1_score: 0.9811 - val_true_negative: 61395.4375\n",
            "Epoch 11/20\n",
            "81/81 [==============================] - 45s 558ms/step - loss: 0.0746 - accuracy: 0.9753 - precision: 0.9889 - recall: 0.9748 - f1_score: 0.9818 - true_negative: 64503.2461 - val_loss: 0.0982 - val_accuracy: 0.9650 - val_precision: 0.9893 - val_recall: 0.9759 - val_f1_score: 0.9826 - val_true_negative: 67645.4375\n",
            "Epoch 12/20\n",
            "81/81 [==============================] - 44s 546ms/step - loss: 0.0627 - accuracy: 0.9782 - precision: 0.9895 - recall: 0.9769 - f1_score: 0.9832 - true_negative: 70774.0391 - val_loss: 0.1201 - val_accuracy: 0.9584 - val_precision: 0.9899 - val_recall: 0.9778 - val_f1_score: 0.9838 - val_true_negative: 73895.8281\n",
            "Epoch 13/20\n",
            "81/81 [==============================] - 42s 524ms/step - loss: 0.0702 - accuracy: 0.9761 - precision: 0.9903 - recall: 0.9787 - f1_score: 0.9845 - true_negative: 77032.0469 - val_loss: 0.1451 - val_accuracy: 0.9526 - val_precision: 0.9907 - val_recall: 0.9795 - val_f1_score: 0.9851 - val_true_negative: 80151.8281\n",
            "Epoch 14/20\n",
            "81/81 [==============================] - 44s 538ms/step - loss: 0.0596 - accuracy: 0.9782 - precision: 0.9910 - recall: 0.9802 - f1_score: 0.9856 - true_negative: 83255.2109 - val_loss: 0.1165 - val_accuracy: 0.9608 - val_precision: 0.9913 - val_recall: 0.9809 - val_f1_score: 0.9861 - val_true_negative: 86406.4375\n",
            "Epoch 15/20\n",
            "81/81 [==============================] - 46s 574ms/step - loss: 0.0543 - accuracy: 0.9817 - precision: 0.9915 - recall: 0.9816 - f1_score: 0.9865 - true_negative: 89508.1094 - val_loss: 0.0866 - val_accuracy: 0.9647 - val_precision: 0.9918 - val_recall: 0.9822 - val_f1_score: 0.9870 - val_true_negative: 92659.8281\n",
            "Epoch 16/20\n",
            "81/81 [==============================] - 47s 578ms/step - loss: 0.0648 - accuracy: 0.9761 - precision: 0.9921 - recall: 0.9827 - f1_score: 0.9874 - true_negative: 95758.8516 - val_loss: 0.1127 - val_accuracy: 0.9592 - val_precision: 0.9923 - val_recall: 0.9832 - val_f1_score: 0.9877 - val_true_negative: 98915.1953\n",
            "Epoch 17/20\n",
            "81/81 [==============================] - 46s 572ms/step - loss: 0.0601 - accuracy: 0.9771 - precision: 0.9924 - recall: 0.9837 - f1_score: 0.9880 - true_negative: 102027.6797 - val_loss: 0.0981 - val_accuracy: 0.9678 - val_precision: 0.9926 - val_recall: 0.9841 - val_f1_score: 0.9883 - val_true_negative: 105166.8281\n",
            "Epoch 18/20\n",
            "81/81 [==============================] - 43s 533ms/step - loss: 0.0550 - accuracy: 0.9810 - precision: 0.9928 - recall: 0.9845 - f1_score: 0.9886 - true_negative: 108278.5938 - val_loss: 0.0851 - val_accuracy: 0.9713 - val_precision: 0.9930 - val_recall: 0.9849 - val_f1_score: 0.9889 - val_true_negative: 111422.8281\n",
            "Epoch 19/20\n",
            "81/81 [==============================] - 41s 505ms/step - loss: 0.0365 - accuracy: 0.9876 - precision: 0.9932 - recall: 0.9853 - f1_score: 0.9892 - true_negative: 114522.6797 - val_loss: 0.0910 - val_accuracy: 0.9732 - val_precision: 0.9933 - val_recall: 0.9857 - val_f1_score: 0.9895 - val_true_negative: 117677.8281\n",
            "Epoch 20/20\n",
            "81/81 [==============================] - 40s 493ms/step - loss: 0.0477 - accuracy: 0.9835 - precision: 0.9935 - recall: 0.9860 - f1_score: 0.9897 - true_negative: 120785.4531 - val_loss: 0.0916 - val_accuracy: 0.9713 - val_precision: 0.9936 - val_recall: 0.9863 - val_f1_score: 0.9899 - val_true_negative: 123931.8281\n"
          ]
        }
      ]
    },
    {
      "cell_type": "code",
      "metadata": {
        "id": "gm3-0v4OB3K4",
        "colab": {
          "base_uri": "https://localhost:8080/"
        },
        "outputId": "bd1a4aff-1775-49f5-817b-6a802ef18313"
      },
      "source": [
        "# Testando o model após treinamento\n",
        "x_test_rnn2 = x_test[..., None]\n",
        "all_results_hyb = model_hyb.evaluate(x_test_rnn2, y_test, verbose=1)\n",
        "print_metrics(all_results_hyb)"
      ],
      "execution_count": 86,
      "outputs": [
        {
          "output_type": "stream",
          "name": "stdout",
          "text": [
            "81/81 [==============================] - 6s 71ms/step - loss: 0.0764 - accuracy: 0.9751 - precision: 0.9937 - recall: 0.9865 - f1_score: 0.9901 - true_negative: 126011.3125\n",
            "Loss: 0.07641921192407608\n",
            "Accuracy: 0.9751456379890442\n",
            "Precision: 0.993703305721283\n",
            "Recall: 0.9865180253982544\n",
            "F1 Score: 0.9900975823402405\n",
            "Specificity: 126011.3125\n"
          ]
        }
      ]
    },
    {
      "cell_type": "code",
      "metadata": {
        "id": "lXUffx0Luffl",
        "colab": {
          "base_uri": "https://localhost:8080/"
        },
        "outputId": "a16e9c74-13e5-4b3b-d250-971717d42cae"
      },
      "source": [
        "# Testa o treino apenas com a classe LAYING\n",
        "laying_results_hyb = model_hyb.evaluate(x_test_laying, y_test_laying, verbose=1)\n",
        "print_metrics(laying_results_hyb)"
      ],
      "execution_count": 87,
      "outputs": [
        {
          "output_type": "stream",
          "name": "stderr",
          "text": [
            "/usr/local/lib/python3.7/dist-packages/keras_metrics/metrics.py:26: UserWarning: `layer.updates` will be removed in a future version. This property should not be used in TensorFlow 2.0, as `updates` are applied automatically.\n",
            "  return object.__getattribute__(self, name)\n"
          ]
        },
        {
          "output_type": "stream",
          "name": "stdout",
          "text": [
            "15/15 [==============================] - 2s 74ms/step - loss: 0.3621 - accuracy: 0.9391 - precision: 0.9938 - recall: 0.9863 - f1_score: 0.9900 - true_negative: 127034.0000\n",
            "Loss: 0.3620908260345459\n",
            "Accuracy: 0.9390756487846375\n",
            "Precision: 0.9938051700592041\n",
            "Recall: 0.9862940907478333\n",
            "F1 Score: 0.990035355091095\n",
            "Specificity: 127034.0\n"
          ]
        }
      ]
    },
    {
      "cell_type": "code",
      "metadata": {
        "colab": {
          "base_uri": "https://localhost:8080/",
          "height": 281
        },
        "id": "NiEgMwDooJrI",
        "outputId": "745a228b-2fce-4871-a688-c0ab88583095"
      },
      "source": [
        "plot_loss(history, 20)"
      ],
      "execution_count": 88,
      "outputs": [
        {
          "output_type": "display_data",
          "data": {
            "image/png": "[encoded data removed]",
            "text/plain": [
              "<Figure size 432x288 with 1 Axes>"
            ]
          },
          "metadata": {
            "needs_background": "light"
          }
        }
      ]
    },
    {
      "cell_type": "markdown",
      "metadata": {
        "id": "JEEhDXHjyF4Y"
      },
      "source": [
        "# Dados"
      ]
    },
    {
      "cell_type": "code",
      "metadata": {
        "id": "RWXNZxmgyJEh"
      },
      "source": [
        "loss = {\n",
        "  'MLP': laying_results_mlp[0], \n",
        "  'CNN': laying_results_cnn[0], \n",
        "  'RNN': laying_results_rnn[0], \n",
        "  'Hybrid': laying_results_hyb[0]\n",
        "}\n",
        "accuracy = {\n",
        "    'MLP': laying_results_mlp[1], \n",
        "    'CNN': laying_results_cnn[1], \n",
        "    'RNN': laying_results_rnn[1], \n",
        "    'Hybrid': laying_results_hyb[1]\n",
        "}\n",
        "\n",
        "precision = {\n",
        "    'MLP': laying_results_mlp[2], \n",
        "    'CNN': laying_results_cnn[2], \n",
        "    'RNN': laying_results_rnn[2], \n",
        "    'Hybrid': laying_results_hyb[2]\n",
        "}\n",
        "\n",
        "recall = {\n",
        "    'MLP': laying_results_mlp[3], \n",
        "    'CNN': laying_results_cnn[3], \n",
        "    'RNN': laying_results_rnn[3], \n",
        "    'Hybrid': laying_results_hyb[3]\n",
        "}\n",
        "\n",
        "f1_score = {\n",
        "    'MLP': laying_results_mlp[4], \n",
        "    'CNN': laying_results_cnn[4], \n",
        "    'RNN': laying_results_rnn[4], \n",
        "    'Hybrid': laying_results_hyb[4]\n",
        "}\n",
        "\n",
        "specificity = {\n",
        "    'MLP': laying_results_mlp[5], \n",
        "    'CNN': laying_results_cnn[5], \n",
        "    'RNN': laying_results_rnn[5], \n",
        "    'Hybrid': laying_results_hyb[5]\n",
        "}"
      ],
      "execution_count": 129,
      "outputs": []
    },
    {
      "cell_type": "markdown",
      "metadata": {
        "id": "Hng_Xo0BhVxq"
      },
      "source": [
        "# Conclusão\n",
        "\n",
        "\n",
        "\n",
        "![image.png](https://cdn.analyticsvidhya.com/wp-content/uploads/2020/02/table.png)"
      ]
    },
    {
      "cell_type": "code",
      "metadata": {
        "colab": {
          "base_uri": "https://localhost:8080/",
          "height": 939
        },
        "id": "HPKLENLRoqVd",
        "outputId": "71b28281-63db-437d-ce60-f382dd0f311a"
      },
      "source": [
        "plt.figure(figsize=(25, 25))\n",
        "plot_bar_graph(list(loss.keys()), list(loss.values()), \"Loss\", [3, 3, 1])\n",
        "plot_bar_graph(list(accuracy.keys()), list(accuracy.values()), \"Accuracy\",  [3, 3, 2])\n",
        "plot_bar_graph(list(precision.keys()), list(precision.values()), \"Precision\",  [3, 3, 3])\n",
        "plt.show()\n",
        "plt.figure(figsize=(25, 25))\n",
        "plot_bar_graph(list(recall.keys()), list(recall.values()), \"Recall\",  [3, 3, 1])\n",
        "plot_bar_graph(list(f1_score.keys()), list(f1_score.values()), \"F1 Score\",  [3, 3, 2])\n",
        "plot_bar_graph(list(specificity.keys()), list(specificity.values()), \"Specificity\",  [3, 3, 3])\n",
        "plt.show()"
      ],
      "execution_count": 130,
      "outputs": [
        {
          "output_type": "display_data",
          "data": {
            "image/png": "[encoded data removed]",
            "text/plain": [
              "<Figure size 1800x1800 with 3 Axes>"
            ]
          },
          "metadata": {
            "needs_background": "light"
          }
        },
        {
          "output_type": "display_data",
          "data": {
            "image/png": "[encoded data removed]",
            "text/plain": [
              "<Figure size 1800x1800 with 3 Axes>"
            ]
          },
          "metadata": {
            "needs_background": "light"
          }
        }
      ]
    }
  ]
}