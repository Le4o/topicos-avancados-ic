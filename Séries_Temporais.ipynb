{
  "nbformat": 4,
  "nbformat_minor": 0,
  "metadata": {
    "colab": {
      "name": "Séries Temporais",
      "provenance": [],
      "include_colab_link": true
    },
    "kernelspec": {
      "name": "python3",
      "display_name": "Python 3"
    },
    "language_info": {
      "name": "python"
    }
  },
  "cells": [
    {
      "cell_type": "markdown",
      "metadata": {
        "id": "view-in-github",
        "colab_type": "text"
      },
      "source": [
        "<a href=\"https://colab.research.google.com/github/Le4o/topicos-avancados-ic/blob/main/S%C3%A9ries_Temporais.ipynb\" target=\"_parent\"><img src=\"https://colab.research.google.com/assets/colab-badge.svg\" alt=\"Open In Colab\"/></a>"
      ]
    },
    {
      "cell_type": "markdown",
      "metadata": {
        "id": "O4MjcM_dr10M"
      },
      "source": [
        "# Séries Temporais\n",
        "#### Exercício da matéria de Tópicos Avançados em Inteligência Computacional\n",
        "\n",
        "Grupo:\n",
        "- João Victor de Sledz Bulhões\n",
        "- Leonardo de Andrade Santana\n",
        "- Lis da Silva Azevedo"
      ]
    },
    {
      "cell_type": "markdown",
      "metadata": {
        "id": "XAcTN8mssBCC"
      },
      "source": [
        "### Definição do Exercício\n",
        "\n",
        "A atividade é **prever para as próximas 6h o valor da concentração de PM2.5**.\n",
        "Utilize os conceitos aprendidos até aqui, **testando diferentes modelos de IA** e **diferentes abordagens para conseguir prever com o melhor desempenho o valor das próximas 6h da concentração de PM2.5 para uma série histórica de sua escolha.**  \n",
        "1.   Escolha uma estação de monitoramento de uma das cidades com que irá trabalhar; \n",
        "2.   Faça uma análise exploratória dos dados, avaliando estatisticamente e graficamente como os dados se comportam;\n",
        "3.   Explore as técnicas **MLP, RNN simples, LSTM, GRU, CNN1D, FCN+LSTM e Conv2DLSTM**, utilizando a camada **TimeDistributed**;\n",
        "4.   Escolha, com base na avaliação do **loss** e das métricas **MAE, MSE, NMSE, r, R2 e Fac2** qual foi o melhor modelo (e apresente justificando a resposta);\n",
        "5.   Use o ano de 2015 somente para fins de teste.\n",
        "\n",
        "### Observação: \n",
        "*   *Apresente os resultados de forma lógica, organizada e que seja reprodutível pelo professor (linhas comentadas);*\n",
        "*   *Apresentação de métricas, gráficos, são essenciais para entendimento dos modelos e justificativas.*\n",
        "\n",
        "### Opcionais:\n",
        "\n",
        "*   Pode-se utilizar as informações meteorológicas para melhorar a qualidade do modelo final;\n",
        "*   Interessante, mas não obrigatório, a utilização de wavelets para feature augmentation.\n",
        "\n",
        "\n",
        "### Links:\n",
        "\n",
        "* [Código para o colab (referência)](https://colab.research.google.com/drive/1b5177FoO4JsyOKN8dmbmTjvPi32b95of?usp=sharing) \n",
        "\n",
        "* [Link da base de dados da atividade](https://archive.ics.uci.edu/ml/datasets/PM2.5+Data+of+Five+Chinese+Cities)\n",
        "\n",
        "* [Link para download da base de dados da atividade](https://drive.google.com/file/d/19FsUZXhakjteNoC3nsqUe2aTq3s7GoQI/view?usp=drive_web&authuser=1)\n"
      ]
    },
    {
      "cell_type": "code",
      "metadata": {
        "id": "3Qu9bmEKaWJS"
      },
      "source": [
        "%matplotlib inline\n",
        "import warnings\n",
        "warnings.filterwarnings('ignore')\n",
        "from zipfile import ZipFile \n",
        "\n",
        "import numpy as np\n",
        "import matplotlib.pyplot as plt\n",
        "import pandas as pd\n",
        "import math\n",
        "from collections import Counter\n",
        "\n",
        "import tensorflow.keras\n",
        "from tensorflow.keras.models import Sequential\n",
        "from tensorflow.keras import backend as K\n",
        "from tensorflow.keras.models import Sequential\n",
        "from tensorflow.keras.layers import Dense, Activation, Dropout, LSTM, GRU, Conv1D, MaxPooling1D, MaxPooling3D, Flatten, SimpleRNN, ConvLSTM2D, RepeatVector, TimeDistributed\n",
        "\n",
        "from sklearn.preprocessing import MinMaxScaler\n",
        "from sklearn.metrics import mean_squared_error\n",
        "from sklearn.model_selection import train_test_split"
      ],
      "execution_count": 23,
      "outputs": []
    },
    {
      "cell_type": "markdown",
      "metadata": {
        "id": "K6zV3vi_agnj"
      },
      "source": [
        "Para garantir que nossos resultados sejam reprodutíveis, vamos fixar a semente de aleatorização (random seed)"
      ]
    },
    {
      "cell_type": "code",
      "metadata": {
        "id": "mGY_ex8FajXH"
      },
      "source": [
        "# fixa random seed para garantir reprodutibilidade\n",
        "np.random.seed(0)"
      ],
      "execution_count": 4,
      "outputs": []
    },
    {
      "cell_type": "code",
      "metadata": {
        "colab": {
          "base_uri": "https://localhost:8080/"
        },
        "id": "x4ygwygidvAv",
        "outputId": "f28e84a8-4ad1-40a9-d246-d6ab5b01604b"
      },
      "source": [
        "from google.colab import drive\n",
        "drive.mount('/content/drive/', force_remount=True)\n",
        "%cd /content/drive/My Drive/"
      ],
      "execution_count": 5,
      "outputs": [
        {
          "output_type": "stream",
          "name": "stdout",
          "text": [
            "Mounted at /content/drive/\n",
            "/content/drive/My Drive\n"
          ]
        }
      ]
    },
    {
      "cell_type": "code",
      "metadata": {
        "colab": {
          "base_uri": "https://localhost:8080/"
        },
        "id": "ZVJ5ibvBam9i",
        "outputId": "6c094330-f949-43d9-d1a4-2e449b32c021"
      },
      "source": [
        "# carrega o dataset\n",
        "#df = pd.read_csv('/content/drive/MyDrive/Disciplinas/2021.2/Tópicos_Intel_Comp/Séries_Temporais/FiveCitiesPM/Shanghai.csv', usecols=[1], engine='python', skipfooter=3)\n",
        "df = pd.read_csv('/content/drive/MyDrive/Disciplinas/2021.2/Tópicos_Intel_Comp/Séries_Temporais/FiveCitiesPM/Shanghai.csv', engine='python', skipfooter=3)\n",
        "data = df.values\n",
        "#data = data.astype('float32')\n",
        "print('Quantidade de dados no arquivo:',len(data))"
      ],
      "execution_count": 12,
      "outputs": [
        {
          "output_type": "stream",
          "name": "stdout",
          "text": [
            "Quantidade de dados no arquivo: 52581\n"
          ]
        }
      ]
    },
    {
      "cell_type": "code",
      "metadata": {
        "id": "f4zMi7LliGbH",
        "outputId": "ae1dc5b5-dae5-45cc-e9ae-e732a7916239",
        "colab": {
          "base_uri": "https://localhost:8080/"
        }
      },
      "source": [
        "df.info()\n"
      ],
      "execution_count": 13,
      "outputs": [
        {
          "output_type": "stream",
          "name": "stdout",
          "text": [
            "<class 'pandas.core.frame.DataFrame'>\n",
            "RangeIndex: 52581 entries, 0 to 52580\n",
            "Data columns (total 17 columns):\n",
            " #   Column         Non-Null Count  Dtype  \n",
            "---  ------         --------------  -----  \n",
            " 0   No             52581 non-null  int64  \n",
            " 1   year           52581 non-null  int64  \n",
            " 2   month          52581 non-null  int64  \n",
            " 3   day            52581 non-null  int64  \n",
            " 4   hour           52581 non-null  int64  \n",
            " 5   season         52581 non-null  int64  \n",
            " 6   PM_Jingan      24698 non-null  float64\n",
            " 7   PM_US Post     34036 non-null  float64\n",
            " 8   PM_Xuhui       25187 non-null  float64\n",
            " 9   DEWP           52568 non-null  float64\n",
            " 10  HUMI           52568 non-null  float64\n",
            " 11  PRES           52553 non-null  float64\n",
            " 12  TEMP           52568 non-null  float64\n",
            " 13  cbwd           52569 non-null  object \n",
            " 14  Iws            52569 non-null  float64\n",
            " 15  precipitation  48572 non-null  float64\n",
            " 16  Iprec          48572 non-null  float64\n",
            "dtypes: float64(10), int64(6), object(1)\n",
            "memory usage: 6.8+ MB\n"
          ]
        }
      ]
    },
    {
      "cell_type": "code",
      "metadata": {
        "id": "GGI8-_ydijQL",
        "outputId": "42f41294-df58-4f62-a956-f9632ebf9476",
        "colab": {
          "base_uri": "https://localhost:8080/",
          "height": 203
        }
      },
      "source": [
        "df.head()"
      ],
      "execution_count": 14,
      "outputs": [
        {
          "output_type": "execute_result",
          "data": {
            "text/html": [
              "<div>\n",
              "<style scoped>\n",
              "    .dataframe tbody tr th:only-of-type {\n",
              "        vertical-align: middle;\n",
              "    }\n",
              "\n",
              "    .dataframe tbody tr th {\n",
              "        vertical-align: top;\n",
              "    }\n",
              "\n",
              "    .dataframe thead th {\n",
              "        text-align: right;\n",
              "    }\n",
              "</style>\n",
              "<table border=\"1\" class=\"dataframe\">\n",
              "  <thead>\n",
              "    <tr style=\"text-align: right;\">\n",
              "      <th></th>\n",
              "      <th>No</th>\n",
              "      <th>year</th>\n",
              "      <th>month</th>\n",
              "      <th>day</th>\n",
              "      <th>hour</th>\n",
              "      <th>season</th>\n",
              "      <th>PM_Jingan</th>\n",
              "      <th>PM_US Post</th>\n",
              "      <th>PM_Xuhui</th>\n",
              "      <th>DEWP</th>\n",
              "      <th>HUMI</th>\n",
              "      <th>PRES</th>\n",
              "      <th>TEMP</th>\n",
              "      <th>cbwd</th>\n",
              "      <th>Iws</th>\n",
              "      <th>precipitation</th>\n",
              "      <th>Iprec</th>\n",
              "    </tr>\n",
              "  </thead>\n",
              "  <tbody>\n",
              "    <tr>\n",
              "      <th>0</th>\n",
              "      <td>1</td>\n",
              "      <td>2010</td>\n",
              "      <td>1</td>\n",
              "      <td>1</td>\n",
              "      <td>0</td>\n",
              "      <td>4</td>\n",
              "      <td>NaN</td>\n",
              "      <td>NaN</td>\n",
              "      <td>NaN</td>\n",
              "      <td>-6.0</td>\n",
              "      <td>59.48</td>\n",
              "      <td>1026.1</td>\n",
              "      <td>1.0</td>\n",
              "      <td>cv</td>\n",
              "      <td>1.0</td>\n",
              "      <td>0.0</td>\n",
              "      <td>0.0</td>\n",
              "    </tr>\n",
              "    <tr>\n",
              "      <th>1</th>\n",
              "      <td>2</td>\n",
              "      <td>2010</td>\n",
              "      <td>1</td>\n",
              "      <td>1</td>\n",
              "      <td>1</td>\n",
              "      <td>4</td>\n",
              "      <td>NaN</td>\n",
              "      <td>NaN</td>\n",
              "      <td>NaN</td>\n",
              "      <td>-6.0</td>\n",
              "      <td>59.48</td>\n",
              "      <td>1025.1</td>\n",
              "      <td>1.0</td>\n",
              "      <td>SE</td>\n",
              "      <td>2.0</td>\n",
              "      <td>0.0</td>\n",
              "      <td>0.0</td>\n",
              "    </tr>\n",
              "    <tr>\n",
              "      <th>2</th>\n",
              "      <td>3</td>\n",
              "      <td>2010</td>\n",
              "      <td>1</td>\n",
              "      <td>1</td>\n",
              "      <td>2</td>\n",
              "      <td>4</td>\n",
              "      <td>NaN</td>\n",
              "      <td>NaN</td>\n",
              "      <td>NaN</td>\n",
              "      <td>-7.0</td>\n",
              "      <td>59.21</td>\n",
              "      <td>1025.1</td>\n",
              "      <td>0.0</td>\n",
              "      <td>SE</td>\n",
              "      <td>4.0</td>\n",
              "      <td>0.0</td>\n",
              "      <td>0.0</td>\n",
              "    </tr>\n",
              "    <tr>\n",
              "      <th>3</th>\n",
              "      <td>4</td>\n",
              "      <td>2010</td>\n",
              "      <td>1</td>\n",
              "      <td>1</td>\n",
              "      <td>3</td>\n",
              "      <td>4</td>\n",
              "      <td>NaN</td>\n",
              "      <td>NaN</td>\n",
              "      <td>NaN</td>\n",
              "      <td>-6.0</td>\n",
              "      <td>63.94</td>\n",
              "      <td>1024.0</td>\n",
              "      <td>0.0</td>\n",
              "      <td>SE</td>\n",
              "      <td>5.0</td>\n",
              "      <td>0.0</td>\n",
              "      <td>0.0</td>\n",
              "    </tr>\n",
              "    <tr>\n",
              "      <th>4</th>\n",
              "      <td>5</td>\n",
              "      <td>2010</td>\n",
              "      <td>1</td>\n",
              "      <td>1</td>\n",
              "      <td>4</td>\n",
              "      <td>4</td>\n",
              "      <td>NaN</td>\n",
              "      <td>NaN</td>\n",
              "      <td>NaN</td>\n",
              "      <td>-6.0</td>\n",
              "      <td>63.94</td>\n",
              "      <td>1023.0</td>\n",
              "      <td>0.0</td>\n",
              "      <td>SE</td>\n",
              "      <td>8.0</td>\n",
              "      <td>0.0</td>\n",
              "      <td>0.0</td>\n",
              "    </tr>\n",
              "  </tbody>\n",
              "</table>\n",
              "</div>"
            ],
            "text/plain": [
              "   No  year  month  day  hour  ...  TEMP  cbwd  Iws  precipitation  Iprec\n",
              "0   1  2010      1    1     0  ...   1.0    cv  1.0            0.0    0.0\n",
              "1   2  2010      1    1     1  ...   1.0    SE  2.0            0.0    0.0\n",
              "2   3  2010      1    1     2  ...   0.0    SE  4.0            0.0    0.0\n",
              "3   4  2010      1    1     3  ...   0.0    SE  5.0            0.0    0.0\n",
              "4   5  2010      1    1     4  ...   0.0    SE  8.0            0.0    0.0\n",
              "\n",
              "[5 rows x 17 columns]"
            ]
          },
          "metadata": {},
          "execution_count": 14
        }
      ]
    },
    {
      "cell_type": "code",
      "metadata": {
        "id": "Du-xgVfcjn77",
        "outputId": "7ab998d2-a49e-43da-c51f-516725e570d2",
        "colab": {
          "base_uri": "https://localhost:8080/"
        }
      },
      "source": [
        "print (df.loc[df[\"PM_US Post\"].first_valid_index()])"
      ],
      "execution_count": 15,
      "outputs": [
        {
          "output_type": "stream",
          "name": "stdout",
          "text": [
            "No                17443\n",
            "year               2011\n",
            "month                12\n",
            "day                  28\n",
            "hour                 18\n",
            "season                4\n",
            "PM_Jingan           NaN\n",
            "PM_US Post           36\n",
            "PM_Xuhui            NaN\n",
            "DEWP                  4\n",
            "HUMI                 62\n",
            "PRES             1027.1\n",
            "TEMP                 11\n",
            "cbwd                 NE\n",
            "Iws                   8\n",
            "precipitation         0\n",
            "Iprec                 0\n",
            "Name: 17442, dtype: object\n"
          ]
        }
      ]
    },
    {
      "cell_type": "code",
      "metadata": {
        "id": "p15QpYoBsIE1"
      },
      "source": [
        "df = df.iloc[24:, :]"
      ],
      "execution_count": 16,
      "outputs": []
    },
    {
      "cell_type": "code",
      "metadata": {
        "id": "7yb-4tETtH6_"
      },
      "source": [
        "df.interpolate(inplace=True)"
      ],
      "execution_count": 17,
      "outputs": []
    },
    {
      "cell_type": "code",
      "metadata": {
        "id": "u7Uc7Hf8tLVf"
      },
      "source": [
        "# Index dataframe using datetime\n",
        "df.index = pd.to_datetime(df.year*1000000 + df.month*10000 + df.day*100 + df.hour, format='%Y%m%d%H')"
      ],
      "execution_count": 18,
      "outputs": []
    },
    {
      "cell_type": "code",
      "metadata": {
        "id": "f7MCHz6YtjS9"
      },
      "source": [
        "df.drop([\"No\", \"day\", \"hour\", \"PM_Jingan\", \"PM_Xuhui\"], axis=1, inplace=True)"
      ],
      "execution_count": 19,
      "outputs": []
    },
    {
      "cell_type": "code",
      "metadata": {
        "id": "j0qbaIO-uWvs"
      },
      "source": [
        "# Rename columns to be easily recognizable\n",
        "df = df.rename(columns={'PM_US Post': 'pm25',\n",
        "                        'DEWP': 'dew_point',\n",
        "                        'HUMI': 'humidity',\n",
        "                        'PRES': 'pressure',\n",
        "                        'TEMP' : 'temp',\n",
        "                        'cbwd': 'wind_dir',\n",
        "                        'Iws': 'wind_speed',\n",
        "                        'Iprec': 'cum_precipitation'})"
      ],
      "execution_count": 20,
      "outputs": []
    },
    {
      "cell_type": "code",
      "metadata": {
        "id": "2WzsJt5tuaEW"
      },
      "source": [
        "def wind_dir_mode(x):\n",
        "    c = Counter(x)\n",
        "    return(c.most_common()[0][0])"
      ],
      "execution_count": 21,
      "outputs": []
    },
    {
      "cell_type": "code",
      "metadata": {
        "id": "B2gKXXRFuz12"
      },
      "source": [
        "df = df.resample('D').wind_dir.agg(wind_dir=wind_dir_mode).join(df.drop(\"cum_precipitation\", axis=1).resample('D').mean()).join(df.cum_precipitation.resample(\"D\").max())\n"
      ],
      "execution_count": 24,
      "outputs": []
    },
    {
      "cell_type": "code",
      "metadata": {
        "id": "_IZDf78LveSw",
        "outputId": "e4e3c3f3-5c71-457c-88e7-fa7e153479f8",
        "colab": {
          "base_uri": "https://localhost:8080/",
          "height": 203
        }
      },
      "source": [
        "df.head()"
      ],
      "execution_count": 25,
      "outputs": [
        {
          "output_type": "execute_result",
          "data": {
            "text/html": [
              "<div>\n",
              "<style scoped>\n",
              "    .dataframe tbody tr th:only-of-type {\n",
              "        vertical-align: middle;\n",
              "    }\n",
              "\n",
              "    .dataframe tbody tr th {\n",
              "        vertical-align: top;\n",
              "    }\n",
              "\n",
              "    .dataframe thead th {\n",
              "        text-align: right;\n",
              "    }\n",
              "</style>\n",
              "<table border=\"1\" class=\"dataframe\">\n",
              "  <thead>\n",
              "    <tr style=\"text-align: right;\">\n",
              "      <th></th>\n",
              "      <th>wind_dir</th>\n",
              "      <th>year</th>\n",
              "      <th>month</th>\n",
              "      <th>season</th>\n",
              "      <th>pm25</th>\n",
              "      <th>dew_point</th>\n",
              "      <th>humidity</th>\n",
              "      <th>pressure</th>\n",
              "      <th>temp</th>\n",
              "      <th>wind_speed</th>\n",
              "      <th>precipitation</th>\n",
              "      <th>cum_precipitation</th>\n",
              "    </tr>\n",
              "  </thead>\n",
              "  <tbody>\n",
              "    <tr>\n",
              "      <th>2010-01-02</th>\n",
              "      <td>NW</td>\n",
              "      <td>2010</td>\n",
              "      <td>1</td>\n",
              "      <td>4</td>\n",
              "      <td>NaN</td>\n",
              "      <td>2.739130</td>\n",
              "      <td>68.415217</td>\n",
              "      <td>1018.978261</td>\n",
              "      <td>8.478261</td>\n",
              "      <td>11.130435</td>\n",
              "      <td>0.0</td>\n",
              "      <td>0.0</td>\n",
              "    </tr>\n",
              "    <tr>\n",
              "      <th>2010-01-03</th>\n",
              "      <td>SE</td>\n",
              "      <td>2010</td>\n",
              "      <td>1</td>\n",
              "      <td>4</td>\n",
              "      <td>NaN</td>\n",
              "      <td>3.125000</td>\n",
              "      <td>72.355000</td>\n",
              "      <td>1020.062500</td>\n",
              "      <td>8.000000</td>\n",
              "      <td>40.791667</td>\n",
              "      <td>0.0</td>\n",
              "      <td>0.0</td>\n",
              "    </tr>\n",
              "    <tr>\n",
              "      <th>2010-01-04</th>\n",
              "      <td>NW</td>\n",
              "      <td>2010</td>\n",
              "      <td>1</td>\n",
              "      <td>4</td>\n",
              "      <td>NaN</td>\n",
              "      <td>0.583333</td>\n",
              "      <td>73.022500</td>\n",
              "      <td>1019.645833</td>\n",
              "      <td>5.250000</td>\n",
              "      <td>18.041667</td>\n",
              "      <td>0.0</td>\n",
              "      <td>0.0</td>\n",
              "    </tr>\n",
              "    <tr>\n",
              "      <th>2010-01-05</th>\n",
              "      <td>NE</td>\n",
              "      <td>2010</td>\n",
              "      <td>1</td>\n",
              "      <td>4</td>\n",
              "      <td>NaN</td>\n",
              "      <td>-6.958333</td>\n",
              "      <td>61.919167</td>\n",
              "      <td>1028.683333</td>\n",
              "      <td>-0.500000</td>\n",
              "      <td>28.458333</td>\n",
              "      <td>0.0</td>\n",
              "      <td>0.0</td>\n",
              "    </tr>\n",
              "    <tr>\n",
              "      <th>2010-01-06</th>\n",
              "      <td>NE</td>\n",
              "      <td>2010</td>\n",
              "      <td>1</td>\n",
              "      <td>4</td>\n",
              "      <td>NaN</td>\n",
              "      <td>-5.500000</td>\n",
              "      <td>62.430417</td>\n",
              "      <td>1029.408333</td>\n",
              "      <td>1.208333</td>\n",
              "      <td>16.125000</td>\n",
              "      <td>0.0</td>\n",
              "      <td>0.0</td>\n",
              "    </tr>\n",
              "  </tbody>\n",
              "</table>\n",
              "</div>"
            ],
            "text/plain": [
              "           wind_dir  year  month  ...  wind_speed  precipitation  cum_precipitation\n",
              "2010-01-02       NW  2010      1  ...   11.130435            0.0                0.0\n",
              "2010-01-03       SE  2010      1  ...   40.791667            0.0                0.0\n",
              "2010-01-04       NW  2010      1  ...   18.041667            0.0                0.0\n",
              "2010-01-05       NE  2010      1  ...   28.458333            0.0                0.0\n",
              "2010-01-06       NE  2010      1  ...   16.125000            0.0                0.0\n",
              "\n",
              "[5 rows x 12 columns]"
            ]
          },
          "metadata": {},
          "execution_count": 25
        }
      ]
    },
    {
      "cell_type": "markdown",
      "metadata": {
        "id": "eelr9-YBeCGg"
      },
      "source": [
        "#Tratando os dados"
      ]
    },
    {
      "cell_type": "code",
      "metadata": {
        "id": "r5Oo12E1dgEL"
      },
      "source": [
        ""
      ],
      "execution_count": null,
      "outputs": []
    },
    {
      "cell_type": "markdown",
      "metadata": {
        "id": "4ZvIM_FzfowR"
      },
      "source": [
        "## Visualizando os dados"
      ]
    },
    {
      "cell_type": "code",
      "metadata": {
        "colab": {
          "base_uri": "https://localhost:8080/",
          "height": 334
        },
        "id": "zAKMnxoMfeQk",
        "outputId": "bb0b2713-ca40-49e9-ce71-fba038b3b5ad"
      },
      "source": [
        "plt.figure(figsize=[10,5])\n",
        "plt.xlabel('TimePoint in Months')\n",
        "plt.ylabel('$CO_2$(ppm)')\n",
        "plt.grid()\n",
        "plt.plot(data);"
      ],
      "execution_count": 14,
      "outputs": [
        {
          "output_type": "display_data",
          "data": {
            "image/png": "[encoded data removed]",
            "text/plain": [
              "<Figure size 720x360 with 1 Axes>"
            ]
          },
          "metadata": {
            "needs_background": "light"
          }
        }
      ]
    },
    {
      "cell_type": "markdown",
      "metadata": {
        "id": "4O2QtFUYfvPT"
      },
      "source": [
        "\n",
        "Em séries temporais, a sequência dos dados é importante. Para criar a divisão entre treinamento e teste, utilizaremos a primeira parte da série para treinamento, e a última para o teste."
      ]
    },
    {
      "cell_type": "code",
      "metadata": {
        "colab": {
          "base_uri": "https://localhost:8080/"
        },
        "id": "xqPUxB1_fwfE",
        "outputId": "48054d4c-3983-4eb6-9e63-8c4f012334c6"
      },
      "source": [
        "# split into train and test sets\n",
        "train_size = int(len(data) * 0.7)\n",
        "train, test = data[0:train_size,:], data[train_size:len(data),:]\n",
        "print('Dataset de treinamento contém: ', len(train),' dados')\n",
        "print('Dataset de teste contém: ', len(test),' dados')"
      ],
      "execution_count": 16,
      "outputs": [
        {
          "output_type": "stream",
          "name": "stdout",
          "text": [
            "Dataset de treinamento contém:  36806  dados\n",
            "Dataset de teste contém:  15775  dados\n"
          ]
        }
      ]
    },
    {
      "cell_type": "markdown",
      "metadata": {
        "id": "CiUO9QABf5zg"
      },
      "source": [
        "Os LSTMs são sensíveis à escala dos dados de entrada, especificamente quando as funções de ativação sigmóide ou tanh são usadas. É fundamental normalizar os dados para o intervalo de [0, 1]. Isso pode ser feito usando a classe de pré-processamento MinMaxScaler da biblioteca scikit-learn."
      ]
    },
    {
      "cell_type": "code",
      "metadata": {
        "id": "tzG_3ERqf9Jq"
      },
      "source": [
        ""
      ],
      "execution_count": null,
      "outputs": []
    }
  ]
}