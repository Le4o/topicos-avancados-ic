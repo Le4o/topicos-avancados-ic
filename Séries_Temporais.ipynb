{
  "nbformat": 4,
  "nbformat_minor": 0,
  "metadata": {
    "colab": {
      "name": "Séries Temporais",
      "provenance": [],
      "include_colab_link": true
    },
    "kernelspec": {
      "name": "python3",
      "display_name": "Python 3"
    },
    "language_info": {
      "name": "python"
    }
  },
  "cells": [
    {
      "cell_type": "markdown",
      "metadata": {
        "id": "view-in-github",
        "colab_type": "text"
      },
      "source": [
        "<a href=\"https://colab.research.google.com/github/Le4o/topicos-avancados-ic/blob/main/S%C3%A9ries_Temporais.ipynb\" target=\"_parent\"><img src=\"https://colab.research.google.com/assets/colab-badge.svg\" alt=\"Open In Colab\"/></a>"
      ]
    },
    {
      "cell_type": "markdown",
      "metadata": {
        "id": "O4MjcM_dr10M"
      },
      "source": [
        "# Séries Temporais\n",
        "#### Exercício da matéria de Tópicos Avançados em Inteligência Computacional\n",
        "\n",
        "Grupo:\n",
        "- João Victor de Sledz Bulhões\n",
        "- Leonardo de Andrade Santana\n",
        "- Lis da Silva Azevedo"
      ]
    },
    {
      "cell_type": "markdown",
      "metadata": {
        "id": "XAcTN8mssBCC"
      },
      "source": [
        "### Definição do Exercício\n",
        "\n",
        "A atividade é **prever para as próximas 6h o valor da concentração de PM2.5**.\n",
        "Utilize os conceitos aprendidos até aqui, **testando diferentes modelos de IA** e **diferentes abordagens para conseguir prever com o melhor desempenho o valor das próximas 6h da concentração de PM2.5 para uma série histórica de sua escolha.**  \n",
        "1.   Escolha uma estação de monitoramento de uma das cidades com que irá trabalhar; \n",
        "2.   Faça uma análise exploratória dos dados, avaliando estatisticamente e graficamente como os dados se comportam;\n",
        "3.   Explore as técnicas **MLP, RNN simples, LSTM, GRU, CNN1D, FCN+LSTM e Conv2DLSTM**, utilizando a camada **TimeDistributed**;\n",
        "4.   Escolha, com base na avaliação do **loss** e das métricas **MAE, MSE, NMSE, r, R2 e Fac2** qual foi o melhor modelo (e apresente justificando a resposta);\n",
        "5.   Use o ano de 2015 somente para fins de teste.\n",
        "\n",
        "### Observação: \n",
        "*   *Apresente os resultados de forma lógica, organizada e que seja reprodutível pelo professor (linhas comentadas);*\n",
        "*   *Apresentação de métricas, gráficos, são essenciais para entendimento dos modelos e justificativas.*\n",
        "\n",
        "### Opcionais:\n",
        "\n",
        "*   Pode-se utilizar as informações meteorológicas para melhorar a qualidade do modelo final;\n",
        "*   Interessante, mas não obrigatório, a utilização de wavelets para feature augmentation.\n",
        "\n",
        "\n",
        "### Links:\n",
        "\n",
        "* [Código para o colab (referência)](https://colab.research.google.com/drive/1b5177FoO4JsyOKN8dmbmTjvPi32b95of?usp=sharing) \n",
        "\n",
        "* [Link da base de dados da atividade](https://archive.ics.uci.edu/ml/datasets/PM2.5+Data+of+Five+Chinese+Cities)\n",
        "\n",
        "* [Link para download da base de dados da atividade](https://drive.google.com/file/d/19FsUZXhakjteNoC3nsqUe2aTq3s7GoQI/view?usp=drive_web&authuser=1)\n"
      ]
    },
    {
      "cell_type": "code",
      "metadata": {
        "id": "3Qu9bmEKaWJS"
      },
      "source": [
        "%matplotlib inline\n",
        "import warnings\n",
        "warnings.filterwarnings('ignore')\n",
        "from zipfile import ZipFile \n",
        "\n",
        "import numpy as np\n",
        "import matplotlib.pyplot as plt\n",
        "import pandas as pd\n",
        "import math\n",
        "from collections import Counter\n",
        "\n",
        "import tensorflow.keras\n",
        "from tensorflow.keras.models import Sequential\n",
        "from tensorflow.keras import backend as K\n",
        "from tensorflow.keras.models import Sequential\n",
        "from tensorflow.keras.layers import Dense, Activation, Dropout, LSTM, GRU, Conv1D, MaxPooling1D, MaxPooling3D, Flatten, SimpleRNN, ConvLSTM2D, RepeatVector, TimeDistributed\n",
        "\n",
        "from sklearn.preprocessing import MinMaxScaler, LabelEncoder\n",
        "from sklearn.metrics import mean_squared_error\n",
        "from sklearn.model_selection import train_test_split"
      ],
      "execution_count": 111,
      "outputs": []
    },
    {
      "cell_type": "markdown",
      "metadata": {
        "id": "K6zV3vi_agnj"
      },
      "source": [
        "Para garantir que nossos resultados sejam reprodutíveis, vamos fixar a semente de aleatorização (random seed)"
      ]
    },
    {
      "cell_type": "code",
      "metadata": {
        "id": "mGY_ex8FajXH"
      },
      "source": [
        "# fixa random seed para garantir reprodutibilidade\n",
        "np.random.seed(0)"
      ],
      "execution_count": 41,
      "outputs": []
    },
    {
      "cell_type": "markdown",
      "metadata": {
        "id": "vEkfzNoy6Vbb"
      },
      "source": [
        "#Importando os dados"
      ]
    },
    {
      "cell_type": "code",
      "metadata": {
        "id": "IlIOrEhYzw0F"
      },
      "source": [
        "from google.colab import drive\n",
        "drive.mount('/content/drive/', force_remount=True)\n",
        "%cd /content/drive/My Drive/"
      ],
      "execution_count": null,
      "outputs": []
    },
    {
      "cell_type": "code",
      "metadata": {
        "colab": {
          "base_uri": "https://localhost:8080/"
        },
        "id": "ZVJ5ibvBam9i",
        "outputId": "d9d9efb6-b6b7-4e50-8fd1-ff3da5cea00a"
      },
      "source": [
        "# carrega o dataset\n",
        "#df = pd.read_csv('/content/drive/MyDrive/Disciplinas/2021.2/Tópicos_Intel_Comp/Séries_Temporais/FiveCitiesPM/Shanghai.csv', usecols=[1], engine='python', skipfooter=3)\n",
        "df = pd.read_csv('/content/drive/MyDrive/Disciplinas/2021.2/Tópicos_Intel_Comp/Séries_Temporais/FiveCitiesPM/Shanghai.csv', engine='python', skipfooter=3)\n",
        "data = df.values\n",
        "#data = data.astype('float32')\n",
        "print('Quantidade de dados no arquivo:',len(data))"
      ],
      "execution_count": 73,
      "outputs": [
        {
          "output_type": "stream",
          "name": "stdout",
          "text": [
            "Quantidade de dados no arquivo: 52581\n"
          ]
        }
      ]
    },
    {
      "cell_type": "code",
      "metadata": {
        "colab": {
          "base_uri": "https://localhost:8080/"
        },
        "id": "f4zMi7LliGbH",
        "outputId": "902f44fa-8f38-4238-fa89-d6fedfc7c0e3"
      },
      "source": [
        "df.info()\n"
      ],
      "execution_count": 74,
      "outputs": [
        {
          "output_type": "stream",
          "name": "stdout",
          "text": [
            "<class 'pandas.core.frame.DataFrame'>\n",
            "RangeIndex: 52581 entries, 0 to 52580\n",
            "Data columns (total 17 columns):\n",
            " #   Column         Non-Null Count  Dtype  \n",
            "---  ------         --------------  -----  \n",
            " 0   No             52581 non-null  int64  \n",
            " 1   year           52581 non-null  int64  \n",
            " 2   month          52581 non-null  int64  \n",
            " 3   day            52581 non-null  int64  \n",
            " 4   hour           52581 non-null  int64  \n",
            " 5   season         52581 non-null  int64  \n",
            " 6   PM_Jingan      24698 non-null  float64\n",
            " 7   PM_US Post     34036 non-null  float64\n",
            " 8   PM_Xuhui       25187 non-null  float64\n",
            " 9   DEWP           52568 non-null  float64\n",
            " 10  HUMI           52568 non-null  float64\n",
            " 11  PRES           52553 non-null  float64\n",
            " 12  TEMP           52568 non-null  float64\n",
            " 13  cbwd           52569 non-null  object \n",
            " 14  Iws            52569 non-null  float64\n",
            " 15  precipitation  48572 non-null  float64\n",
            " 16  Iprec          48572 non-null  float64\n",
            "dtypes: float64(10), int64(6), object(1)\n",
            "memory usage: 6.8+ MB\n"
          ]
        }
      ]
    },
    {
      "cell_type": "code",
      "metadata": {
        "colab": {
          "base_uri": "https://localhost:8080/",
          "height": 0
        },
        "id": "GGI8-_ydijQL",
        "outputId": "5f2873e5-bc38-4bd8-a6a6-d6b6e254c12a"
      },
      "source": [
        "df.head()"
      ],
      "execution_count": 75,
      "outputs": [
        {
          "output_type": "execute_result",
          "data": {
            "text/html": [
              "<div>\n",
              "<style scoped>\n",
              "    .dataframe tbody tr th:only-of-type {\n",
              "        vertical-align: middle;\n",
              "    }\n",
              "\n",
              "    .dataframe tbody tr th {\n",
              "        vertical-align: top;\n",
              "    }\n",
              "\n",
              "    .dataframe thead th {\n",
              "        text-align: right;\n",
              "    }\n",
              "</style>\n",
              "<table border=\"1\" class=\"dataframe\">\n",
              "  <thead>\n",
              "    <tr style=\"text-align: right;\">\n",
              "      <th></th>\n",
              "      <th>No</th>\n",
              "      <th>year</th>\n",
              "      <th>month</th>\n",
              "      <th>day</th>\n",
              "      <th>hour</th>\n",
              "      <th>season</th>\n",
              "      <th>PM_Jingan</th>\n",
              "      <th>PM_US Post</th>\n",
              "      <th>PM_Xuhui</th>\n",
              "      <th>DEWP</th>\n",
              "      <th>HUMI</th>\n",
              "      <th>PRES</th>\n",
              "      <th>TEMP</th>\n",
              "      <th>cbwd</th>\n",
              "      <th>Iws</th>\n",
              "      <th>precipitation</th>\n",
              "      <th>Iprec</th>\n",
              "    </tr>\n",
              "  </thead>\n",
              "  <tbody>\n",
              "    <tr>\n",
              "      <th>0</th>\n",
              "      <td>1</td>\n",
              "      <td>2010</td>\n",
              "      <td>1</td>\n",
              "      <td>1</td>\n",
              "      <td>0</td>\n",
              "      <td>4</td>\n",
              "      <td>NaN</td>\n",
              "      <td>NaN</td>\n",
              "      <td>NaN</td>\n",
              "      <td>-6.0</td>\n",
              "      <td>59.48</td>\n",
              "      <td>1026.1</td>\n",
              "      <td>1.0</td>\n",
              "      <td>cv</td>\n",
              "      <td>1.0</td>\n",
              "      <td>0.0</td>\n",
              "      <td>0.0</td>\n",
              "    </tr>\n",
              "    <tr>\n",
              "      <th>1</th>\n",
              "      <td>2</td>\n",
              "      <td>2010</td>\n",
              "      <td>1</td>\n",
              "      <td>1</td>\n",
              "      <td>1</td>\n",
              "      <td>4</td>\n",
              "      <td>NaN</td>\n",
              "      <td>NaN</td>\n",
              "      <td>NaN</td>\n",
              "      <td>-6.0</td>\n",
              "      <td>59.48</td>\n",
              "      <td>1025.1</td>\n",
              "      <td>1.0</td>\n",
              "      <td>SE</td>\n",
              "      <td>2.0</td>\n",
              "      <td>0.0</td>\n",
              "      <td>0.0</td>\n",
              "    </tr>\n",
              "    <tr>\n",
              "      <th>2</th>\n",
              "      <td>3</td>\n",
              "      <td>2010</td>\n",
              "      <td>1</td>\n",
              "      <td>1</td>\n",
              "      <td>2</td>\n",
              "      <td>4</td>\n",
              "      <td>NaN</td>\n",
              "      <td>NaN</td>\n",
              "      <td>NaN</td>\n",
              "      <td>-7.0</td>\n",
              "      <td>59.21</td>\n",
              "      <td>1025.1</td>\n",
              "      <td>0.0</td>\n",
              "      <td>SE</td>\n",
              "      <td>4.0</td>\n",
              "      <td>0.0</td>\n",
              "      <td>0.0</td>\n",
              "    </tr>\n",
              "    <tr>\n",
              "      <th>3</th>\n",
              "      <td>4</td>\n",
              "      <td>2010</td>\n",
              "      <td>1</td>\n",
              "      <td>1</td>\n",
              "      <td>3</td>\n",
              "      <td>4</td>\n",
              "      <td>NaN</td>\n",
              "      <td>NaN</td>\n",
              "      <td>NaN</td>\n",
              "      <td>-6.0</td>\n",
              "      <td>63.94</td>\n",
              "      <td>1024.0</td>\n",
              "      <td>0.0</td>\n",
              "      <td>SE</td>\n",
              "      <td>5.0</td>\n",
              "      <td>0.0</td>\n",
              "      <td>0.0</td>\n",
              "    </tr>\n",
              "    <tr>\n",
              "      <th>4</th>\n",
              "      <td>5</td>\n",
              "      <td>2010</td>\n",
              "      <td>1</td>\n",
              "      <td>1</td>\n",
              "      <td>4</td>\n",
              "      <td>4</td>\n",
              "      <td>NaN</td>\n",
              "      <td>NaN</td>\n",
              "      <td>NaN</td>\n",
              "      <td>-6.0</td>\n",
              "      <td>63.94</td>\n",
              "      <td>1023.0</td>\n",
              "      <td>0.0</td>\n",
              "      <td>SE</td>\n",
              "      <td>8.0</td>\n",
              "      <td>0.0</td>\n",
              "      <td>0.0</td>\n",
              "    </tr>\n",
              "  </tbody>\n",
              "</table>\n",
              "</div>"
            ],
            "text/plain": [
              "   No  year  month  day  hour  ...  TEMP  cbwd  Iws  precipitation  Iprec\n",
              "0   1  2010      1    1     0  ...   1.0    cv  1.0            0.0    0.0\n",
              "1   2  2010      1    1     1  ...   1.0    SE  2.0            0.0    0.0\n",
              "2   3  2010      1    1     2  ...   0.0    SE  4.0            0.0    0.0\n",
              "3   4  2010      1    1     3  ...   0.0    SE  5.0            0.0    0.0\n",
              "4   5  2010      1    1     4  ...   0.0    SE  8.0            0.0    0.0\n",
              "\n",
              "[5 rows x 17 columns]"
            ]
          },
          "metadata": {},
          "execution_count": 75
        }
      ]
    },
    {
      "cell_type": "markdown",
      "metadata": {
        "id": "eelr9-YBeCGg"
      },
      "source": [
        "#Tratando os dados"
      ]
    },
    {
      "cell_type": "code",
      "metadata": {
        "colab": {
          "base_uri": "https://localhost:8080/"
        },
        "id": "Du-xgVfcjn77",
        "outputId": "2e6153eb-7b62-4fbb-8be2-311b5258e8b1"
      },
      "source": [
        "print (df.loc[df[\"PM_US Post\"].first_valid_index()])"
      ],
      "execution_count": 76,
      "outputs": [
        {
          "output_type": "stream",
          "name": "stdout",
          "text": [
            "No                17443\n",
            "year               2011\n",
            "month                12\n",
            "day                  28\n",
            "hour                 18\n",
            "season                4\n",
            "PM_Jingan           NaN\n",
            "PM_US Post           36\n",
            "PM_Xuhui            NaN\n",
            "DEWP                  4\n",
            "HUMI                 62\n",
            "PRES             1027.1\n",
            "TEMP                 11\n",
            "cbwd                 NE\n",
            "Iws                   8\n",
            "precipitation         0\n",
            "Iprec                 0\n",
            "Name: 17442, dtype: object\n"
          ]
        }
      ]
    },
    {
      "cell_type": "code",
      "metadata": {
        "id": "p15QpYoBsIE1"
      },
      "source": [
        "df = df.iloc[17443:, :]"
      ],
      "execution_count": 77,
      "outputs": []
    },
    {
      "cell_type": "code",
      "metadata": {
        "id": "7yb-4tETtH6_"
      },
      "source": [
        "df.interpolate(inplace=True)"
      ],
      "execution_count": 78,
      "outputs": []
    },
    {
      "cell_type": "code",
      "metadata": {
        "id": "u7Uc7Hf8tLVf"
      },
      "source": [
        "# Index dataframe using datetime\n",
        "df.index = pd.to_datetime(df.year*1000000 + df.month*10000 + df.day*100 + df.hour, format='%Y%m%d%H')"
      ],
      "execution_count": 79,
      "outputs": []
    },
    {
      "cell_type": "code",
      "metadata": {
        "id": "f7MCHz6YtjS9"
      },
      "source": [
        "df.drop([\"No\", \"day\", \"hour\", \"PM_Jingan\", \"PM_Xuhui\"], axis=1, inplace=True)"
      ],
      "execution_count": 80,
      "outputs": []
    },
    {
      "cell_type": "code",
      "metadata": {
        "id": "j0qbaIO-uWvs"
      },
      "source": [
        "# Rename columns to be easily recognizable\n",
        "df = df.rename(columns={'PM_US Post': 'pm25',\n",
        "                        'cbwd': 'wind_dir',})"
      ],
      "execution_count": 81,
      "outputs": []
    },
    {
      "cell_type": "code",
      "metadata": {
        "id": "2WzsJt5tuaEW"
      },
      "source": [
        "def wind_dir_mode(x):\n",
        "    c = Counter(x)\n",
        "    return(c.most_common()[0][0])"
      ],
      "execution_count": 82,
      "outputs": []
    },
    {
      "cell_type": "code",
      "metadata": {
        "id": "B2gKXXRFuz12"
      },
      "source": [
        "df = df.resample('D').wind_dir.agg(wind_dir=wind_dir_mode).join(df.drop(\"Iprec\", axis=1).resample('D').mean()).join(df.Iprec.resample(\"D\").max())\n"
      ],
      "execution_count": 83,
      "outputs": []
    },
    {
      "cell_type": "code",
      "metadata": {
        "colab": {
          "base_uri": "https://localhost:8080/",
          "height": 202
        },
        "id": "_IZDf78LveSw",
        "outputId": "978c9466-f382-4c4b-f45f-f6603881dd0f"
      },
      "source": [
        "df.head()"
      ],
      "execution_count": 84,
      "outputs": [
        {
          "output_type": "execute_result",
          "data": {
            "text/html": [
              "<div>\n",
              "<style scoped>\n",
              "    .dataframe tbody tr th:only-of-type {\n",
              "        vertical-align: middle;\n",
              "    }\n",
              "\n",
              "    .dataframe tbody tr th {\n",
              "        vertical-align: top;\n",
              "    }\n",
              "\n",
              "    .dataframe thead th {\n",
              "        text-align: right;\n",
              "    }\n",
              "</style>\n",
              "<table border=\"1\" class=\"dataframe\">\n",
              "  <thead>\n",
              "    <tr style=\"text-align: right;\">\n",
              "      <th></th>\n",
              "      <th>wind_dir</th>\n",
              "      <th>year</th>\n",
              "      <th>month</th>\n",
              "      <th>season</th>\n",
              "      <th>pm25</th>\n",
              "      <th>DEWP</th>\n",
              "      <th>HUMI</th>\n",
              "      <th>PRES</th>\n",
              "      <th>TEMP</th>\n",
              "      <th>Iws</th>\n",
              "      <th>precipitation</th>\n",
              "      <th>Iprec</th>\n",
              "    </tr>\n",
              "  </thead>\n",
              "  <tbody>\n",
              "    <tr>\n",
              "      <th>2011-12-28</th>\n",
              "      <td>NE</td>\n",
              "      <td>2011</td>\n",
              "      <td>12</td>\n",
              "      <td>4</td>\n",
              "      <td>35.600000</td>\n",
              "      <td>5.200000</td>\n",
              "      <td>71.300000</td>\n",
              "      <td>1027.900000</td>\n",
              "      <td>10.200000</td>\n",
              "      <td>13.000000</td>\n",
              "      <td>0.0</td>\n",
              "      <td>0.0</td>\n",
              "    </tr>\n",
              "    <tr>\n",
              "      <th>2011-12-29</th>\n",
              "      <td>NE</td>\n",
              "      <td>2011</td>\n",
              "      <td>12</td>\n",
              "      <td>4</td>\n",
              "      <td>52.625000</td>\n",
              "      <td>3.500000</td>\n",
              "      <td>68.794167</td>\n",
              "      <td>1029.441667</td>\n",
              "      <td>9.041667</td>\n",
              "      <td>67.416667</td>\n",
              "      <td>0.0</td>\n",
              "      <td>0.0</td>\n",
              "    </tr>\n",
              "    <tr>\n",
              "      <th>2011-12-30</th>\n",
              "      <td>NE</td>\n",
              "      <td>2011</td>\n",
              "      <td>12</td>\n",
              "      <td>4</td>\n",
              "      <td>43.791667</td>\n",
              "      <td>-0.916667</td>\n",
              "      <td>63.894583</td>\n",
              "      <td>1032.687500</td>\n",
              "      <td>5.541667</td>\n",
              "      <td>191.375000</td>\n",
              "      <td>0.0</td>\n",
              "      <td>0.0</td>\n",
              "    </tr>\n",
              "    <tr>\n",
              "      <th>2011-12-31</th>\n",
              "      <td>NE</td>\n",
              "      <td>2011</td>\n",
              "      <td>12</td>\n",
              "      <td>4</td>\n",
              "      <td>114.750000</td>\n",
              "      <td>-0.708333</td>\n",
              "      <td>64.024167</td>\n",
              "      <td>1029.179167</td>\n",
              "      <td>5.875000</td>\n",
              "      <td>14.125000</td>\n",
              "      <td>0.0</td>\n",
              "      <td>0.0</td>\n",
              "    </tr>\n",
              "    <tr>\n",
              "      <th>2012-01-01</th>\n",
              "      <td>NE</td>\n",
              "      <td>2012</td>\n",
              "      <td>1</td>\n",
              "      <td>4</td>\n",
              "      <td>111.125000</td>\n",
              "      <td>-0.916667</td>\n",
              "      <td>66.330833</td>\n",
              "      <td>1029.541667</td>\n",
              "      <td>5.208333</td>\n",
              "      <td>17.000000</td>\n",
              "      <td>0.0</td>\n",
              "      <td>0.0</td>\n",
              "    </tr>\n",
              "  </tbody>\n",
              "</table>\n",
              "</div>"
            ],
            "text/plain": [
              "           wind_dir  year  month  ...         Iws  precipitation  Iprec\n",
              "2011-12-28       NE  2011     12  ...   13.000000            0.0    0.0\n",
              "2011-12-29       NE  2011     12  ...   67.416667            0.0    0.0\n",
              "2011-12-30       NE  2011     12  ...  191.375000            0.0    0.0\n",
              "2011-12-31       NE  2011     12  ...   14.125000            0.0    0.0\n",
              "2012-01-01       NE  2012      1  ...   17.000000            0.0    0.0\n",
              "\n",
              "[5 rows x 12 columns]"
            ]
          },
          "metadata": {},
          "execution_count": 84
        }
      ]
    },
    {
      "cell_type": "code",
      "metadata": {
        "colab": {
          "base_uri": "https://localhost:8080/"
        },
        "id": "r5Oo12E1dgEL",
        "outputId": "d8a1ed90-46bf-40dc-c629-d12269ae33a6"
      },
      "source": [
        "len(df)"
      ],
      "execution_count": 85,
      "outputs": [
        {
          "output_type": "execute_result",
          "data": {
            "text/plain": [
              "1465"
            ]
          },
          "metadata": {},
          "execution_count": 85
        }
      ]
    },
    {
      "cell_type": "code",
      "metadata": {
        "id": "nVPgHEvv1pOF",
        "outputId": "fb39bf3f-b14d-4d3d-eab9-0b103774abf0",
        "colab": {
          "base_uri": "https://localhost:8080/",
          "height": 202
        }
      },
      "source": [
        "data = df[[\"pm25\"]]\n",
        "data.head()"
      ],
      "execution_count": 86,
      "outputs": [
        {
          "output_type": "execute_result",
          "data": {
            "text/html": [
              "<div>\n",
              "<style scoped>\n",
              "    .dataframe tbody tr th:only-of-type {\n",
              "        vertical-align: middle;\n",
              "    }\n",
              "\n",
              "    .dataframe tbody tr th {\n",
              "        vertical-align: top;\n",
              "    }\n",
              "\n",
              "    .dataframe thead th {\n",
              "        text-align: right;\n",
              "    }\n",
              "</style>\n",
              "<table border=\"1\" class=\"dataframe\">\n",
              "  <thead>\n",
              "    <tr style=\"text-align: right;\">\n",
              "      <th></th>\n",
              "      <th>pm25</th>\n",
              "    </tr>\n",
              "  </thead>\n",
              "  <tbody>\n",
              "    <tr>\n",
              "      <th>2011-12-28</th>\n",
              "      <td>35.600000</td>\n",
              "    </tr>\n",
              "    <tr>\n",
              "      <th>2011-12-29</th>\n",
              "      <td>52.625000</td>\n",
              "    </tr>\n",
              "    <tr>\n",
              "      <th>2011-12-30</th>\n",
              "      <td>43.791667</td>\n",
              "    </tr>\n",
              "    <tr>\n",
              "      <th>2011-12-31</th>\n",
              "      <td>114.750000</td>\n",
              "    </tr>\n",
              "    <tr>\n",
              "      <th>2012-01-01</th>\n",
              "      <td>111.125000</td>\n",
              "    </tr>\n",
              "  </tbody>\n",
              "</table>\n",
              "</div>"
            ],
            "text/plain": [
              "                  pm25\n",
              "2011-12-28   35.600000\n",
              "2011-12-29   52.625000\n",
              "2011-12-30   43.791667\n",
              "2011-12-31  114.750000\n",
              "2012-01-01  111.125000"
            ]
          },
          "metadata": {},
          "execution_count": 86
        }
      ]
    },
    {
      "cell_type": "markdown",
      "metadata": {
        "id": "4ZvIM_FzfowR"
      },
      "source": [
        "# Visualizando os dados"
      ]
    },
    {
      "cell_type": "code",
      "metadata": {
        "colab": {
          "base_uri": "https://localhost:8080/",
          "height": 336
        },
        "id": "zAKMnxoMfeQk",
        "outputId": "1bd27526-176e-4851-e888-a10e35994b85"
      },
      "source": [
        "data = data.values\n",
        "data_y = df[[\"pm25\"]]\n",
        "plt.figure(figsize=[10,5])\n",
        "plt.xlabel('TimePoint in Months')\n",
        "plt.ylabel('$CO_2$(ppm)')\n",
        "plt.grid()\n",
        "plt.plot(data_y);"
      ],
      "execution_count": 95,
      "outputs": [
        {
          "output_type": "display_data",
          "data": {
            "image/png": "[encoded data removed]",
            "text/plain": [
              "<Figure size 720x360 with 1 Axes>"
            ]
          },
          "metadata": {
            "needs_background": "light"
          }
        }
      ]
    },
    {
      "cell_type": "markdown",
      "metadata": {
        "id": "FVJCO-TJ7Ttq"
      },
      "source": [
        "# Separação dos dados"
      ]
    },
    {
      "cell_type": "markdown",
      "metadata": {
        "id": "4O2QtFUYfvPT"
      },
      "source": [
        "\n",
        "Em séries temporais, a sequência dos dados é importante. Para criar a divisão entre treinamento e teste, utilizaremos a primeira parte da série para treinamento, e a última para o teste."
      ]
    },
    {
      "cell_type": "code",
      "metadata": {
        "colab": {
          "base_uri": "https://localhost:8080/"
        },
        "id": "xqPUxB1_fwfE",
        "outputId": "1f52a993-271d-43bb-fde3-4f17981f5ae1"
      },
      "source": [
        "# split into train and test sets\n",
        "\n",
        "test = df[df.year== 2015]\n",
        "train = df[df.year != 2015]\n",
        "train_y = train.pop(\"pm25\")\n",
        "train_x = train\n",
        "test_y = test.pop(\"pm25\")\n",
        "test_x = test\n",
        "#train_y  = train.iloc[:,5]\n",
        "#train_x  = train.drop[\"pm25\"]\n",
        "print('Dataset de treinamento contém: ', len(train),' dados')\n",
        "print('Dataset de teste contém: ', len(test),' dados')\n",
        "test_y.head()"
      ],
      "execution_count": 122,
      "outputs": [
        {
          "output_type": "stream",
          "name": "stdout",
          "text": [
            "Dataset de treinamento contém:  1100  dados\n",
            "Dataset de teste contém:  365  dados\n"
          ]
        },
        {
          "output_type": "execute_result",
          "data": {
            "text/plain": [
              "2015-01-01     44.416667\n",
              "2015-01-02     82.958333\n",
              "2015-01-03     97.125000\n",
              "2015-01-04    121.500000\n",
              "2015-01-05     81.208333\n",
              "Freq: D, Name: pm25, dtype: float64"
            ]
          },
          "metadata": {},
          "execution_count": 122
        }
      ]
    },
    {
      "cell_type": "code",
      "metadata": {
        "id": "WDF0KGJA9yRI",
        "outputId": "cdda08e8-bcd1-488f-ffe4-a50f101a8862",
        "colab": {
          "base_uri": "https://localhost:8080/"
        }
      },
      "source": [
        "train_y"
      ],
      "execution_count": 115,
      "outputs": [
        {
          "output_type": "execute_result",
          "data": {
            "text/plain": [
              "2011-12-28     35.600000\n",
              "2011-12-29     52.625000\n",
              "2011-12-30     43.791667\n",
              "2011-12-31    114.750000\n",
              "2012-01-01    111.125000\n",
              "                 ...    \n",
              "2014-12-27     27.958333\n",
              "2014-12-28     69.833333\n",
              "2014-12-29    140.583333\n",
              "2014-12-30    123.041667\n",
              "2014-12-31    106.875000\n",
              "Freq: D, Name: pm25, Length: 1100, dtype: float64"
            ]
          },
          "metadata": {},
          "execution_count": 115
        }
      ]
    },
    {
      "cell_type": "markdown",
      "metadata": {
        "id": "QL76tozX6KAX"
      },
      "source": [
        "#LSTM"
      ]
    },
    {
      "cell_type": "markdown",
      "metadata": {
        "id": "CiUO9QABf5zg"
      },
      "source": [
        "Os LSTMs são sensíveis à escala dos dados de entrada, especificamente quando as funções de ativação sigmóide ou tanh são usadas. É fundamental normalizar os dados para o intervalo de [0, 1]. Isso pode ser feito usando a classe de pré-processamento MinMaxScaler da biblioteca scikit-learn."
      ]
    },
    {
      "cell_type": "code",
      "metadata": {
        "id": "tzG_3ERqf9Jq"
      },
      "source": [
        "# normalize the dataset\n",
        "train_x = pd.get_dummies(train_x)\n",
        "test_x =pd.get_dummies(test_x)\n",
        "train =pd.get_dummies(train)\n",
        "test =pd.get_dummies(test)\n",
        "#test_y = le.fit_transform(test_y)"
      ],
      "execution_count": 135,
      "outputs": []
    },
    {
      "cell_type": "code",
      "metadata": {
        "id": "fft3__lBBsDJ",
        "outputId": "f54f8a06-31e3-44e7-fb87-8fc05dd09f6d",
        "colab": {
          "base_uri": "https://localhost:8080/",
          "height": 830
        }
      },
      "source": [
        "#data = data.astype('float32')\n",
        "scaler = MinMaxScaler(feature_range=(0, 1))\n",
        "data_train_fit = scaler.fit_transform(data)\n",
        "#norm_train = scaler.transform(train)\n",
        "norm_test = scaler.transform(test)"
      ],
      "execution_count": 138,
      "outputs": [
        {
          "output_type": "stream",
          "name": "stderr",
          "text": [
            "ERROR:root:Internal Python error in the inspect module.\n",
            "Below is the traceback from this internal error.\n",
            "\n"
          ]
        },
        {
          "output_type": "stream",
          "name": "stdout",
          "text": [
            "Traceback (most recent call last):\n",
            "  File \"/usr/local/lib/python3.7/dist-packages/IPython/core/interactiveshell.py\", line 2882, in run_code\n",
            "    exec(code_obj, self.user_global_ns, self.user_ns)\n",
            "  File \"<ipython-input-138-43c920d0274f>\", line 5, in <module>\n",
            "    norm_test = scaler.transform(test)\n",
            "  File \"/usr/local/lib/python3.7/dist-packages/sklearn/preprocessing/_data.py\", line 501, in transform\n",
            "    reset=False,\n",
            "  File \"/usr/local/lib/python3.7/dist-packages/sklearn/base.py\", line 580, in _validate_data\n",
            "    self._check_n_features(X, reset=reset)\n",
            "  File \"/usr/local/lib/python3.7/dist-packages/sklearn/base.py\", line 396, in _check_n_features\n",
            "    f\"X has {n_features} features, but {self.__class__.__name__} \"\n",
            "ValueError: X has 15 features, but MinMaxScaler is expecting 1 features as input.\n",
            "\n",
            "During handling of the above exception, another exception occurred:\n",
            "\n",
            "Traceback (most recent call last):\n",
            "  File \"/usr/local/lib/python3.7/dist-packages/IPython/core/interactiveshell.py\", line 1823, in showtraceback\n",
            "    stb = value._render_traceback_()\n",
            "AttributeError: 'ValueError' object has no attribute '_render_traceback_'\n",
            "\n",
            "During handling of the above exception, another exception occurred:\n",
            "\n",
            "Traceback (most recent call last):\n",
            "  File \"/usr/local/lib/python3.7/dist-packages/IPython/core/ultratb.py\", line 1132, in get_records\n",
            "    return _fixed_getinnerframes(etb, number_of_lines_of_context, tb_offset)\n",
            "  File \"/usr/local/lib/python3.7/dist-packages/IPython/core/ultratb.py\", line 313, in wrapped\n",
            "    return f(*args, **kwargs)\n",
            "  File \"/usr/local/lib/python3.7/dist-packages/IPython/core/ultratb.py\", line 358, in _fixed_getinnerframes\n",
            "    records = fix_frame_records_filenames(inspect.getinnerframes(etb, context))\n",
            "  File \"/usr/lib/python3.7/inspect.py\", line 1502, in getinnerframes\n",
            "    frameinfo = (tb.tb_frame,) + getframeinfo(tb, context)\n",
            "  File \"/usr/lib/python3.7/inspect.py\", line 1460, in getframeinfo\n",
            "    filename = getsourcefile(frame) or getfile(frame)\n",
            "  File \"/usr/lib/python3.7/inspect.py\", line 696, in getsourcefile\n",
            "    if getattr(getmodule(object, filename), '__loader__', None) is not None:\n",
            "  File \"/usr/lib/python3.7/inspect.py\", line 725, in getmodule\n",
            "    file = getabsfile(object, _filename)\n",
            "  File \"/usr/lib/python3.7/inspect.py\", line 709, in getabsfile\n",
            "    return os.path.normcase(os.path.abspath(_filename))\n",
            "  File \"/usr/lib/python3.7/posixpath.py\", line 383, in abspath\n",
            "    cwd = os.getcwd()\n",
            "FileNotFoundError: [Errno 2] No such file or directory\n"
          ]
        },
        {
          "output_type": "error",
          "ename": "ValueError",
          "evalue": "ignored",
          "traceback": [
            "\u001b[0;31m---------------------------------------------------------------------------\u001b[0m"
          ]
        }
      ]
    }
  ]
}