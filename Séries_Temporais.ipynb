{
  "nbformat": 4,
  "nbformat_minor": 0,
  "metadata": {
    "colab": {
      "name": "Séries Temporais",
      "provenance": [],
      "authorship_tag": "ABX9TyMCZtuhH1rV7R1HlcDcJ/2N",
      "include_colab_link": true
    },
    "kernelspec": {
      "name": "python3",
      "display_name": "Python 3"
    },
    "language_info": {
      "name": "python"
    }
  },
  "cells": [
    {
      "cell_type": "markdown",
      "metadata": {
        "id": "view-in-github",
        "colab_type": "text"
      },
      "source": [
        "<a href=\"https://colab.research.google.com/github/Le4o/topicos-avancados-ic/blob/main/S%C3%A9ries_Temporais.ipynb\" target=\"_parent\"><img src=\"https://colab.research.google.com/assets/colab-badge.svg\" alt=\"Open In Colab\"/></a>"
      ]
    },
    {
      "cell_type": "markdown",
      "metadata": {
        "id": "O4MjcM_dr10M"
      },
      "source": [
        "# Séries Temporais\n",
        "#### Exercício da matéria de Tópicos Avançados em Inteligência Computacional\n",
        "\n",
        "Grupo:\n",
        "- João Victor de Sledz Bulhões\n",
        "- Leonardo de Andrade Santana\n",
        "- Lis da Silva Azevedo"
      ]
    },
    {
      "cell_type": "markdown",
      "metadata": {
        "id": "XAcTN8mssBCC"
      },
      "source": [
        "### Definição do Exercício\n",
        "\n",
        "A atividade é **prever para as próximas 6h o valor da concentração de PM2.5**.\n",
        "Utilize os conceitos aprendidos até aqui, **testando diferentes modelos de IA** e **diferentes abordagens para conseguir prever com o melhor desempenho o valor das próximas 6h da concentração de PM2.5 para uma série histórica de sua escolha.**  \n",
        "1.   Escolha uma estação de monitoramento de uma das cidades com que irá trabalhar; \n",
        "2.   Faça uma análise exploratória dos dados, avaliando estatisticamente e graficamente como os dados se comportam;\n",
        "3.   Explore as técnicas **MLP, RNN simples, LSTM, GRU, CNN1D, FCN+LSTM e Conv2DLSTM**, utilizando a camada **TimeDistributed**;\n",
        "4.   Escolha, com base na avaliação do **loss** e das métricas **MAE, MSE, NMSE, r, R2 e Fac2** qual foi o melhor modelo (e apresente justificando a resposta);\n",
        "5.   Use o ano de 2015 somente para fins de teste.\n",
        "\n",
        "### Observação: \n",
        "*   *Apresente os resultados de forma lógica, organizada e que seja reprodutível pelo professor (linhas comentadas);*\n",
        "*   *Apresentação de métricas, gráficos, são essenciais para entendimento dos modelos e justificativas.*\n",
        "\n",
        "### Opcionais:\n",
        "\n",
        "*   Pode-se utilizar as informações meteorológicas para melhorar a qualidade do modelo final;\n",
        "*   Interessante, mas não obrigatório, a utilização de wavelets para feature augmentation.\n",
        "\n",
        "\n",
        "### Links:\n",
        "\n",
        "* [Código para o colab (referência)](https://colab.research.google.com/drive/1b5177FoO4JsyOKN8dmbmTjvPi32b95of?usp=sharing) \n",
        "\n",
        "* [Link da base de dados da atividade](hhttps://archive.ics.uci.edu/ml/datasets/PM2.5+Data+of+Five+Chinese+Cities)\n",
        "\n",
        "* [Link para download da base de dados da atividade](https://drive.google.com/file/d/19FsUZXhakjteNoC3nsqUe2aTq3s7GoQI/view?usp=drive_web&authuser=1)\n"
      ]
    }
  ]
}